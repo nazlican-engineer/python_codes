{
  "nbformat": 4,
  "nbformat_minor": 0,
  "metadata": {
    "colab": {
      "provenance": []
    },
    "kernelspec": {
      "name": "python3",
      "display_name": "Python 3"
    },
    "language_info": {
      "name": "python"
    }
  },
  "cells": [
    {
      "cell_type": "code",
      "execution_count": null,
      "metadata": {
        "colab": {
          "base_uri": "https://localhost:8080/"
        },
        "id": "MIn3VkRmDwtf",
        "outputId": "45fb562c-d8f9-449a-a588-731ecdf89af9"
      },
      "outputs": [
        {
          "output_type": "stream",
          "name": "stdout",
          "text": [
            "{'s1': {'isim': 'mete', 'yas': '34'}, 's2': {'isim': 'nazli', 'yas': '23'}}\n"
          ]
        }
      ],
      "source": [
        "sozluk1={\"isim\":\"mete\",\"yas\":\"34\"}\n",
        "sozluk2={\"isim\":\"nazli\",\"yas\":\"23\"}\n",
        "birlestir={\"s1\":sozluk1,\"s2\":sozluk2}\n",
        "print(birlestir)\n"
      ]
    },
    {
      "cell_type": "code",
      "source": [
        "sözlük={\"isim\":\"nazli\",\"yas\":25}\n",
        "sözlük[\"isim\"]"
      ],
      "metadata": {
        "colab": {
          "base_uri": "https://localhost:8080/",
          "height": 36
        },
        "id": "LmloDJwRCqpe",
        "outputId": "450bbf04-b592-4a8f-9e30-79d5f24a3207"
      },
      "execution_count": 10,
      "outputs": [
        {
          "output_type": "execute_result",
          "data": {
            "text/plain": [
              "'nazli'"
            ],
            "application/vnd.google.colaboratory.intrinsic+json": {
              "type": "string"
            }
          },
          "metadata": {},
          "execution_count": 10
        }
      ]
    },
    {
      "cell_type": "code",
      "source": [
        "sözlük.pop(\"isim\")\n"
      ],
      "metadata": {
        "colab": {
          "base_uri": "https://localhost:8080/",
          "height": 36
        },
        "id": "Yo9jaIi9CpSM",
        "outputId": "7a1505dd-9920-4890-9ce8-c6735af9d848"
      },
      "execution_count": 8,
      "outputs": [
        {
          "output_type": "execute_result",
          "data": {
            "text/plain": [
              "'nazli'"
            ],
            "application/vnd.google.colaboratory.intrinsic+json": {
              "type": "string"
            }
          },
          "metadata": {},
          "execution_count": 8
        }
      ]
    },
    {
      "cell_type": "code",
      "source": [
        "print(sözlük)"
      ],
      "metadata": {
        "colab": {
          "base_uri": "https://localhost:8080/"
        },
        "id": "4hv1_f3KDjJS",
        "outputId": "6ff6a201-a5fc-4e35-cae4-cd4c69d4def6"
      },
      "execution_count": 9,
      "outputs": [
        {
          "output_type": "stream",
          "name": "stdout",
          "text": [
            "{'yas': 25}\n"
          ]
        }
      ]
    },
    {
      "cell_type": "code",
      "source": [
        "sözlük.pop(\"nazli\")"
      ],
      "metadata": {
        "colab": {
          "base_uri": "https://localhost:8080/",
          "height": 141
        },
        "id": "nKu0MeaTDrWE",
        "outputId": "6cec4666-f918-4de6-d6a2-77ac21a72374"
      },
      "execution_count": 11,
      "outputs": [
        {
          "output_type": "error",
          "ename": "KeyError",
          "evalue": "'nazli'",
          "traceback": [
            "\u001b[0;31m---------------------------------------------------------------------------\u001b[0m",
            "\u001b[0;31mKeyError\u001b[0m                                  Traceback (most recent call last)",
            "\u001b[0;32m<ipython-input-11-b9dcfcf05084>\u001b[0m in \u001b[0;36m<cell line: 0>\u001b[0;34m()\u001b[0m\n\u001b[0;32m----> 1\u001b[0;31m \u001b[0msözlük\u001b[0m\u001b[0;34m.\u001b[0m\u001b[0mpop\u001b[0m\u001b[0;34m(\u001b[0m\u001b[0;34m\"nazli\"\u001b[0m\u001b[0;34m)\u001b[0m\u001b[0;34m\u001b[0m\u001b[0;34m\u001b[0m\u001b[0m\n\u001b[0m",
            "\u001b[0;31mKeyError\u001b[0m: 'nazli'"
          ]
        }
      ]
    },
    {
      "cell_type": "markdown",
      "source": [],
      "metadata": {
        "id": "EWfpEG_mSlgN"
      }
    },
    {
      "cell_type": "code",
      "source": [
        "sayilar={1:2,3:4,5:6}\n",
        "type(sayilar.keys())\n",
        "sayilar.keys()"
      ],
      "metadata": {
        "colab": {
          "base_uri": "https://localhost:8080/"
        },
        "id": "y_z4sIGJNEG2",
        "outputId": "7b51b972-2311-4cb3-eceb-bd08117c3805"
      },
      "execution_count": null,
      "outputs": [
        {
          "output_type": "execute_result",
          "data": {
            "text/plain": [
              "dict_keys([1, 3, 5])"
            ]
          },
          "metadata": {},
          "execution_count": 1
        }
      ]
    },
    {
      "cell_type": "code",
      "source": [
        "sayilar.values()"
      ],
      "metadata": {
        "colab": {
          "base_uri": "https://localhost:8080/"
        },
        "id": "aiTeFxP1Nk5b",
        "outputId": "12ffbcba-f861-4d2d-ab4c-932723e47892"
      },
      "execution_count": null,
      "outputs": [
        {
          "output_type": "execute_result",
          "data": {
            "text/plain": [
              "dict_values([2, 4, 6])"
            ]
          },
          "metadata": {},
          "execution_count": 8
        }
      ]
    },
    {
      "cell_type": "code",
      "source": [
        "sayilar.get(3)"
      ],
      "metadata": {
        "colab": {
          "base_uri": "https://localhost:8080/"
        },
        "id": "3iKlY6l8NYGe",
        "outputId": "a617e158-42d9-40fc-b820-b989a3a965f1"
      },
      "execution_count": null,
      "outputs": [
        {
          "output_type": "execute_result",
          "data": {
            "text/plain": [
              "4"
            ]
          },
          "metadata": {},
          "execution_count": 9
        }
      ]
    },
    {
      "cell_type": "code",
      "source": [
        "sayilar[3]"
      ],
      "metadata": {
        "colab": {
          "base_uri": "https://localhost:8080/"
        },
        "id": "sSVu2jGCNvLe",
        "outputId": "4aa50fb2-7784-4234-8bd9-e9184d6ef937"
      },
      "execution_count": null,
      "outputs": [
        {
          "output_type": "execute_result",
          "data": {
            "text/plain": [
              "4"
            ]
          },
          "metadata": {},
          "execution_count": 10
        }
      ]
    },
    {
      "cell_type": "code",
      "source": [
        "print(sayilar.get(8))#DEĞER SÖZLÜKTE YOKSA NONE DEĞERİNİ DÖNDÜRÜR..."
      ],
      "metadata": {
        "colab": {
          "base_uri": "https://localhost:8080/"
        },
        "id": "4u5Qvr3mNyPE",
        "outputId": "bcec3da8-25e7-4e3a-cb80-c135482828b9"
      },
      "execution_count": null,
      "outputs": [
        {
          "output_type": "stream",
          "name": "stdout",
          "text": [
            "None\n"
          ]
        }
      ]
    },
    {
      "cell_type": "code",
      "source": [
        "sayilar.get(3,\"değer bulunamadı\")"
      ],
      "metadata": {
        "colab": {
          "base_uri": "https://localhost:8080/"
        },
        "id": "s8RZc7jDN9g-",
        "outputId": "082dd2ff-0fab-4298-a9e6-f08deef51630"
      },
      "execution_count": null,
      "outputs": [
        {
          "output_type": "execute_result",
          "data": {
            "text/plain": [
              "4"
            ]
          },
          "metadata": {},
          "execution_count": 12
        }
      ]
    },
    {
      "cell_type": "code",
      "source": [
        "sayilar.get(8,\"değer bulunamadı\")"
      ],
      "metadata": {
        "colab": {
          "base_uri": "https://localhost:8080/",
          "height": 36
        },
        "id": "B3tvlZXOOG68",
        "outputId": "43968547-3362-40be-d5d5-34cbbbde98e5"
      },
      "execution_count": null,
      "outputs": [
        {
          "output_type": "execute_result",
          "data": {
            "text/plain": [
              "'değer bulunamadı'"
            ],
            "application/vnd.google.colaboratory.intrinsic+json": {
              "type": "string"
            }
          },
          "metadata": {},
          "execution_count": 13
        }
      ]
    },
    {
      "cell_type": "code",
      "source": [
        "sayilar"
      ],
      "metadata": {
        "colab": {
          "base_uri": "https://localhost:8080/"
        },
        "id": "N6VIu1MlOKjL",
        "outputId": "0f3281d9-9b0a-4efc-be84-bc4489d7e010"
      },
      "execution_count": null,
      "outputs": [
        {
          "output_type": "execute_result",
          "data": {
            "text/plain": [
              "{1: 2, 3: 4, 5: 6}"
            ]
          },
          "metadata": {},
          "execution_count": 14
        }
      ]
    },
    {
      "cell_type": "code",
      "source": [
        "sayilar={1:2,3:4,5:6}\n",
        "sayilar.get(3)+sayilar.get(5)#BURADA TOPLAMA İŞLEMİ  YAPAR"
      ],
      "metadata": {
        "colab": {
          "base_uri": "https://localhost:8080/"
        },
        "id": "zQJfAaFVOWXS",
        "outputId": "1749e0dd-73a2-4fb0-f86e-520bfbe24790"
      },
      "execution_count": null,
      "outputs": [
        {
          "output_type": "execute_result",
          "data": {
            "text/plain": [
              "10"
            ]
          },
          "metadata": {},
          "execution_count": 21
        }
      ]
    },
    {
      "cell_type": "code",
      "source": [
        "sayilar1={1:\"4\",3:\"5\",5:\"9\"}\n",
        "sayilar1.get(1)+sayilar1.get(3)#BURADA BİRLEŞTİRME İŞLEMİ  YAPAR"
      ],
      "metadata": {
        "colab": {
          "base_uri": "https://localhost:8080/",
          "height": 36
        },
        "id": "fBdM2VpmOpaT",
        "outputId": "41d25c31-c204-46f0-8eb1-a7b069ceecc7"
      },
      "execution_count": null,
      "outputs": [
        {
          "output_type": "execute_result",
          "data": {
            "text/plain": [
              "'45'"
            ],
            "application/vnd.google.colaboratory.intrinsic+json": {
              "type": "string"
            }
          },
          "metadata": {},
          "execution_count": 23
        }
      ]
    },
    {
      "cell_type": "code",
      "source": [
        "sayilar2={1:3,2:4,3:5}\n",
        "sayilar.clear()\n",
        "print(sayilar)#BURADA İÇİNİ TEMİZLER GERİYE SADECE PARANTEZLER KALIR"
      ],
      "metadata": {
        "colab": {
          "base_uri": "https://localhost:8080/"
        },
        "id": "16B2lULfPuRz",
        "outputId": "dacf4120-fef4-4bb4-97ef-db35dd587249"
      },
      "execution_count": null,
      "outputs": [
        {
          "output_type": "stream",
          "name": "stdout",
          "text": [
            "{}\n"
          ]
        }
      ]
    },
    {
      "cell_type": "code",
      "source": [
        "a=list(sayilar1.keys())\n",
        "print(a)\n"
      ],
      "metadata": {
        "colab": {
          "base_uri": "https://localhost:8080/"
        },
        "id": "b_uqb0K8QPmG",
        "outputId": "0f067195-c629-4380-9ead-651952cf3d38"
      },
      "execution_count": null,
      "outputs": [
        {
          "output_type": "stream",
          "name": "stdout",
          "text": [
            "[1, 3, 5]\n"
          ]
        }
      ]
    },
    {
      "cell_type": "code",
      "source": [
        "type(a)"
      ],
      "metadata": {
        "colab": {
          "base_uri": "https://localhost:8080/"
        },
        "id": "rJZLIRMmQ0_b",
        "outputId": "b3b8ecbf-30d3-4e1b-b967-84d898417d64"
      },
      "execution_count": null,
      "outputs": [
        {
          "output_type": "execute_result",
          "data": {
            "text/plain": [
              "list"
            ]
          },
          "metadata": {},
          "execution_count": 23
        }
      ]
    },
    {
      "cell_type": "code",
      "source": [
        "b=list(sayilar1.values())\n",
        "print(b)"
      ],
      "metadata": {
        "colab": {
          "base_uri": "https://localhost:8080/"
        },
        "id": "01zOc5_uRLxT",
        "outputId": "79edf48a-1e5f-440e-c007-8cdbb64bc99e"
      },
      "execution_count": null,
      "outputs": [
        {
          "output_type": "stream",
          "name": "stdout",
          "text": [
            "['4', '5', '9']\n"
          ]
        }
      ]
    },
    {
      "cell_type": "code",
      "source": [
        "sayilar1[1]=4\n",
        "sayilar1[8]=10\n",
        "print(sayilar1)"
      ],
      "metadata": {
        "colab": {
          "base_uri": "https://localhost:8080/"
        },
        "id": "h6IJQquaRVag",
        "outputId": "4f592fab-7d04-4765-fbbd-99bccd187368"
      },
      "execution_count": null,
      "outputs": [
        {
          "output_type": "stream",
          "name": "stdout",
          "text": [
            "{1: 4, 3: '5', 5: '9', 8: 10}\n"
          ]
        }
      ]
    },
    {
      "cell_type": "code",
      "source": [
        "aaa=sayilar1.copy()\n",
        "print(aaa)"
      ],
      "metadata": {
        "colab": {
          "base_uri": "https://localhost:8080/"
        },
        "id": "85sj3PTvRht8",
        "outputId": "0fe666b4-c75e-4bf4-8059-2432e87bbe2a"
      },
      "execution_count": null,
      "outputs": [
        {
          "output_type": "stream",
          "name": "stdout",
          "text": [
            "{1: '4', 3: '5', 5: '9'}\n"
          ]
        }
      ]
    },
    {
      "cell_type": "code",
      "source": [
        "sözlük = {'isim' : 'safis', 'yas': 25,'sehir':'aydın'}\n",
        "\n",
        "for i in sözlük:\n",
        "    print(i, sözlük[i])"
      ],
      "metadata": {
        "id": "zIKhybHTRobL",
        "colab": {
          "base_uri": "https://localhost:8080/"
        },
        "outputId": "7388abd4-4dda-47ac-bb9a-7d7243adc658"
      },
      "execution_count": null,
      "outputs": [
        {
          "output_type": "stream",
          "name": "stdout",
          "text": [
            "isim safis\n",
            "yas 25\n",
            "sehir aydın\n"
          ]
        }
      ]
    },
    {
      "cell_type": "code",
      "source": [
        "sözlük.values()"
      ],
      "metadata": {
        "colab": {
          "base_uri": "https://localhost:8080/"
        },
        "id": "kbDIGatmE3_F",
        "outputId": "33d81844-dd80-48cd-db5d-a43adfc141e1"
      },
      "execution_count": null,
      "outputs": [
        {
          "output_type": "execute_result",
          "data": {
            "text/plain": [
              "dict_values(['safis', 25, 'aydın'])"
            ]
          },
          "metadata": {},
          "execution_count": 8
        }
      ]
    },
    {
      "cell_type": "code",
      "source": [
        "sözlük.keys()"
      ],
      "metadata": {
        "colab": {
          "base_uri": "https://localhost:8080/"
        },
        "id": "YgyereqLFCbM",
        "outputId": "667720b0-4c1a-46ed-ad16-30465734a221"
      },
      "execution_count": null,
      "outputs": [
        {
          "output_type": "execute_result",
          "data": {
            "text/plain": [
              "dict_keys(['isim', 'yas', 'sehir'])"
            ]
          },
          "metadata": {},
          "execution_count": 9
        }
      ]
    },
    {
      "cell_type": "code",
      "source": [
        "sözlük.items()"
      ],
      "metadata": {
        "colab": {
          "base_uri": "https://localhost:8080/"
        },
        "id": "KqJOGeONFI2F",
        "outputId": "bb4eb0f0-f7ca-4ba5-ba3d-cab331be6c00"
      },
      "execution_count": null,
      "outputs": [
        {
          "output_type": "execute_result",
          "data": {
            "text/plain": [
              "dict_items([('isim', 'safis'), ('yas', 25), ('sehir', 'aydın')])"
            ]
          },
          "metadata": {},
          "execution_count": 10
        }
      ]
    },
    {
      "cell_type": "code",
      "source": [
        "import pandas as pd\n",
        "sozluk={\n",
        " \"isim\":[\"safis\",\"burak\",\"lila\",\"panter\"],\n",
        " \"yas\":[23,24,2,3],\n",
        " \"sehir\":[\"aydın\",\"samsun\",\"ilkadım\",\"nazilli\"]\n",
        "\n",
        "}\n",
        "df=pd.DataFrame(sozluk)\n",
        "df[\"maas\"]=None\n",
        "df.at[0,\"maas\"]=5000\n",
        "df.at[1,\"maas\"]=1000000\n",
        "print(df)"
      ],
      "metadata": {
        "colab": {
          "base_uri": "https://localhost:8080/"
        },
        "id": "W6cO6jzIF8eH",
        "outputId": "60a7b929-c294-4110-d084-d57a25870f66"
      },
      "execution_count": null,
      "outputs": [
        {
          "output_type": "stream",
          "name": "stdout",
          "text": [
            "     isim  yas    sehir     maas\n",
            "0   safis   23    aydın     5000\n",
            "1   burak   24   samsun  1000000\n",
            "2    lila    2  ilkadım     None\n",
            "3  panter    3  nazilli     None\n"
          ]
        }
      ]
    },
    {
      "cell_type": "code",
      "source": [
        "kisiler ={\n",
        "    'Mete': ['Basketbol','Yüzme'],\n",
        "    'Batu': ['Yürüyüş','Sinema','Kitap Okuma'],\n",
        "    'Askı': ['Yüzme'],\n",
        "    'Nazlı': ['Yürüyüş','Sinema','Dağcılık','Kitap Okuma']\n",
        "}\n",
        "#kişilerin kaç tane hobisi olduğunu sayısını sözlük şeklinde döndür\n",
        "\n",
        "hobi_sayıları = {isim: len(hobiler) for isim,hobiler in kisiler.items()}\n",
        "hobi_sayıları\n",
        "\n"
      ],
      "metadata": {
        "colab": {
          "base_uri": "https://localhost:8080/"
        },
        "id": "VHM9wUoAHD4p",
        "outputId": "b14b6a92-13dd-4d10-b1ee-f7621220a150"
      },
      "execution_count": null,
      "outputs": [
        {
          "output_type": "execute_result",
          "data": {
            "text/plain": [
              "{'Mete': 2, 'Batu': 3, 'Askı': 1, 'Nazlı': 4}"
            ]
          },
          "metadata": {},
          "execution_count": 20
        }
      ]
    },
    {
      "cell_type": "code",
      "source": [
        "kisiler ={\n",
        "    'Mete': ['Basketbol','Yüzme'],\n",
        "    'Batu': ['Yürüyüş','Sinema','Kitap Okuma'],\n",
        "    'Askı': ['Yüzme'],\n",
        "    'Nazlı': ['Yürüyüş','Sinema','Dağcılık','Kitap Okuma']\n",
        "}\n",
        "\n",
        "for i in kisiler:\n",
        "  sayac=0\n",
        "  for a in kisiler[i]:\n",
        "       sayac+=1\n",
        "       print(sayac)"
      ],
      "metadata": {
        "colab": {
          "base_uri": "https://localhost:8080/"
        },
        "id": "8-LCmhMJImpA",
        "outputId": "ac791f5e-7621-4fdd-a418-934dec1c7678"
      },
      "execution_count": null,
      "outputs": [
        {
          "output_type": "stream",
          "name": "stdout",
          "text": [
            "2\n",
            "3\n",
            "1\n",
            "4\n"
          ]
        }
      ]
    },
    {
      "cell_type": "code",
      "source": [],
      "metadata": {
        "id": "l_S7DYfEI2gq"
      },
      "execution_count": null,
      "outputs": []
    }
  ]
}