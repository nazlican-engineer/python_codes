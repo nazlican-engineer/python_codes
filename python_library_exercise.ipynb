{
  "nbformat": 4,
  "nbformat_minor": 0,
  "metadata": {
    "colab": {
      "provenance": []
    },
    "kernelspec": {
      "name": "python3",
      "display_name": "Python 3"
    },
    "language_info": {
      "name": "python"
    }
  },
  "cells": [
    {
      "cell_type": "markdown",
      "source": [
        "**Datetime**\n"
      ],
      "metadata": {
        "id": "HBl_MEo0HfyP"
      }
    },
    {
      "cell_type": "code",
      "source": [
        "from datetime import datetime"
      ],
      "metadata": {
        "id": "TOcKz2saHlx1"
      },
      "execution_count": null,
      "outputs": []
    },
    {
      "cell_type": "code",
      "source": [
        "datetime.now()"
      ],
      "metadata": {
        "id": "jPzeWInoIeLH"
      },
      "execution_count": null,
      "outputs": []
    },
    {
      "cell_type": "code",
      "source": [
        "data_science_jobs = [\n",
        "    {'job_title': 'Data Scientist', 'job_skills': \"['Python', 'SQL', 'Machine Learning']\", 'job_date': '2023-05-12'},\n",
        "    {'job_title': 'Machine Learning Engineer', 'job_skills': \"['Python', 'TensorFlow', 'Deep Learning']\", 'job_date': '2023-05-15'},\n",
        "    {'job_title': 'Data Analyst', 'job_skills': \"['SQL', 'R', 'Tableau']\", 'job_date': '2023-05-10'},\n",
        "    {'job_title': 'Business Intelligence Developer', 'job_skills': \"['SQL', 'PowerBI', 'Data Warehousing']\", 'job_date': '2023-05-13'},\n",
        "    {'job_title': 'Data Engineer', 'job_skills': \"['Python', 'Spark', 'Hadoop']\", 'job_date': '2023-05-18'},\n",
        "    {'job_title': 'AI Specialist', 'job_skills': \"['Python', 'PyTorch', 'AI Ethics']\", 'job_date': '2023-05-20'}\n",
        "]\n"
      ],
      "metadata": {
        "id": "Fe1JBV-eIkrx"
      },
      "execution_count": 2,
      "outputs": []
    },
    {
      "cell_type": "code",
      "source": [
        "data_science_jobs[0]"
      ],
      "metadata": {
        "id": "OtcIoMsFI2fJ"
      },
      "execution_count": null,
      "outputs": []
    },
    {
      "cell_type": "code",
      "source": [
        "test_date=data_science_jobs[0]['job_date']"
      ],
      "metadata": {
        "id": "oFyDNhetJA4v"
      },
      "execution_count": null,
      "outputs": []
    },
    {
      "cell_type": "markdown",
      "source": [
        "**Datetime.strptime**\n"
      ],
      "metadata": {
        "id": "oDye2HgRT9ge"
      }
    },
    {
      "cell_type": "code",
      "source": [
        "print(datetime.strptime(test_date,'%Y-%m-%d'))\n",
        "'''\n",
        "datetime.strptime(string_tarih, format)\n",
        "strptime metodu pythonda string halindeki bir ifadeyi alarak onu  datetime biçimde yazar,\n",
        "buradaki format ise benim tarihimin  hangi kısımlarını  alacağım ile ilgilidir.\n",
        "'''\n"
      ],
      "metadata": {
        "id": "GPQDG6BhJnZG"
      },
      "execution_count": null,
      "outputs": []
    },
    {
      "cell_type": "code",
      "source": [
        "from datetime import datetime\n",
        "\n",
        "for job in data_science_jobs:\n",
        "    if isinstance(job['job_date'], str):#isinstance metodu burada job['job_date'] kısmını string olarak true döndürür ve daha sonra üzerinde işlem yapar.\n",
        "    #yeniden çalıştır metodunu da kullanabilirsin.\n",
        "        job['job_date'] = datetime.strptime(job['job_date'], '%Y-%m-%d')\n",
        "    print(job['job_date'])\n"
      ],
      "metadata": {
        "id": "Y0u338wQLO0a"
      },
      "execution_count": null,
      "outputs": []
    },
    {
      "cell_type": "code",
      "source": [
        "data_science_jobs"
      ],
      "metadata": {
        "id": "6lBHw8K1R8Um"
      },
      "execution_count": null,
      "outputs": []
    },
    {
      "cell_type": "markdown",
      "source": [
        "**AST**\n",
        "->kodu  pythonun diline uygun olarak parçalar ve sonra kodu  bir ağaç  şeklinde gösterir.\n",
        "**Literal Avel**\n",
        "->Literal Avel bi yerden metin olarak gelen dosyları pythonun kullanması için\n",
        "list,dictionary vb. sözlük yapılarına dönüştürür."
      ],
      "metadata": {
        "id": "5W1DBaPMUCKG"
      }
    },
    {
      "cell_type": "code",
      "source": [
        "from ast import literal_eval\n",
        "s=\"[1,2,3]\"\n",
        "liste=literal_eval(s)\n",
        "liste\n"
      ],
      "metadata": {
        "id": "C2YQyeC0U1cU"
      },
      "execution_count": null,
      "outputs": []
    },
    {
      "cell_type": "code",
      "source": [
        "import ast\n",
        "for job in data_science_jobs:\n",
        "  job['job_skills']=ast.literal_eval(job['job_skills']) # \"['Python', 'SQL', 'Machine Learning']\"  burada bu kısım trınak içinde verilirken literal_avel metoduyşa bu string gerçek\n",
        "  #bir python listesine dönüşmüş  oluyor"
      ],
      "metadata": {
        "id": "6mTXuKanYEBG"
      },
      "execution_count": 3,
      "outputs": []
    },
    {
      "cell_type": "code",
      "source": [
        "data_science_jobs"
      ],
      "metadata": {
        "colab": {
          "base_uri": "https://localhost:8080/"
        },
        "id": "x2DaLqszYTnT",
        "outputId": "712fe03d-0800-46b6-84ab-1ba83f1a4f8f"
      },
      "execution_count": 4,
      "outputs": [
        {
          "output_type": "execute_result",
          "data": {
            "text/plain": [
              "[{'job_title': 'Data Scientist',\n",
              "  'job_skills': ['Python', 'SQL', 'Machine Learning'],\n",
              "  'job_date': '2023-05-12'},\n",
              " {'job_title': 'Machine Learning Engineer',\n",
              "  'job_skills': ['Python', 'TensorFlow', 'Deep Learning'],\n",
              "  'job_date': '2023-05-15'},\n",
              " {'job_title': 'Data Analyst',\n",
              "  'job_skills': ['SQL', 'R', 'Tableau'],\n",
              "  'job_date': '2023-05-10'},\n",
              " {'job_title': 'Business Intelligence Developer',\n",
              "  'job_skills': ['SQL', 'PowerBI', 'Data Warehousing'],\n",
              "  'job_date': '2023-05-13'},\n",
              " {'job_title': 'Data Engineer',\n",
              "  'job_skills': ['Python', 'Spark', 'Hadoop'],\n",
              "  'job_date': '2023-05-18'},\n",
              " {'job_title': 'AI Specialist',\n",
              "  'job_skills': ['Python', 'PyTorch', 'AI Ethics'],\n",
              "  'job_date': '2023-05-20'}]"
            ]
          },
          "metadata": {},
          "execution_count": 4
        }
      ]
    },
    {
      "cell_type": "code",
      "source": [],
      "metadata": {
        "id": "DSQATcNcZH4n"
      },
      "execution_count": null,
      "outputs": []
    }
  ]
}