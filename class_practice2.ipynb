{
  "nbformat": 4,
  "nbformat_minor": 0,
  "metadata": {
    "colab": {
      "provenance": []
    },
    "kernelspec": {
      "name": "python3",
      "display_name": "Python 3"
    },
    "language_info": {
      "name": "python"
    }
  },
  "cells": [
    {
      "cell_type": "code",
      "execution_count": null,
      "metadata": {
        "id": "SlE0noX48-Pi"
      },
      "outputs": [],
      "source": [
        "calisan1=[\"bilgisayar mühendisliği\",\"mete\",40,\"senior\",25000]\n",
        "calisan2=[\"yazılım mühendsliği\",\"ferhat\",45,\"junior\",15000]"
      ]
    },
    {
      "cell_type": "code",
      "source": [
        "\n",
        "class BilgisayarMühendisi:\n",
        "  ozellik = \"python biliyor\"\n",
        "\n",
        "  def __init__(self, meslek, isim, yas, pozisyon, maas):\n",
        "    self.meslek = meslek\n",
        "    self.isim = isim\n",
        "    self.yas = yas\n",
        "    self.pozisyon = pozisyon\n",
        "    self.maas = maas\n",
        "\n",
        "çalisan1 = BilgisayarMühendisi('Mühendis', 'Mete', 40, 'senior', 25000)\n",
        "çalışan2 = BilgisayarMühendisi('Mühendis', 'Ferhat', 45, 'junior', 15000) #eksik parametre girdiğin zaman hata alırsın\n",
        "\n"
      ],
      "metadata": {
        "id": "jUJSIlf49epQ"
      },
      "execution_count": 1,
      "outputs": []
    },
    {
      "cell_type": "code",
      "source": [
        "def code(çalışan):\n",
        "  return f'{çalışan[1]} kodu yazdı'\n",
        "\n",
        "çalışan3 = ['id', 'Mete', 'DiğerBilgiler']\n",
        "code(çalışan3)"
      ],
      "metadata": {
        "colab": {
          "base_uri": "https://localhost:8080/",
          "height": 36
        },
        "id": "Nm9yiIEP_Vv4",
        "outputId": "2c186635-17d4-47a8-ab89-4a60bcf52eef"
      },
      "execution_count": null,
      "outputs": [
        {
          "output_type": "execute_result",
          "data": {
            "text/plain": [
              "'Mete kodu yazdı'"
            ],
            "application/vnd.google.colaboratory.intrinsic+json": {
              "type": "string"
            }
          },
          "metadata": {},
          "execution_count": 2
        }
      ]
    },
    {
      "cell_type": "code",
      "source": [
        "# @title Varsayılan başlık metni\n",
        "class BilgisayarMühendisi:\n",
        "    \"\"\"\n",
        "    Bu satırlar, BilgisayarMühendisi adında bir sınıf (class) tanımlar.\n",
        "\n",
        "    ozellik: Bu bir sınıf değişkenidir. Yani bu sınıfa ait tüm nesneler (örnekler) bu özelliği taşır.\n",
        "\n",
        "    Her bilgisayar mühendisi varsayılan olarak \"python biliyor\" özelliğine sahiptir.\n",
        "    \"\"\"\n",
        "    ozellik = \"python biliyor\"\n",
        "\n",
        "    def __init__(self, meslek, isim, yas, pozisyon, maas):\n",
        "        self.meslek = meslek\n",
        "        self.isim = isim\n",
        "        self.yas = yas\n",
        "        self.pozisyon = pozisyon\n",
        "        self.maas = maas\n",
        "\n",
        "    def code(self, language):\n",
        "        return f'{self.isim} kodu {language} diliyle yazılmaktadır'\n",
        "\n",
        "    def __str__(self):\n",
        "        # str özel bir method, print yazdırmak için kullanıyoruz\n",
        "        bilgi = f'isim:{self.isim} yas: {self.yas} pozisyon: {self.pozisyon} maas: {self.maas}'\n",
        "        return bilgi\n",
        "\n",
        "    def __eq__(self, other):\n",
        "        # karşılaştırmak için kullanıyoruz bu class'ı\n",
        "        return self.isim == other.isim and self.yas == other.yas\n",
        "\n",
        "    @staticmethod  # Bu bir statik metottur\n",
        "    def yasagoremaas(yas):\n",
        "        if yas < 25:\n",
        "            return 10000\n",
        "        elif yas < 35:\n",
        "            return 20000\n",
        "        else:\n",
        "            return 30000\n",
        "\n",
        "'''\n",
        "STATİCMETHOD\n",
        "Eğer bir metot:\n",
        "\n",
        "Nesnenin (yani self) içindeki verilere ihtiyaç duymuyorsa,\n",
        "\n",
        "Sadece sınıfın genel bilgilerine göre bir şey yapacaksa,\n",
        "\n",
        "o zaman @staticmethod kullanılır.\n",
        "\n",
        "'''\n"
      ],
      "metadata": {
        "id": "D44RKsE6AH_w"
      },
      "execution_count": 2,
      "outputs": []
    },
    {
      "cell_type": "code",
      "source": [
        "calisan1 = BilgisayarMühendisi(\"Mühendis\", \"Mete\", 40, \"senior\", 25000)\n",
        "calisan2 = BilgisayarMühendisi(\"Mühendis\", \"Ali\", 30, \"junior\", 15000)\n",
        "\n",
        "print(calisan1.code(\"Python\"))"
      ],
      "metadata": {
        "colab": {
          "base_uri": "https://localhost:8080/"
        },
        "id": "XbzJez3OdBNr",
        "outputId": "1d290faa-c723-4328-bacf-20b912b05198"
      },
      "execution_count": null,
      "outputs": [
        {
          "output_type": "stream",
          "name": "stdout",
          "text": [
            "Mete kodu Python diliyle yazılmaktadır\n"
          ]
        }
      ]
    },
    {
      "cell_type": "code",
      "source": [
        "calisan1.__str__()#önemli bir method her şeyi getirir\n"
      ],
      "metadata": {
        "colab": {
          "base_uri": "https://localhost:8080/",
          "height": 36
        },
        "id": "d2tRMf6jCfGv",
        "outputId": "f556dd85-6781-470f-fade-dca884ef8efd"
      },
      "execution_count": null,
      "outputs": [
        {
          "output_type": "execute_result",
          "data": {
            "text/plain": [
              "'isim:Mete yas: 40 pozisyon: senior maas: 25000'"
            ],
            "application/vnd.google.colaboratory.intrinsic+json": {
              "type": "string"
            }
          },
          "metadata": {},
          "execution_count": 7
        }
      ]
    },
    {
      "cell_type": "code",
      "source": [
        "print(calisan1==calisan2)#false döndürür"
      ],
      "metadata": {
        "colab": {
          "base_uri": "https://localhost:8080/"
        },
        "id": "rL90jYg3Cm1P",
        "outputId": "b6218379-3175-4711-88f8-5d95544a3eea"
      },
      "execution_count": null,
      "outputs": [
        {
          "output_type": "stream",
          "name": "stdout",
          "text": [
            "False\n"
          ]
        }
      ]
    },
    {
      "cell_type": "code",
      "source": [
        "calisan1 = BilgisayarMühendisi('Mühendis', 'Mete', 40, 'senior', 25000)\n",
        "calisan2 = BilgisayarMühendisi('Mühendis', 'Ferhat', 45, 'junior', 15000)\n",
        "\n",
        "if calisan1 == calisan2:\n",
        "    print(\"calisanlar ayni\")\n",
        "else:\n",
        "    print(\"calisanlar farkli\")\n",
        "\n",
        "\n",
        "\n"
      ],
      "metadata": {
        "colab": {
          "base_uri": "https://localhost:8080/"
        },
        "id": "IMZ6Oo4BCy_3",
        "outputId": "f6e3d4b8-fbc4-4e26-8df8-20f2dcf453a5"
      },
      "execution_count": null,
      "outputs": [
        {
          "output_type": "stream",
          "name": "stdout",
          "text": [
            "calisanlar farkli\n"
          ]
        }
      ]
    },
    {
      "cell_type": "code",
      "source": [
        "calisan1.maas"
      ],
      "metadata": {
        "colab": {
          "base_uri": "https://localhost:8080/"
        },
        "id": "y8UVBlwXC9cx",
        "outputId": "25ae7e30-f047-4740-fad9-080d592fb364"
      },
      "execution_count": null,
      "outputs": [
        {
          "output_type": "execute_result",
          "data": {
            "text/plain": [
              "25000"
            ]
          },
          "metadata": {},
          "execution_count": 13
        }
      ]
    },
    {
      "cell_type": "code",
      "source": [
        "calisan2.maas"
      ],
      "metadata": {
        "id": "xwolGOtBCumx"
      },
      "execution_count": null,
      "outputs": []
    },
    {
      "cell_type": "code",
      "source": [
        "# Temel sınıf\n",
        "class Calisan:\n",
        "    def __init__(self, isim, yas, maas):\n",
        "        self.isim = isim\n",
        "        self.yas = yas\n",
        "        self.maas = maas\n",
        "\n",
        "    def kisi(self):\n",
        "        return f'{self.isim} adlı kişi çalışmaktadır.'\n",
        "\n",
        "# Yazılım mühendisi sınıfı, Calisan'dan miras alır\n",
        "class YazilimMuhendisi(Calisan):\n",
        "    def __init__(self, isim, yas, maas, level):\n",
        "        super().__init__(isim, yas, maas)\n",
        "        self.level = level  # düzeltildi\n",
        "\n",
        "    # Metodu override ediyoruz (ezme)\n",
        "    def kisi(self):\n",
        "        return f'{self.isim} adlı kişi kodlamaktadır. Seviyesi: {self.level}'\n",
        "\n",
        "# Designer sınıfı\n",
        "class Designer(Calisan):\n",
        "    def cizen(self):\n",
        "        return f'{self.isim} adlı kişi designerdır.'\n",
        "\n",
        "    def kisi(self):  # override\n",
        "        return f'{self.isim} adlı kişi dizayn etmektedir.'\n"
      ],
      "metadata": {
        "id": "tjaO3ge_DuyT"
      },
      "execution_count": 7,
      "outputs": []
    },
    {
      "cell_type": "code",
      "source": [
        "ym=YazilimMuhendisi(\"mete\",23,2000,\"senior\")\n"
      ],
      "metadata": {
        "id": "VYIpldUmFHCr"
      },
      "execution_count": 10,
      "outputs": []
    },
    {
      "cell_type": "code",
      "source": [
        "ym.yas"
      ],
      "metadata": {
        "colab": {
          "base_uri": "https://localhost:8080/"
        },
        "id": "i3p7lrE6FTop",
        "outputId": "fd70c627-3a3c-431b-def3-2255bcd4eb26"
      },
      "execution_count": null,
      "outputs": [
        {
          "output_type": "execute_result",
          "data": {
            "text/plain": [
              "23"
            ]
          },
          "metadata": {},
          "execution_count": 18
        }
      ]
    },
    {
      "cell_type": "code",
      "source": [
        "ym.isim"
      ],
      "metadata": {
        "colab": {
          "base_uri": "https://localhost:8080/",
          "height": 36
        },
        "id": "Hzev45BMFWBo",
        "outputId": "222b875f-eb9a-4ea7-b809-e4139fefde86"
      },
      "execution_count": 11,
      "outputs": [
        {
          "output_type": "execute_result",
          "data": {
            "text/plain": [
              "'mete'"
            ],
            "application/vnd.google.colaboratory.intrinsic+json": {
              "type": "string"
            }
          },
          "metadata": {},
          "execution_count": 11
        }
      ]
    },
    {
      "cell_type": "code",
      "source": [
        "ym.kisi()"
      ],
      "metadata": {
        "colab": {
          "base_uri": "https://localhost:8080/",
          "height": 36
        },
        "id": "Gel70EaDFYKY",
        "outputId": "e379a7fa-6b0e-411c-fece-a60c30580da1"
      },
      "execution_count": null,
      "outputs": [
        {
          "output_type": "execute_result",
          "data": {
            "text/plain": [
              "'mete adlı kişi kodlamaktadır. Seviyesi: senior'"
            ],
            "application/vnd.google.colaboratory.intrinsic+json": {
              "type": "string"
            }
          },
          "metadata": {},
          "execution_count": 20
        }
      ]
    },
    {
      "cell_type": "code",
      "source": [
        "d=Designer(\"batu\",45,3000)"
      ],
      "metadata": {
        "id": "bu7PWUwXFZ_g"
      },
      "execution_count": 12,
      "outputs": []
    },
    {
      "cell_type": "code",
      "source": [
        "d.isim"
      ],
      "metadata": {
        "colab": {
          "base_uri": "https://localhost:8080/",
          "height": 36
        },
        "id": "myNrzn5cFg4w",
        "outputId": "56d44515-500e-4e57-cb66-b6f39905b274"
      },
      "execution_count": null,
      "outputs": [
        {
          "output_type": "execute_result",
          "data": {
            "text/plain": [
              "'batu'"
            ],
            "application/vnd.google.colaboratory.intrinsic+json": {
              "type": "string"
            }
          },
          "metadata": {},
          "execution_count": 22
        }
      ]
    },
    {
      "cell_type": "code",
      "source": [
        "d.yas"
      ],
      "metadata": {
        "colab": {
          "base_uri": "https://localhost:8080/"
        },
        "id": "EHPkfHMSFiIg",
        "outputId": "330f1601-b0f9-409c-933e-efb962c3611c"
      },
      "execution_count": 13,
      "outputs": [
        {
          "output_type": "execute_result",
          "data": {
            "text/plain": [
              "45"
            ]
          },
          "metadata": {},
          "execution_count": 13
        }
      ]
    },
    {
      "cell_type": "code",
      "source": [
        "d.kisi()"
      ],
      "metadata": {
        "colab": {
          "base_uri": "https://localhost:8080/",
          "height": 36
        },
        "id": "GziJTNUXFja4",
        "outputId": "ace2865d-e984-46c9-f1b1-b251b0c1329e"
      },
      "execution_count": 14,
      "outputs": [
        {
          "output_type": "execute_result",
          "data": {
            "text/plain": [
              "'batu adlı kişi dizayn etmektedir.'"
            ],
            "application/vnd.google.colaboratory.intrinsic+json": {
              "type": "string"
            }
          },
          "metadata": {},
          "execution_count": 14
        }
      ]
    },
    {
      "cell_type": "code",
      "source": [
        "d.cizen()"
      ],
      "metadata": {
        "colab": {
          "base_uri": "https://localhost:8080/",
          "height": 36
        },
        "id": "WVQfhIaZFn2v",
        "outputId": "720f49f7-e83d-4e45-b269-006719ea63b3"
      },
      "execution_count": 15,
      "outputs": [
        {
          "output_type": "execute_result",
          "data": {
            "text/plain": [
              "'batu adlı kişi designerdır.'"
            ],
            "application/vnd.google.colaboratory.intrinsic+json": {
              "type": "string"
            }
          },
          "metadata": {},
          "execution_count": 15
        }
      ]
    },
    {
      "cell_type": "code",
      "source": [
        "calisanlar = [\n",
        "    YazilimMuhendisi(\"mete\", 30, 40000, \"senior\"),\n",
        "    YazilimMuhendisi(\"ferhat\", 30, 400000, \"senior\"),\n",
        "    Designer(\"batu\", 45, 500000)\n",
        "]\n"
      ],
      "metadata": {
        "id": "eUZOMluKFqBB"
      },
      "execution_count": 16,
      "outputs": []
    },
    {
      "cell_type": "code",
      "source": [
        "def kişiler(calışanlar:list): #bu çok önemli bir konu\n",
        "    for i in calışanlar:\n",
        "        print(i.kisi())"
      ],
      "metadata": {
        "id": "j0bivW6VGKbw"
      },
      "execution_count": 19,
      "outputs": []
    },
    {
      "cell_type": "code",
      "source": [
        "# Şimdi nesneleri oluştur ve listeye koy\n",
        "m1 = YazilimMuhendisi(\"Mete\", 25, 30000, \"Junior\")\n",
        "d1 = Designer(\"Ferhat\", 30, 25000)\n",
        "calışanlar = [m1, d1]\n",
        "\n",
        "# Fonksiyonu çağır\n",
        "kişiler(calışanlar)"
      ],
      "metadata": {
        "colab": {
          "base_uri": "https://localhost:8080/"
        },
        "id": "YjdToJIwLivS",
        "outputId": "1075e765-c111-4ae6-8cd9-256d1a3e0343"
      },
      "execution_count": 20,
      "outputs": [
        {
          "output_type": "stream",
          "name": "stdout",
          "text": [
            "Mete adlı kişi kodlamaktadır. Seviyesi: Junior\n",
            "Ferhat adlı kişi dizayn etmektedir.\n"
          ]
        }
      ]
    },
    {
      "cell_type": "code",
      "source": [
        "class SoftwareEngineer():\n",
        "\n",
        "    def __init__(self, isim, yas):\n",
        "        self.isim = isim\n",
        "        self.yas = yas\n",
        "        self.maas = None\n",
        "        self.projeSayısı = 0\n",
        "\n",
        "    def proje(self):\n",
        "        self.projeSayısı += 1  # Harf duyarlılığı düzeltildi\n",
        "\n",
        "    def maasGetir(self):\n",
        "        return self.maas\n",
        "\n",
        "    def hesapla(self, değer):\n",
        "        self.maas = self.maashesapla(değer)  # Metod adı düzeltildi\n",
        "\n",
        "    def maashesapla(self, değer):\n",
        "        if self.projeSayısı < 10:\n",
        "            return değer\n",
        "        elif self.projeSayısı > 50:\n",
        "            return değer * 2\n",
        "        else:\n",
        "            return değer * 5\n"
      ],
      "metadata": {
        "id": "SDjQ5L2bGRio"
      },
      "execution_count": 21,
      "outputs": []
    },
    {
      "cell_type": "code",
      "source": [
        "se=SoftwareEngineer('mete',30)"
      ],
      "metadata": {
        "id": "QTKYpGXzGk1w"
      },
      "execution_count": 23,
      "outputs": []
    },
    {
      "cell_type": "code",
      "source": [
        "se.isim"
      ],
      "metadata": {
        "colab": {
          "base_uri": "https://localhost:8080/",
          "height": 36
        },
        "id": "1DqbN9wZGnXK",
        "outputId": "96d11950-1c58-4842-de1d-dc4370b48d80"
      },
      "execution_count": null,
      "outputs": [
        {
          "output_type": "execute_result",
          "data": {
            "text/plain": [
              "'mete'"
            ],
            "application/vnd.google.colaboratory.intrinsic+json": {
              "type": "string"
            }
          },
          "metadata": {},
          "execution_count": 32
        }
      ]
    },
    {
      "cell_type": "code",
      "source": [
        "se.yas"
      ],
      "metadata": {
        "colab": {
          "base_uri": "https://localhost:8080/"
        },
        "id": "TKHGv6sVGpDY",
        "outputId": "7a539f55-e905-4a1e-8dca-7f4e60ba109b"
      },
      "execution_count": null,
      "outputs": [
        {
          "output_type": "execute_result",
          "data": {
            "text/plain": [
              "30"
            ]
          },
          "metadata": {},
          "execution_count": 33
        }
      ]
    },
    {
      "cell_type": "code",
      "source": [
        "se.projeSayısı"
      ],
      "metadata": {
        "colab": {
          "base_uri": "https://localhost:8080/"
        },
        "id": "vZ9Bozd5GrPB",
        "outputId": "97342cd2-862e-480f-c2a2-ff77cce402b0"
      },
      "execution_count": null,
      "outputs": [
        {
          "output_type": "execute_result",
          "data": {
            "text/plain": [
              "0"
            ]
          },
          "metadata": {},
          "execution_count": 34
        }
      ]
    },
    {
      "cell_type": "code",
      "source": [
        "se.hesapla(50000)"
      ],
      "metadata": {
        "id": "xLPFIyu5Gsqn"
      },
      "execution_count": null,
      "outputs": []
    },
    {
      "cell_type": "code",
      "source": [
        "se.maas"
      ],
      "metadata": {
        "id": "Kiw00ch3Gv_A"
      },
      "execution_count": 25,
      "outputs": []
    },
    {
      "cell_type": "code",
      "source": [
        "for i in range(70):\n",
        "    se.proje()\n",
        "se.projeSayısı"
      ],
      "metadata": {
        "colab": {
          "base_uri": "https://localhost:8080/"
        },
        "id": "2XHJ7VByGy8C",
        "outputId": "4e2e10e9-25d2-49cf-a5e7-38e60875a92c"
      },
      "execution_count": 26,
      "outputs": [
        {
          "output_type": "execute_result",
          "data": {
            "text/plain": [
              "70"
            ]
          },
          "metadata": {},
          "execution_count": 26
        }
      ]
    },
    {
      "cell_type": "code",
      "source": [
        "se.hesapla(50000)"
      ],
      "metadata": {
        "id": "DXHzlz33G0v5"
      },
      "execution_count": 28,
      "outputs": []
    },
    {
      "cell_type": "code",
      "source": [
        "se.maasGetir()"
      ],
      "metadata": {
        "colab": {
          "base_uri": "https://localhost:8080/"
        },
        "id": "ZQBdsguWG55Q",
        "outputId": "6cc01582-7fc9-495c-f7f9-82d3337ef135"
      },
      "execution_count": 29,
      "outputs": [
        {
          "output_type": "execute_result",
          "data": {
            "text/plain": [
              "100000"
            ]
          },
          "metadata": {},
          "execution_count": 29
        }
      ]
    },
    {
      "cell_type": "code",
      "source": [
        "'''\n",
        "Override (Ezme) Ne Demek?\n",
        "Override, bir üst (ana) sınıfta tanımlı metodu, alt (miras alan) sınıfta yeniden tanımlamaktır.\n",
        "\n",
        "Bu, parametreleri değiştirmek değil, davranışı (yani içeriği) değiştirmek anlamına gelir.\n",
        "'''\n",
        "class Calisan:\n",
        "    def kisi(self):\n",
        "        return \"Bu kişi bir çalışandır.\"\n",
        "\n",
        "\n",
        "class Yazilimci(Calisan):\n",
        "    def kisi(self):  # ← işte burada override yapıyoruz!\n",
        "        return \"Bu kişi bir yazılımcıdır.\"\n",
        "\n"
      ],
      "metadata": {
        "id": "Ce_5L0o-flBr"
      },
      "execution_count": null,
      "outputs": []
    }
  ]
}