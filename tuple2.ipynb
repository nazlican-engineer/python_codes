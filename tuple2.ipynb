{
  "nbformat": 4,
  "nbformat_minor": 0,
  "metadata": {
    "colab": {
      "provenance": []
    },
    "kernelspec": {
      "name": "python3",
      "display_name": "Python 3"
    },
    "language_info": {
      "name": "python"
    }
  },
  "cells": [
    {
      "cell_type": "markdown",
      "source": [
        "**TUPLE**\n"
      ],
      "metadata": {
        "id": "9uA64NuiKMGA"
      }
    },
    {
      "cell_type": "code",
      "source": [
        "#TUPLELER NORMAL PARANTEZLE LİSTELER KÖŞELİ PARANTEZLE TEMSİL EDİLİR\n",
        "\n",
        "#PARANTEZ KULLANMADAN DA YAPILIR\n"
      ],
      "metadata": {
        "id": "AzpXyuPEKNtG"
      },
      "execution_count": null,
      "outputs": []
    },
    {
      "cell_type": "code",
      "source": [
        "tuple1=(1,2,3,45,6)\n",
        "print(tuple1[1])"
      ],
      "metadata": {
        "colab": {
          "base_uri": "https://localhost:8080/"
        },
        "id": "fOZ6tdvSKd4_",
        "outputId": "f6bccd85-e6d4-4dd1-bfb8-1e0b96db49e9"
      },
      "execution_count": null,
      "outputs": [
        {
          "output_type": "stream",
          "name": "stdout",
          "text": [
            "2\n"
          ]
        }
      ]
    },
    {
      "cell_type": "code",
      "source": [
        "tuple2=\"nazli\",\"çok\",\"tatli\",\"bir\",\"kizdir\"\n",
        "print(tuple2[3])"
      ],
      "metadata": {
        "colab": {
          "base_uri": "https://localhost:8080/"
        },
        "id": "msN6Y7PLKqCK",
        "outputId": "94b9523a-5499-4d8a-b665-fc4f635fc1da"
      },
      "execution_count": null,
      "outputs": [
        {
          "output_type": "stream",
          "name": "stdout",
          "text": [
            "bir\n"
          ]
        }
      ]
    },
    {
      "cell_type": "code",
      "source": [
        "print(type(tuple2))"
      ],
      "metadata": {
        "colab": {
          "base_uri": "https://localhost:8080/"
        },
        "id": "4n0x4Ou0KV1W",
        "outputId": "c0119726-6fa4-45d3-9a32-3a6dff58d800"
      },
      "execution_count": null,
      "outputs": [
        {
          "output_type": "stream",
          "name": "stdout",
          "text": [
            "<class 'tuple'>\n"
          ]
        }
      ]
    },
    {
      "cell_type": "code",
      "source": [
        "tuple3=(\"nazli\",)#BURAYA VİRGÜL KOYDUĞUMUZDA SONRADAN ELEMAN EKLEYEBİLİRİZ BUNU GÖSTERİR"
      ],
      "metadata": {
        "id": "_083sVJZK5Ce"
      },
      "execution_count": null,
      "outputs": []
    },
    {
      "cell_type": "code",
      "source": [
        "del tuple3 #tuple3 bellekten silinir"
      ],
      "metadata": {
        "colab": {
          "base_uri": "https://localhost:8080/",
          "height": 141
        },
        "id": "hV_ffHMzLbf9",
        "outputId": "2404d540-79e1-45a8-decd-d77be8cb9b74"
      },
      "execution_count": null,
      "outputs": [
        {
          "output_type": "error",
          "ename": "NameError",
          "evalue": "name 'tuple3' is not defined",
          "traceback": [
            "\u001b[0;31m---------------------------------------------------------------------------\u001b[0m",
            "\u001b[0;31mNameError\u001b[0m                                 Traceback (most recent call last)",
            "\u001b[0;32m<ipython-input-6-5d54251bebd1>\u001b[0m in \u001b[0;36m<cell line: 0>\u001b[0;34m()\u001b[0m\n\u001b[0;32m----> 1\u001b[0;31m \u001b[0;32mdel\u001b[0m \u001b[0mtuple3\u001b[0m \u001b[0;31m#tuple3 bellekten silinir\u001b[0m\u001b[0;34m\u001b[0m\u001b[0;34m\u001b[0m\u001b[0m\n\u001b[0m",
            "\u001b[0;31mNameError\u001b[0m: name 'tuple3' is not defined"
          ]
        }
      ]
    },
    {
      "cell_type": "code",
      "source": [
        "for i in tuple2:\n",
        "  print(i)"
      ],
      "metadata": {
        "colab": {
          "base_uri": "https://localhost:8080/"
        },
        "id": "T-lU_OdZLoDR",
        "outputId": "98fbd72d-6981-4061-d165-ec618f1ac3bb"
      },
      "execution_count": null,
      "outputs": [
        {
          "output_type": "stream",
          "name": "stdout",
          "text": [
            "nazli\n",
            "çok\n",
            "tatli\n",
            "bir\n",
            "kizdir\n"
          ]
        }
      ]
    },
    {
      "cell_type": "code",
      "source": [
        "if \"mete\" in tuple2:\n",
        "  print(\"çok iyi\")\n",
        "else:\n",
        "  print(\"çok kötü\")"
      ],
      "metadata": {
        "colab": {
          "base_uri": "https://localhost:8080/"
        },
        "id": "dpmYvUi9L4bR",
        "outputId": "69eec9ff-2822-469a-8027-0d6d5a3f3de6"
      },
      "execution_count": null,
      "outputs": [
        {
          "output_type": "stream",
          "name": "stdout",
          "text": [
            "çok kötü\n"
          ]
        }
      ]
    },
    {
      "cell_type": "code",
      "source": [
        "tuple4=(1,2,3,4,5,6,7,8,1,2,3,1,3,4,5,6,6)\n",
        "print(len(tuple4))"
      ],
      "metadata": {
        "colab": {
          "base_uri": "https://localhost:8080/"
        },
        "id": "Kw-D027TM4RD",
        "outputId": "9a643cd3-387c-4c8f-a65c-1816f0ed8ec6"
      },
      "execution_count": null,
      "outputs": [
        {
          "output_type": "stream",
          "name": "stdout",
          "text": [
            "17\n"
          ]
        }
      ]
    },
    {
      "cell_type": "code",
      "source": [
        "print(tuple4.count(1))\n",
        "print(tuple4.count(11))#HATA DÖNDÜRMEZ SADECE 0 DEĞERİNİ DÖNDÜRÜR"
      ],
      "metadata": {
        "colab": {
          "base_uri": "https://localhost:8080/"
        },
        "id": "5YkhVp0sNC6T",
        "outputId": "ec3ec127-3bce-4857-b7f2-e62431da598e"
      },
      "execution_count": null,
      "outputs": [
        {
          "output_type": "stream",
          "name": "stdout",
          "text": [
            "3\n",
            "0\n"
          ]
        }
      ]
    },
    {
      "cell_type": "code",
      "source": [
        "print(tuple4.index(12))#BU İSE ELEMAN OLMADIĞINDAN DOLAYI  HATAY DÖNDÜRÜR"
      ],
      "metadata": {
        "colab": {
          "base_uri": "https://localhost:8080/",
          "height": 141
        },
        "id": "vFkmsLVsNZm8",
        "outputId": "415c728a-d3ae-40cd-e161-2864390db998"
      },
      "execution_count": null,
      "outputs": [
        {
          "output_type": "error",
          "ename": "ValueError",
          "evalue": "tuple.index(x): x not in tuple",
          "traceback": [
            "\u001b[0;31m---------------------------------------------------------------------------\u001b[0m",
            "\u001b[0;31mValueError\u001b[0m                                Traceback (most recent call last)",
            "\u001b[0;32m<ipython-input-13-a5d57f89081d>\u001b[0m in \u001b[0;36m<cell line: 0>\u001b[0;34m()\u001b[0m\n\u001b[0;32m----> 1\u001b[0;31m \u001b[0mprint\u001b[0m\u001b[0;34m(\u001b[0m\u001b[0mtuple4\u001b[0m\u001b[0;34m.\u001b[0m\u001b[0mindex\u001b[0m\u001b[0;34m(\u001b[0m\u001b[0;36m12\u001b[0m\u001b[0;34m)\u001b[0m\u001b[0;34m)\u001b[0m\u001b[0;34m\u001b[0m\u001b[0;34m\u001b[0m\u001b[0m\n\u001b[0m",
            "\u001b[0;31mValueError\u001b[0m: tuple.index(x): x not in tuple"
          ]
        }
      ]
    },
    {
      "cell_type": "code",
      "source": [
        "tuple6=(2,4)*8\n",
        "print(tuple6)"
      ],
      "metadata": {
        "colab": {
          "base_uri": "https://localhost:8080/"
        },
        "id": "fq16cSQ8Nn7l",
        "outputId": "bbae01ad-fcc9-4598-a238-8807add0dcb6"
      },
      "execution_count": null,
      "outputs": [
        {
          "output_type": "stream",
          "name": "stdout",
          "text": [
            "(2, 4, 2, 4, 2, 4, 2, 4, 2, 4, 2, 4, 2, 4, 2, 4)\n"
          ]
        }
      ]
    },
    {
      "cell_type": "code",
      "source": [
        "tuple7=(7,1,4,0,8)+(12,45,98)\n",
        "print(tuple7)"
      ],
      "metadata": {
        "colab": {
          "base_uri": "https://localhost:8080/"
        },
        "id": "1nb4aqQeOxCO",
        "outputId": "2567ae3d-9c4d-4492-f6d6-e43fd18ff69d"
      },
      "execution_count": null,
      "outputs": [
        {
          "output_type": "stream",
          "name": "stdout",
          "text": [
            "(7, 1, 4, 0, 8, 12, 45, 98)\n"
          ]
        }
      ]
    },
    {
      "cell_type": "code",
      "source": [
        "tuple8=(12,34,9,32)\n",
        "liste=list(tuple8)\n",
        "print(liste)"
      ],
      "metadata": {
        "colab": {
          "base_uri": "https://localhost:8080/"
        },
        "id": "xD3RAFw3O7wH",
        "outputId": "3201618c-1a8d-4dd6-eff4-07e36216f612"
      },
      "execution_count": null,
      "outputs": [
        {
          "output_type": "stream",
          "name": "stdout",
          "text": [
            "[12, 34, 9, 32]\n"
          ]
        }
      ]
    },
    {
      "cell_type": "code",
      "source": [
        "tuple8=(1,2,3,4,6,7,8,9,10)\n",
        "print(tuple8[:5])\n",
        "print(tuple8[1:3])\n",
        "print(tuple8[1:])\n",
        "print(tuple8[::2])\n",
        "print(tuple8[::-1])\n"
      ],
      "metadata": {
        "colab": {
          "base_uri": "https://localhost:8080/"
        },
        "id": "wLxTDzMzPSqe",
        "outputId": "eba8b3b1-a672-45e0-f02f-bbf7174ec305"
      },
      "execution_count": null,
      "outputs": [
        {
          "output_type": "stream",
          "name": "stdout",
          "text": [
            "(1, 2, 3, 4, 6)\n",
            "(2, 3)\n",
            "(2, 3, 4, 6, 7, 8, 9, 10)\n",
            "(1, 3, 6, 8, 10)\n",
            "(10, 9, 8, 7, 6, 4, 3, 2, 1)\n"
          ]
        }
      ]
    },
    {
      "cell_type": "code",
      "source": [
        "tuple9=(\"nazlican\",\"puskullu\",\"220707101\")\n",
        "ad,soyad,numara=tuple9\n",
        "print(ad)\n",
        "print(soyad)\n",
        "print(numara)"
      ],
      "metadata": {
        "colab": {
          "base_uri": "https://localhost:8080/"
        },
        "id": "uUKKFDYYPjwO",
        "outputId": "293d3b51-8d86-4593-9c06-a05909660c0b"
      },
      "execution_count": null,
      "outputs": [
        {
          "output_type": "stream",
          "name": "stdout",
          "text": [
            "nazlican\n",
            "puskullu\n",
            "220707101\n"
          ]
        }
      ]
    },
    {
      "cell_type": "code",
      "source": [
        "tuple10=(10,34,76,865,21,2334)\n",
        "bas,*orta,son=tuple10\n",
        "print(bas)\n",
        "print(orta)\n",
        "print(son)\n",
        "#BURADAKİ \"*\" İŞARETİNİN MEALİ BİRDEN FAZLA ELEMANI TUTMAK İÇİN KULLANILIR VE LİSTE ŞEKLİNDE TUTAT\n"
      ],
      "metadata": {
        "colab": {
          "base_uri": "https://localhost:8080/"
        },
        "id": "iU82xqvnQzzm",
        "outputId": "76bec9d3-f387-472b-8f3a-78660dc46d90"
      },
      "execution_count": null,
      "outputs": [
        {
          "output_type": "stream",
          "name": "stdout",
          "text": [
            "10\n",
            "[34, 76, 865, 21]\n",
            "2334\n"
          ]
        }
      ]
    },
    {
      "cell_type": "code",
      "source": [
        "tuple11=((1,2,3),(4,5,6),(7,8,9))\n",
        "print(tuple11[0][1])\n",
        "print(tuple11[0][1]=8) #TUPLELER DEĞİŞMEZLER"
      ],
      "metadata": {
        "colab": {
          "base_uri": "https://localhost:8080/",
          "height": 106
        },
        "id": "8q55t6HeRX3L",
        "outputId": "9dcd76e2-9899-428e-fb79-b42f4d9ec5c2"
      },
      "execution_count": null,
      "outputs": [
        {
          "output_type": "error",
          "ename": "SyntaxError",
          "evalue": "expression cannot contain assignment, perhaps you meant \"==\"? (<ipython-input-20-3d76c48b264e>, line 3)",
          "traceback": [
            "\u001b[0;36m  File \u001b[0;32m\"<ipython-input-20-3d76c48b264e>\"\u001b[0;36m, line \u001b[0;32m3\u001b[0m\n\u001b[0;31m    print(tuple11[0][1]=8)\u001b[0m\n\u001b[0m          ^\u001b[0m\n\u001b[0;31mSyntaxError\u001b[0m\u001b[0;31m:\u001b[0m expression cannot contain assignment, perhaps you meant \"==\"?\n"
          ]
        }
      ]
    },
    {
      "cell_type": "code",
      "source": [
        "\n",
        "import sys #BELLEKTE KAPLADIĞI ALANI BULMAK İÇİN\n",
        "liste2=[0,1,2,\"nazli\",True,3.14]\n",
        "tuple12=(0,1,2,\"nazli\",True,3.14)\n",
        "print(\"liste2 bellekte kapladığı alan:\", sys.getsizeof(liste2),\"byte\")\n",
        "print(\"tuple12 bellekte kapladığı alan:\" ,sys.getsizeof(tuple12),\"byte\")\n",
        "\n",
        "import timeit #ÇALIŞMA SÜRESİNİ ÖLÇMEK İÇİN\n",
        "print(timeit.timeit(stmt=\"[0,1,2,3,4,5]\"))\n",
        "print(timeit.timeit(stmt=(\"(0,1,2,3,4,5)\")))\n"
      ],
      "metadata": {
        "colab": {
          "base_uri": "https://localhost:8080/"
        },
        "id": "JZ98LxOtSFuT",
        "outputId": "9d0d6f74-786b-4daa-8d0b-2c901739605b"
      },
      "execution_count": null,
      "outputs": [
        {
          "output_type": "stream",
          "name": "stdout",
          "text": [
            "liste2 bellekte kapladığı alan: 104 byte\n",
            "tuple12 bellekte kapladığı alan: 88 byte\n",
            "0.10346596900001259\n",
            "0.01962764299992159\n"
          ]
        }
      ]
    }
  ]
}