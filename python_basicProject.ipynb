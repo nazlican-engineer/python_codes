{
  "nbformat": 4,
  "nbformat_minor": 0,
  "metadata": {
    "colab": {
      "provenance": []
    },
    "kernelspec": {
      "name": "python3",
      "display_name": "Python 3"
    },
    "language_info": {
      "name": "python"
    }
  },
  "cells": [
    {
      "cell_type": "code",
      "execution_count": 4,
      "metadata": {
        "colab": {
          "base_uri": "https://localhost:8080/"
        },
        "id": "6w9U5212pRNH",
        "outputId": "f016b131-ed04-43e5-b6e9-a16d76b7c259"
      },
      "outputs": [
        {
          "output_type": "stream",
          "name": "stdout",
          "text": [
            "fibonacci dizisi: [0, 1, 1, 2, 3, 5, 8, 13, 21, 34]\n"
          ]
        }
      ],
      "source": [
        "def fibonacci(n):\n",
        "  i=0\n",
        "  if n<=0:\n",
        "    return []\n",
        "  elif n==1:\n",
        "    return [0]\n",
        "  elif n==2:\n",
        "    return [0,1]\n",
        "  else:\n",
        "    fib_sequence=[0,1]\n",
        "    while i<n-2:\n",
        "      next_num=fib_sequence[-1]+fib_sequence[-2]\n",
        "      fib_sequence.append(next_num)\n",
        "      i+=1\n",
        "    return fib_sequence\n",
        "\n",
        "n=10\n",
        "fib_nums=fibonacci(n)\n",
        "print(f\"fibonacci dizisi: {fib_nums}\")"
      ]
    },
    {
      "cell_type": "code",
      "source": [
        "#bir liste içindeki çift sayıları filtreleyen bir kod yazınız.\n",
        "members=[1,2,3,4,5,6,7,8,9,10]\n",
        "filtered_numbers=list(map(lambda x:x if x%2==0 else None,members))\n",
        "\n",
        "#sonucu yazdıralım\n",
        "print(\"filtrelenmiş sayılar:\",filtered_numbers)"
      ],
      "metadata": {
        "colab": {
          "base_uri": "https://localhost:8080/"
        },
        "id": "6SRajWSItIIL",
        "outputId": "7839ba34-3262-4597-ed23-d67bb702c320"
      },
      "execution_count": 5,
      "outputs": [
        {
          "output_type": "stream",
          "name": "stdout",
          "text": [
            "filtrelenmiş sayılar: [None, 2, None, 4, None, 6, None, 8, None, 10]\n"
          ]
        }
      ]
    },
    {
      "cell_type": "code",
      "source": [
        "def toplama_ve_çarpma(a,b):\n",
        "  '''\n",
        "  verilen iki sayının toplamını ve çarpımını döndüren fonksiyon.\n",
        "\n",
        "  parameters:\n",
        "  a(int)=birinci sayi.\n",
        "  b(int)=ikinci sayi.\n",
        "  returns:\n",
        "  tuple=iki sayının toplamını ve çarpımını içeren bir tuple\n",
        "\n",
        "  '''\n",
        "  toplam=a+b\n",
        "  çarpım=a*b\n",
        "\n",
        "  return (toplam,çarpım)\n",
        "\n",
        "#çarpım sonucunu ekrana yazdırmak istiyoruz.\n",
        "sonuc=toplama_ve_çarpma(5,3)\n",
        "print(\"çarpım\",sonuc[1])"
      ],
      "metadata": {
        "colab": {
          "base_uri": "https://localhost:8080/"
        },
        "id": "4YoTDmiRuVH2",
        "outputId": "02a30f1f-951d-48d1-979e-0991c8ba5ce2"
      },
      "execution_count": 7,
      "outputs": [
        {
          "output_type": "stream",
          "name": "stdout",
          "text": [
            "çarpım 15\n"
          ]
        }
      ]
    },
    {
      "cell_type": "code",
      "source": [
        "class Çalışan:\n",
        "  def __init__(self,isim,yaş,maaş):\n",
        "    self.isim=isim\n",
        "    self.yaş=yaş\n",
        "    self.maaş=maaş\n",
        "\n",
        "  def kişi(self):\n",
        "    return f'{self.isim} bu firmada çalışmaktadır'\n",
        "\n",
        "class YazılımMuhendisi(Çalışan):\n",
        "  ozellik=\"çok iyi kod yazar\"\n",
        "\n",
        "  def __init__(self,isim,yaş,maaş,level):\n",
        "    super().__init__(isim,yaş,maaş)\n",
        "    self.level=level\n",
        "\n",
        "  def kişi(self):\n",
        "    return f'{self.isim} bu firmada koz yazmaktadır'\n",
        "\n",
        "class Tester(Çalışan):\n",
        "  def tester(self):\n",
        "    return f'{self.isim} tester olarak çalışmaktadır'\n",
        "\n",
        "  def çizem(self):\n",
        "    return f'{self.isim} firmada test mühendisliği yapmaktadır.'\n",
        "\n",
        "ym=YazılımMuhendisi(\"mete\",40,50000,\"ceo\")"
      ],
      "metadata": {
        "id": "-SYEc8H7vrt2"
      },
      "execution_count": 11,
      "outputs": []
    },
    {
      "cell_type": "code",
      "source": [
        "import sqlite3\n",
        "\n",
        "# Veritabanı bağlantısı oluştur\n",
        "conn = sqlite3.connect('mydatabase.db')\n",
        "c = conn.cursor()\n",
        "\n",
        "# Öğrenci tablosunu oluştur (eğer yoksa)\n",
        "c.execute('''CREATE TABLE IF NOT EXISTS students\n",
        "             (id INTEGER PRIMARY KEY AUTOINCREMENT,\n",
        "              name TEXT,\n",
        "              age INTEGER)''')\n",
        "\n",
        "# Tabloya veri ekle\n",
        "c.execute(\"INSERT INTO students (name, age) VALUES ('AHMET', 35)\")\n",
        "c.execute(\"INSERT INTO students (name, age) VALUES ('MEHMET', 40)\")\n",
        "c.execute(\"INSERT INTO students (name, age) VALUES ('Ahmet', 50)\")\n",
        "\n",
        "# Veritabanını kaydet ve bağlantıyı kapat\n",
        "conn.commit()\n",
        "conn.close()\n",
        "\n",
        "# Veritabanı bağlantısını tekrar aç\n",
        "conn = sqlite3.connect('mydatabase.db')\n",
        "c = conn.cursor()\n",
        "\n",
        "# Öğrenci tablosundaki tüm verileri getir\n",
        "c.execute(\"SELECT * FROM students\")\n",
        "result = c.fetchall()#fetchall sorgu sonucunu almak için kullanıldı\n",
        "\n",
        "# Bağlantıyı kapat\n",
        "conn.close()\n",
        "\n",
        "# Öğrenci sayısını yazdır\n",
        "print(\"Veritabanındaki öğrenci sayısı:\", len(result))\n",
        "\n"
      ],
      "metadata": {
        "colab": {
          "base_uri": "https://localhost:8080/"
        },
        "id": "Knbja39q1UN_",
        "outputId": "d4b9920a-006d-443c-ebff-09681b281f43"
      },
      "execution_count": 16,
      "outputs": [
        {
          "output_type": "stream",
          "name": "stdout",
          "text": [
            "Veritabanındaki öğrenci sayısı: 3\n"
          ]
        }
      ]
    },
    {
      "cell_type": "code",
      "source": [
        "# Bir liste tanımlayalım\n",
        "liste = [3, 7, 9, 12, 15]\n",
        "\n",
        "# Liste üzerinde dolaşan bir for döngüsü oluşturalım\n",
        "for i in liste:\n",
        "    bolenler = []\n",
        "    for j in range(1, i + 1):  # 1'den sayının kendisine kadar\n",
        "        if i % j == 0:\n",
        "            bolenler.append(j)  # j sayının bölenidir\n",
        "    print(\"Sayı:\", i, \"Bölenleri:\", bolenler)\n"
      ],
      "metadata": {
        "colab": {
          "base_uri": "https://localhost:8080/"
        },
        "id": "gKx-tZsrxm29",
        "outputId": "0dbd7ce5-1029-46e7-fc07-18f89cd17d18"
      },
      "execution_count": 26,
      "outputs": [
        {
          "output_type": "stream",
          "name": "stdout",
          "text": [
            "Sayı: 3 Bölenleri: [1, 3]\n",
            "Sayı: 7 Bölenleri: [1, 7]\n",
            "Sayı: 9 Bölenleri: [1, 3, 9]\n",
            "Sayı: 12 Bölenleri: [1, 2, 3, 4, 6, 12]\n",
            "Sayı: 15 Bölenleri: [1, 3, 5, 15]\n"
          ]
        }
      ]
    },
    {
      "cell_type": "code",
      "source": [
        "#bir başlangıç değeri tanıımlayalım\n",
        "sayı=123456789\n",
        "\n",
        "#while döngüsü oluşturalım\n",
        "while sayı>0:\n",
        "  #buraya tamamlanması gereken kodu ekleyelin\n",
        "  basamak_toplam=0\n",
        "  geçici=sayı\n",
        "  while geçici>0:\n",
        "    deger=geçici%10\n",
        "    basamak_toplam+=deger\n",
        "    geçici//=10\n",
        "  print(\"sayı:\",sayı,\"basamak toplamı:\",basamak_toplam)\n",
        "  sayı//=10"
      ],
      "metadata": {
        "colab": {
          "base_uri": "https://localhost:8080/"
        },
        "id": "UwvaXD4c9tII",
        "outputId": "84b4d51e-f6d4-466f-c465-5da77e3c4bc4"
      },
      "execution_count": 27,
      "outputs": [
        {
          "output_type": "stream",
          "name": "stdout",
          "text": [
            "sayı: 123456789 basamak toplamı: 45\n",
            "sayı: 12345678 basamak toplamı: 36\n",
            "sayı: 1234567 basamak toplamı: 28\n",
            "sayı: 123456 basamak toplamı: 21\n",
            "sayı: 12345 basamak toplamı: 15\n",
            "sayı: 1234 basamak toplamı: 10\n",
            "sayı: 123 basamak toplamı: 6\n",
            "sayı: 12 basamak toplamı: 3\n",
            "sayı: 1 basamak toplamı: 1\n"
          ]
        }
      ]
    },
    {
      "cell_type": "code",
      "source": [
        "def sum_of_divisors(n):\n",
        "    divisors = []\n",
        "    for i in range(1, n):\n",
        "        if n % i == 0:\n",
        "            divisors.append(i)\n",
        "    return sum(divisors)\n",
        "\n",
        "def find_amicable_numbers(start, end):\n",
        "    amicable_pairs = []\n",
        "    for num in range(start, end + 1):\n",
        "        divisor_sum = sum_of_divisors(num)\n",
        "        if sum_of_divisors(divisor_sum) == num and divisor_sum != num:\n",
        "            pair = (num, divisor_sum)\n",
        "            amicable_pairs.append(pair)\n",
        "    return amicable_pairs\n",
        "\n",
        "start_num = 200\n",
        "end_num = 1000\n",
        "amicable_nums = find_amicable_numbers(start_num, end_num)\n",
        "print(f\"Dost sayılar aralığı ({start_num} - {end_num}): {amicable_nums}\")\n"
      ],
      "metadata": {
        "colab": {
          "base_uri": "https://localhost:8080/"
        },
        "id": "C6y_N8fa_aR4",
        "outputId": "17807a20-148e-4e0b-f64f-159403a49c2a"
      },
      "execution_count": 29,
      "outputs": [
        {
          "output_type": "stream",
          "name": "stdout",
          "text": [
            "Dost sayılar aralığı (200 - 1000): [(220, 284), (284, 220)]\n"
          ]
        }
      ]
    },
    {
      "cell_type": "code",
      "source": [
        "class Calisan:\n",
        "  def __init__(self,isim):\n",
        "    self.isim=isim\n",
        "\n",
        "  def rol(self):\n",
        "    return f'{self.isim},firma çalışanıdır'\n",
        "\n",
        "class Gelisterici(Calisan):\n",
        "  def rol(self):\n",
        "    return f'{self.isim},geliştirici olarak çalışmaktadır.'\n",
        "\n",
        "class KıdemliGelistrici(Gelisterici):\n",
        "  def rol(self):\n",
        "    return f'{self.isim},kıdemli geliştirici olarak çalışmaktadır'\n",
        "\n",
        "class Stajyer(Gelisterici):\n",
        "  def rol(self):\n",
        "    return super().rol()\n",
        "\n",
        "class CEO(Calisan):\n",
        "  pass\n",
        "\n",
        "kisi1=KıdemliGelistrici(\"Ayşe\")\n",
        "kisi2=Stajyer(\"Ahmet\")\n",
        "kisi3=CEO(\"Mehmet\")\n",
        "\n",
        "print(kisi1.rol())\n",
        "print(kisi2.rol())\n",
        "print(kisi3.rol())"
      ],
      "metadata": {
        "colab": {
          "base_uri": "https://localhost:8080/"
        },
        "id": "opnGYjaKCIZA",
        "outputId": "8ea1c614-0e3b-40f6-8d64-28321e8b5683"
      },
      "execution_count": 31,
      "outputs": [
        {
          "output_type": "stream",
          "name": "stdout",
          "text": [
            "Ayşe,kıdemli geliştirici olarak çalışmaktadır\n",
            "Ahmet,geliştirici olarak çalışmaktadır.\n",
            "Mehmet,firma çalışanıdır\n"
          ]
        }
      ]
    },
    {
      "cell_type": "markdown",
      "source": [
        "Python da constructor bir sınıfın örneklerinden başlangıç değerlerini ayarlamak için kullanır.\n",
        "\n",
        "ppythonda bir web sitesinden bulunan tablo verisini alarak projemize kullanmak için hangi kütüphaneyi projemize dahil etmemiz lazım=Pandas,Requests"
      ],
      "metadata": {
        "id": "mB-hufYLEHSO"
      }
    }
  ]
}