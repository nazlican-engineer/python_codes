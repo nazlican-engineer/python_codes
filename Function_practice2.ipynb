{
  "nbformat": 4,
  "nbformat_minor": 0,
  "metadata": {
    "colab": {
      "provenance": []
    },
    "kernelspec": {
      "name": "python3",
      "display_name": "Python 3"
    },
    "language_info": {
      "name": "python"
    }
  },
  "cells": [
    {
      "cell_type": "code",
      "source": [
        "def ikikati(x):\n",
        "  return x*2\n",
        "def bircikar(x):\n",
        "  return x-1\n",
        "def kareal(x):\n",
        "  return x*x\n",
        "\n",
        "import math\n",
        "fonksiyonlarlistesi=[\n",
        "    ikikati,\n",
        "    bircikar,\n",
        "    kareal,\n",
        "    math.sqrt\n",
        "]\n",
        "\n",
        "sayi=5\n",
        "for i in fonksiyonlarlistesi:\n",
        "  sayi=i(sayi)\n",
        "  '''\n",
        "  burada sayi=i(sayi) burada demek istenilen sayi=ikikati(sayi)\n",
        "\n",
        "  '''\n",
        "  print(sayi)"
      ],
      "metadata": {
        "colab": {
          "base_uri": "https://localhost:8080/"
        },
        "id": "d6dyfk3GlMjr",
        "outputId": "1196ed2e-5cd8-4311-9b99-b99e765bc6a8"
      },
      "execution_count": 2,
      "outputs": [
        {
          "output_type": "stream",
          "name": "stdout",
          "text": [
            "10\n",
            "9\n",
            "81\n",
            "9.0\n"
          ]
        }
      ]
    },
    {
      "cell_type": "code",
      "source": [
        "def yazdır():\n",
        "  def yazıcı():\n",
        "    print(\"merhaba dünya\")\n",
        "  return yazıcı\n",
        "\n",
        "sonuc=yazdır()\n",
        "sonuc()"
      ],
      "metadata": {
        "colab": {
          "base_uri": "https://localhost:8080/"
        },
        "id": "SUya9CWinNUs",
        "outputId": "93d61d83-8db1-4fb3-ac8f-ab665a83dc7e"
      },
      "execution_count": 3,
      "outputs": [
        {
          "output_type": "stream",
          "name": "stdout",
          "text": [
            "merhaba dünya\n"
          ]
        }
      ]
    },
    {
      "cell_type": "code",
      "source": [
        "def carp(a):\n",
        "  def carpma(x):\n",
        "    return a*x\n",
        "  return carpma\n",
        "\n",
        "sonuc1=carp(1)\n",
        "sonuc2=carp(2)\n",
        "sonuc3=carp(3)\n",
        "\n",
        "print(sonuc1(2))\n",
        "print(sonuc2(3))\n"
      ],
      "metadata": {
        "colab": {
          "base_uri": "https://localhost:8080/"
        },
        "id": "LZZ0Fn8_ngoF",
        "outputId": "509ba8fb-0a79-41c9-8e0e-f8e287262500"
      },
      "execution_count": 5,
      "outputs": [
        {
          "output_type": "stream",
          "name": "stdout",
          "text": [
            "2\n",
            "6\n"
          ]
        }
      ]
    },
    {
      "cell_type": "code",
      "source": [
        "liste=[0,1,2,3,4,5,6,7,8,9]\n",
        "\n",
        "kareliste=[]\n",
        "for i in liste:\n",
        "  kareliste.append(i*2)\n",
        "print(kareliste)"
      ],
      "metadata": {
        "colab": {
          "base_uri": "https://localhost:8080/"
        },
        "id": "ZR_DCD9hoGd8",
        "outputId": "06e7022e-59a8-4eca-bfb4-9f8e70a828ba"
      },
      "execution_count": 7,
      "outputs": [
        {
          "output_type": "stream",
          "name": "stdout",
          "text": [
            "[0, 2, 4, 6, 8, 10, 12, 14, 16, 18]\n"
          ]
        }
      ]
    },
    {
      "cell_type": "code",
      "source": [
        "def karehesapla(x):\n",
        "  return x*2 #buradaki kod listeyi  iki defa ekrana yazdırır yani [1,2,3]*2 yi tek bir liste halinde [1,2,3,1,2,3]\n",
        "karehesapla(kareliste)"
      ],
      "metadata": {
        "colab": {
          "base_uri": "https://localhost:8080/"
        },
        "id": "ItuMOoAloXQ7",
        "outputId": "bac86bcd-971a-4fc1-ba21-e173039d033f"
      },
      "execution_count": 8,
      "outputs": [
        {
          "output_type": "execute_result",
          "data": {
            "text/plain": [
              "[0, 2, 4, 6, 8, 10, 12, 14, 16, 18, 0, 2, 4, 6, 8, 10, 12, 14, 16, 18]"
            ]
          },
          "metadata": {},
          "execution_count": 8
        }
      ]
    },
    {
      "cell_type": "code",
      "source": [
        "def karehesapla(x):\n",
        "  return x**2 # ** sayısal değerleri çin geçerlidir liste için değil\n",
        "karehesapla(kareliste)\n"
      ],
      "metadata": {
        "colab": {
          "base_uri": "https://localhost:8080/",
          "height": 263
        },
        "id": "EXmuPbBKpNWl",
        "outputId": "8fa9f352-c496-4c3b-9542-ac0be9ec29bf"
      },
      "execution_count": 9,
      "outputs": [
        {
          "output_type": "error",
          "ename": "TypeError",
          "evalue": "unsupported operand type(s) for ** or pow(): 'list' and 'int'",
          "traceback": [
            "\u001b[0;31m---------------------------------------------------------------------------\u001b[0m",
            "\u001b[0;31mTypeError\u001b[0m                                 Traceback (most recent call last)",
            "\u001b[0;32m<ipython-input-9-4db05dbe2ca1>\u001b[0m in \u001b[0;36m<cell line: 0>\u001b[0;34m()\u001b[0m\n\u001b[1;32m      1\u001b[0m \u001b[0;32mdef\u001b[0m \u001b[0mkarehesapla\u001b[0m\u001b[0;34m(\u001b[0m\u001b[0mx\u001b[0m\u001b[0;34m)\u001b[0m\u001b[0;34m:\u001b[0m\u001b[0;34m\u001b[0m\u001b[0;34m\u001b[0m\u001b[0m\n\u001b[1;32m      2\u001b[0m   \u001b[0;32mreturn\u001b[0m \u001b[0mx\u001b[0m\u001b[0;34m**\u001b[0m\u001b[0;36m2\u001b[0m\u001b[0;34m\u001b[0m\u001b[0;34m\u001b[0m\u001b[0m\n\u001b[0;32m----> 3\u001b[0;31m \u001b[0mkarehesapla\u001b[0m\u001b[0;34m(\u001b[0m\u001b[0mkareliste\u001b[0m\u001b[0;34m)\u001b[0m\u001b[0;34m\u001b[0m\u001b[0;34m\u001b[0m\u001b[0m\n\u001b[0m",
            "\u001b[0;32m<ipython-input-9-4db05dbe2ca1>\u001b[0m in \u001b[0;36mkarehesapla\u001b[0;34m(x)\u001b[0m\n\u001b[1;32m      1\u001b[0m \u001b[0;32mdef\u001b[0m \u001b[0mkarehesapla\u001b[0m\u001b[0;34m(\u001b[0m\u001b[0mx\u001b[0m\u001b[0;34m)\u001b[0m\u001b[0;34m:\u001b[0m\u001b[0;34m\u001b[0m\u001b[0;34m\u001b[0m\u001b[0m\n\u001b[0;32m----> 2\u001b[0;31m   \u001b[0;32mreturn\u001b[0m \u001b[0mx\u001b[0m\u001b[0;34m**\u001b[0m\u001b[0;36m2\u001b[0m\u001b[0;34m\u001b[0m\u001b[0;34m\u001b[0m\u001b[0m\n\u001b[0m\u001b[1;32m      3\u001b[0m \u001b[0mkarehesapla\u001b[0m\u001b[0;34m(\u001b[0m\u001b[0mkareliste\u001b[0m\u001b[0;34m)\u001b[0m\u001b[0;34m\u001b[0m\u001b[0;34m\u001b[0m\u001b[0m\n",
            "\u001b[0;31mTypeError\u001b[0m: unsupported operand type(s) for ** or pow(): 'list' and 'int'"
          ]
        }
      ]
    },
    {
      "cell_type": "code",
      "source": [
        "karehesaplasonuc=list(map(karehesapla,liste))\n",
        "print(karehesaplasonuc)\n",
        "\n",
        "'''\n",
        "karehesapla fonksiyonu var, bu fonksiyon her elemana uygulanacak.\n",
        "\n",
        "liste adlı bir liste var, örneğin [1, 2, 3].\n",
        "\n",
        "map(karehesapla, liste) ifadesi liste içindeki her elemana karehesapla fonksiyonunu uygular.\n",
        "\n",
        "list() ile bu sonucu listeye dönüştürüyorsun, çünkü map direkt liste döndürmez.\n",
        "\n",
        "'''"
      ],
      "metadata": {
        "colab": {
          "base_uri": "https://localhost:8080/",
          "height": 70
        },
        "id": "5VIZfSnTpxsF",
        "outputId": "f5af3442-530b-4e04-8672-877fdcf41cf4"
      },
      "execution_count": 11,
      "outputs": [
        {
          "output_type": "stream",
          "name": "stdout",
          "text": [
            "[0, 1, 4, 9, 16, 25, 36, 49, 64, 81]\n"
          ]
        },
        {
          "output_type": "execute_result",
          "data": {
            "text/plain": [
              "'\\nkarehesapla fonksiyonu var, bu fonksiyon her elemana uygulanacak.\\n\\nliste adlı bir liste var, örneğin [1, 2, 3].\\n\\nmap(karehesapla, liste) ifadesi liste içindeki her elemana karehesapla fonksiyonunu uygular.\\n\\nlist() ile bu sonucu listeye dönüştürüyorsun, çünkü map direkt liste döndürmez.\\n\\n'"
            ],
            "application/vnd.google.colaboratory.intrinsic+json": {
              "type": "string"
            }
          },
          "metadata": {},
          "execution_count": 11
        }
      ]
    },
    {
      "cell_type": "code",
      "source": [
        "#liste,tuple,dict gibi yapılarda bu şekilde map kullanmamız lazım,tek başına kullanılmaz"
      ],
      "metadata": {
        "id": "x4Fv-tCMqcXd"
      },
      "execution_count": null,
      "outputs": []
    },
    {
      "cell_type": "code",
      "source": [
        "karehesapla1=lambda x:x*2\n",
        "karehesapla1(liste)\n",
        "\n",
        "'''\n",
        "Lambda ifadesinin amacı:\n",
        "Tek satırda kısa ve hızlı fonksiyon tanımlamak.\n",
        "\n",
        "İsmine gerek olmayan, genellikle bir kere kullanılacak fonksiyonlar yapmak.\n",
        "'''\n"
      ],
      "metadata": {
        "colab": {
          "base_uri": "https://localhost:8080/"
        },
        "id": "fREhhNZ-qua0",
        "outputId": "5589b76d-ce72-45ee-e5f1-404f7b2830d5"
      },
      "execution_count": 12,
      "outputs": [
        {
          "output_type": "execute_result",
          "data": {
            "text/plain": [
              "[0, 1, 2, 3, 4, 5, 6, 7, 8, 9, 0, 1, 2, 3, 4, 5, 6, 7, 8, 9]"
            ]
          },
          "metadata": {},
          "execution_count": 12
        }
      ]
    },
    {
      "cell_type": "code",
      "source": [
        "def carpmayap(a):\n",
        "  return lambda x:x*a\n",
        "\n",
        "a=carpmayap(10)\n",
        "a(5)"
      ],
      "metadata": {
        "colab": {
          "base_uri": "https://localhost:8080/"
        },
        "id": "yzYZi-Evr4gW",
        "outputId": "428b5c5c-63ec-4724-dddc-50e3afb573dc"
      },
      "execution_count": 13,
      "outputs": [
        {
          "output_type": "execute_result",
          "data": {
            "text/plain": [
              "50"
            ]
          },
          "metadata": {},
          "execution_count": 13
        }
      ]
    },
    {
      "cell_type": "code",
      "source": [
        "from math import sqrt\n",
        "sqrt(float(int(\"16\")))"
      ],
      "metadata": {
        "colab": {
          "base_uri": "https://localhost:8080/"
        },
        "id": "nOqS2Px3sL3M",
        "outputId": "837740cd-6143-4ced-8520-2b99981ed033"
      },
      "execution_count": 14,
      "outputs": [
        {
          "output_type": "execute_result",
          "data": {
            "text/plain": [
              "4.0"
            ]
          },
          "metadata": {},
          "execution_count": 14
        }
      ]
    },
    {
      "cell_type": "code",
      "source": [
        "sqrt(int(\"16\")) #sqrt her türlü float değerler döndürür"
      ],
      "metadata": {
        "colab": {
          "base_uri": "https://localhost:8080/"
        },
        "id": "5O9zYNiUr0Nt",
        "outputId": "9f39298a-f67f-45e8-c447-ccf9aafcf3ea"
      },
      "execution_count": 15,
      "outputs": [
        {
          "output_type": "execute_result",
          "data": {
            "text/plain": [
              "4.0"
            ]
          },
          "metadata": {},
          "execution_count": 15
        }
      ]
    },
    {
      "cell_type": "code",
      "source": [
        "#kodun çalışma süresini hesaplama\n",
        "from datetime import datetime\n",
        "baslangiczamani=datetime.now()\n",
        "print(2+4)\n",
        "bitiszamani=datetime.now()\n",
        "gecensure=bitiszamani-baslangiczamani\n",
        "print(gecensure)\n"
      ],
      "metadata": {
        "colab": {
          "base_uri": "https://localhost:8080/"
        },
        "id": "S8TgRS7zsjO8",
        "outputId": "8c4e688e-3a68-4f0d-b7e6-2307258b27a8"
      },
      "execution_count": 17,
      "outputs": [
        {
          "output_type": "stream",
          "name": "stdout",
          "text": [
            "6\n",
            "0:00:00.000135\n"
          ]
        }
      ]
    },
    {
      "cell_type": "code",
      "source": [
        "from datetime import datetime\n",
        "baslangiczamani=datetime.now()\n",
        "toplam=0\n",
        "for i in range(1,100):\n",
        "  toplam+=i\n",
        "  for j in range(1,100):\n",
        "    toplam+=j\n",
        "\n",
        "bitiszamani=datetime.now()\n",
        "gecensure=bitiszamani-baslangiczamani\n",
        "print(gecensure)"
      ],
      "metadata": {
        "colab": {
          "base_uri": "https://localhost:8080/"
        },
        "id": "SHCwSWnZw4tx",
        "outputId": "3e865095-c384-4839-d720-4d5e4b4db32e"
      },
      "execution_count": 20,
      "outputs": [
        {
          "output_type": "stream",
          "name": "stdout",
          "text": [
            "0:00:00.001291\n"
          ]
        }
      ]
    },
    {
      "cell_type": "code",
      "source": [
        "def ebobubul(sayi1,sayi2):\n",
        "  if sayi1>sayi2:\n",
        "    sayi1,sayi2=sayi2,sayi1\n",
        "  for i in range(sayi1,0,-1):\n",
        "    if sayi1 % i==0 and sayi2%i ==0:\n",
        "      return i\n",
        "  return i\n",
        "\n",
        "ebobubul(11,22)"
      ],
      "metadata": {
        "colab": {
          "base_uri": "https://localhost:8080/"
        },
        "id": "dZsbSV9Yxrq5",
        "outputId": "12d30853-dcf1-4970-89c8-2b9c0b1bcb3c"
      },
      "execution_count": 22,
      "outputs": [
        {
          "output_type": "execute_result",
          "data": {
            "text/plain": [
              "11"
            ]
          },
          "metadata": {},
          "execution_count": 22
        }
      ]
    },
    {
      "cell_type": "code",
      "source": [
        "def ebobhesapla(sayi1, sayi2):\n",
        "    minsayi = sayi1\n",
        "    if sayi1 > sayi2:\n",
        "        minsayi = sayi2\n",
        "\n",
        "    ebob = 1\n",
        "    for i in range(minsayi, 0, -1):\n",
        "        if sayi1 % i == 0 and sayi2 % i == 0:\n",
        "            ebob = i\n",
        "            break\n",
        "    return ebob\n",
        "\n",
        "def sayi_gir():\n",
        "    return int(input(\"Bir sayi gir: \"))\n",
        "\n",
        "def main():\n",
        "    sayi1 = sayi_gir()\n",
        "    sayi2 = sayi_gir()\n",
        "    ebobsonuc = ebobhesapla(sayi1, sayi2)\n",
        "    print(ebobsonuc)\n",
        "\n",
        "if __name__ == \"__main__\":\n",
        "    main()\n"
      ],
      "metadata": {
        "colab": {
          "base_uri": "https://localhost:8080/"
        },
        "id": "GvLJZEWGymq6",
        "outputId": "8bac7e96-8612-4d15-874c-fe58324ac4b6"
      },
      "execution_count": 25,
      "outputs": [
        {
          "output_type": "stream",
          "name": "stdout",
          "text": [
            "Bir sayi gir: 12\n",
            "Bir sayi gir: 8\n",
            "4\n"
          ]
        }
      ]
    },
    {
      "cell_type": "code",
      "source": [
        "def toplamkareleribul(sayılar):\n",
        "  filtrelendi=filter(lambda x: 10<=x <=20,sayılar)\n",
        "\n",
        "  kareler=map(lambda x:x**2,filtrelendi)\n",
        "\n",
        "  toplam=sum(kareler)\n",
        "  return toplam\n",
        "\n",
        "liste=[5,12,17,23,30,8,14]\n",
        "sonuc=toplamkareleribul(liste)\n",
        "print(sonuc)"
      ],
      "metadata": {
        "colab": {
          "base_uri": "https://localhost:8080/"
        },
        "id": "_UbgaUFM00pj",
        "outputId": "a1b5d990-170f-42a4-8028-373a37147741"
      },
      "execution_count": 27,
      "outputs": [
        {
          "output_type": "stream",
          "name": "stdout",
          "text": [
            "629\n"
          ]
        }
      ]
    },
    {
      "cell_type": "code",
      "source": [
        "def yazdır():\n",
        "  def yazıcı():\n",
        "    print(\"merhaba dünya\")\n",
        "  return yazıcı\n",
        "\n",
        "sonuc=yazdır()\n",
        "sonuc()"
      ],
      "metadata": {
        "colab": {
          "base_uri": "https://localhost:8080/"
        },
        "id": "-fxKnB7TwzZh",
        "outputId": "d6a9ccdf-c6ee-430f-eff4-325f1402550a"
      },
      "execution_count": 29,
      "outputs": [
        {
          "output_type": "stream",
          "name": "stdout",
          "text": [
            "merhaba dünya\n"
          ]
        }
      ]
    },
    {
      "cell_type": "code",
      "source": [
        "liste1=[1,2,3]\n",
        "liste2=[10,20,30]\n",
        "a=10\n",
        "for i in liste1:\n",
        "  for j in liste2:\n",
        "    if j>i:\n",
        "      a=a+i\n",
        "\n",
        "print(a)"
      ],
      "metadata": {
        "colab": {
          "base_uri": "https://localhost:8080/"
        },
        "id": "oCeqEvm-sWtk",
        "outputId": "ed3f3260-6b15-495e-83c7-c4d272c9112a"
      },
      "execution_count": 31,
      "outputs": [
        {
          "output_type": "stream",
          "name": "stdout",
          "text": [
            "28\n"
          ]
        }
      ]
    },
    {
      "cell_type": "code",
      "source": [
        "liste=[1,2,3]\n",
        "liste[10]=3 #böyle bi indis olmadığı için hata verir\n"
      ],
      "metadata": {
        "colab": {
          "base_uri": "https://localhost:8080/",
          "height": 158
        },
        "id": "oGd4NToU31G6",
        "outputId": "96f16b3e-9c33-4245-8362-ad079b6e4019"
      },
      "execution_count": 32,
      "outputs": [
        {
          "output_type": "error",
          "ename": "IndexError",
          "evalue": "list assignment index out of range",
          "traceback": [
            "\u001b[0;31m---------------------------------------------------------------------------\u001b[0m",
            "\u001b[0;31mIndexError\u001b[0m                                Traceback (most recent call last)",
            "\u001b[0;32m<ipython-input-32-2af8909d8259>\u001b[0m in \u001b[0;36m<cell line: 0>\u001b[0;34m()\u001b[0m\n\u001b[1;32m      1\u001b[0m \u001b[0mliste\u001b[0m\u001b[0;34m=\u001b[0m\u001b[0;34m[\u001b[0m\u001b[0;36m1\u001b[0m\u001b[0;34m,\u001b[0m\u001b[0;36m2\u001b[0m\u001b[0;34m,\u001b[0m\u001b[0;36m3\u001b[0m\u001b[0;34m]\u001b[0m\u001b[0;34m\u001b[0m\u001b[0;34m\u001b[0m\u001b[0m\n\u001b[0;32m----> 2\u001b[0;31m \u001b[0mliste\u001b[0m\u001b[0;34m[\u001b[0m\u001b[0;36m10\u001b[0m\u001b[0;34m]\u001b[0m\u001b[0;34m=\u001b[0m\u001b[0;36m3\u001b[0m\u001b[0;34m\u001b[0m\u001b[0;34m\u001b[0m\u001b[0m\n\u001b[0m",
            "\u001b[0;31mIndexError\u001b[0m: list assignment index out of range"
          ]
        }
      ]
    },
    {
      "cell_type": "code",
      "source": [
        "def ebobbul(sayi1,sayi2):\n",
        "  if sayi1>sayi2:\n",
        "    sayi1,sayi2=sayi2,sayi1\n",
        "  for i in range(0,sayi2+1):#0 böldüğü için sıfıra bölme hatası çıkıyor\n",
        "    if sayi1 %i == 0 and sayi2 %i == 0:\n",
        "      return i\n",
        "  return i\n",
        "\n",
        "ebobbul(22,11)"
      ],
      "metadata": {
        "colab": {
          "base_uri": "https://localhost:8080/"
        },
        "id": "tnaYm8pG4FTZ",
        "outputId": "150aafbb-1a57-47df-d211-90de4caaddb7"
      },
      "execution_count": 36,
      "outputs": [
        {
          "output_type": "execute_result",
          "data": {
            "text/plain": [
              "1"
            ]
          },
          "metadata": {},
          "execution_count": 36
        }
      ]
    },
    {
      "cell_type": "code",
      "source": [
        "sayi = int(input(\"Sayı: \"))\n",
        "toplam = 0\n",
        "\n",
        "for i in range(1, sayi):\n",
        "    if sayi % i == 0:\n",
        "        toplam += i\n",
        "\n",
        "if toplam == sayi:\n",
        "    print(\"Mükemmel sayı\")\n",
        "else:\n",
        "    print(\"Mükemmel sayı değil\")\n",
        "\n"
      ],
      "metadata": {
        "colab": {
          "base_uri": "https://localhost:8080/"
        },
        "id": "LQ1Gdmuc5Itl",
        "outputId": "d60e03b8-be03-4b23-f444-eb960609ddd8"
      },
      "execution_count": 39,
      "outputs": [
        {
          "output_type": "stream",
          "name": "stdout",
          "text": [
            "Sayı: 28\n",
            "Mükemmel sayı\n"
          ]
        }
      ]
    },
    {
      "cell_type": "code",
      "source": [
        "while True:\n",
        "  sayi=input(\"bir sayi girin 4 basamaklı\")\n",
        "\n",
        "  #5 basamaklı sayılar için tekrar giriş al\n",
        "  if len(sayi)==5:\n",
        "    print(\"lütfen 4 basamaklı bir sayi girin\")\n",
        "    continue\n",
        "\n",
        "  #sayı 4 basamaklı olmalı\n",
        "  if len(sayi)==4:\n",
        "    #sayıyı tam olarak al\n",
        "    sayi=int(sayi)\n",
        "\n",
        "    #birler basamağı ve binler basamağını bul\n",
        "    birler=sayi%10 #son basamağı al\n",
        "    binler=sayi//1000 #ilk basamağı al\n",
        "\n",
        "    #ortadaki basamakları (yüzler ve onlar) almak\n",
        "    orta_basamaklar=(sayi%1000) //10\n",
        "\n",
        "    #yeni sayıyı oluştur\n",
        "    yeni_sayi = birler * 1000 + orta_basamaklar * 10 + binler\n",
        "\n",
        "    print(f\"yeni sayı: {yeni_sayi}\")\n",
        "    break\n",
        "\n",
        "else:\n",
        "  print(\"lütfen 4 basamaklı bir sayı girin \")\n",
        "\n"
      ],
      "metadata": {
        "colab": {
          "base_uri": "https://localhost:8080/"
        },
        "id": "UXpOVi3V6hCL",
        "outputId": "9bd3e115-7483-4afb-ae0f-92ee8890de10"
      },
      "execution_count": 40,
      "outputs": [
        {
          "output_type": "stream",
          "name": "stdout",
          "text": [
            "bir sayi girin 4 basamaklı1245\n",
            "yeni sayı: 5241\n"
          ]
        }
      ]
    },
    {
      "cell_type": "code",
      "source": [
        "n=8\n",
        "for i in range(8):\n",
        "  print(\" \"*i,end=\"\")\n",
        "  for j in range(1,n-i+1):\n",
        "    print(j,end=\"\")\n",
        "  print()"
      ],
      "metadata": {
        "colab": {
          "base_uri": "https://localhost:8080/"
        },
        "id": "K2Vl85pA6CM-",
        "outputId": "5552ad52-0196-4723-e539-6dc3b3110b37"
      },
      "execution_count": 42,
      "outputs": [
        {
          "output_type": "stream",
          "name": "stdout",
          "text": [
            "12345678\n",
            " 1234567\n",
            "  123456\n",
            "   12345\n",
            "    1234\n",
            "     123\n",
            "      12\n",
            "       1\n"
          ]
        }
      ]
    },
    {
      "cell_type": "code",
      "source": [
        "n=8\n",
        "i=0\n",
        "while i<n:\n",
        "    j=0\n",
        "    while j<i*2:\n",
        "        print(\" \",end='')\n",
        "        j+=1\n",
        "\n",
        "    k=1\n",
        "    while k<=n-i:\n",
        "        print(k,end='')\n",
        "        k+=1\n",
        "    print()\n",
        "    i+=1\n",
        ""
      ],
      "metadata": {
        "colab": {
          "base_uri": "https://localhost:8080/"
        },
        "id": "TFlpsl3d4Am6",
        "outputId": "65265df4-e4e7-4b92-abb0-6d2bd6cb3642"
      },
      "execution_count": 41,
      "outputs": [
        {
          "output_type": "stream",
          "name": "stdout",
          "text": [
            "12345678\n",
            "  1234567\n",
            "    123456\n",
            "      12345\n",
            "        1234\n",
            "          123\n",
            "            12\n",
            "              1\n"
          ]
        }
      ]
    }
  ]
}