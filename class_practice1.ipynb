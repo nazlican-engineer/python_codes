{
  "nbformat": 4,
  "nbformat_minor": 0,
  "metadata": {
    "colab": {
      "provenance": []
    },
    "kernelspec": {
      "name": "python3",
      "display_name": "Python 3"
    },
    "language_info": {
      "name": "python"
    }
  },
  "cells": [
    {
      "cell_type": "code",
      "execution_count": 10,
      "metadata": {
        "colab": {
          "base_uri": "https://localhost:8080/",
          "height": 70
        },
        "id": "cYqmZ0Y3VzF-",
        "outputId": "ed83ab2d-5424-4bc9-87ff-77ffe036323e"
      },
      "outputs": [
        {
          "output_type": "stream",
          "name": "stdout",
          "text": [
            "Python class öğreniyorum\n"
          ]
        },
        {
          "output_type": "execute_result",
          "data": {
            "text/plain": [
              "'\\nDiyelim ki bir okulda her öğrencinin kendi adına konuşması gerekiyor:\\n\\nAli konuşurken “Benim adım Ali” der → self = Ali\\n\\nAyşe konuşurken “Benim adım Ayşe” der → self = Ayşe\\n\\nself bu “ben” kelimesi gibidir. O anki konuşan (yani çalışan nesne) kimse, self onu temsil eder.\\n'"
            ],
            "application/vnd.google.colaboratory.intrinsic+json": {
              "type": "string"
            }
          },
          "metadata": {},
          "execution_count": 10
        }
      ],
      "source": [
        "class Student:\n",
        "  def yazdır(self):#sınıfın özelliklerine erişmek için kullanıyoruz üye fonksiyondur.\n",
        "    print(\"Python class öğreniyorum\")\n",
        "\n",
        "\n",
        "o=Student()\n",
        "o.yazdır()\n",
        "'''\n",
        "Diyelim ki bir okulda her öğrencinin kendi adına konuşması gerekiyor:\n",
        "\n",
        "Ali konuşurken “Benim adım Ali” der → self = Ali\n",
        "\n",
        "Ayşe konuşurken “Benim adım Ayşe” der → self = Ayşe\n",
        "\n",
        "self bu “ben” kelimesi gibidir. O anki konuşan (yani çalışan nesne) kimse, self onu temsil eder.\n",
        "'''"
      ]
    },
    {
      "cell_type": "code",
      "source": [
        "print(o)#bu nesnenin student sınıfına ait olduğu  anlaşılır"
      ],
      "metadata": {
        "colab": {
          "base_uri": "https://localhost:8080/"
        },
        "id": "gp28QgZMXZwV",
        "outputId": "ef2a5bd1-73c2-4df1-8af5-df8728f7e493"
      },
      "execution_count": null,
      "outputs": [
        {
          "output_type": "stream",
          "name": "stdout",
          "text": [
            "<__main__.Student object at 0x78f8f46350d0>\n"
          ]
        }
      ]
    },
    {
      "cell_type": "code",
      "source": [
        "print(Student)#türünün ne olduğunu söyler"
      ],
      "metadata": {
        "colab": {
          "base_uri": "https://localhost:8080/"
        },
        "id": "c_TP-tMYX1UG",
        "outputId": "8b0c831f-472f-4ea7-8fb1-ce1467f4af14"
      },
      "execution_count": null,
      "outputs": [
        {
          "output_type": "stream",
          "name": "stdout",
          "text": [
            "<class '__main__.Student'>\n"
          ]
        }
      ]
    },
    {
      "cell_type": "code",
      "source": [
        "class Student1:\n",
        "  def yazdır(self):\n",
        "    print(\"merhaba\")\n",
        "    print(self)\n",
        "\n",
        "o1=Student1()\n",
        "o1.yazdır()\n",
        "print(o1)"
      ],
      "metadata": {
        "colab": {
          "base_uri": "https://localhost:8080/"
        },
        "id": "kafcr2CBX7ab",
        "outputId": "7209b3f9-913e-44a4-d7fe-03a991041c26"
      },
      "execution_count": 11,
      "outputs": [
        {
          "output_type": "stream",
          "name": "stdout",
          "text": [
            "merhaba\n",
            "<__main__.Student1 object at 0x7da3ae1c50d0>\n",
            "<__main__.Student1 object at 0x7da3ae1c50d0>\n"
          ]
        }
      ]
    },
    {
      "cell_type": "code",
      "source": [
        "class Futbol:\n",
        "  def gol(self,x):\n",
        "    self.a=x\n",
        "  def yazdır(self):\n",
        "    print(self.a)\n",
        "\n",
        "f=Futbol()\n",
        "f.gol(5)\n",
        "print(f.a)\n",
        "print(f)"
      ],
      "metadata": {
        "colab": {
          "base_uri": "https://localhost:8080/"
        },
        "id": "ETZE46veZqH0",
        "outputId": "fbe8e8bc-ab8b-494f-9d6a-50fb21ad7af2"
      },
      "execution_count": 12,
      "outputs": [
        {
          "output_type": "stream",
          "name": "stdout",
          "text": [
            "5\n",
            "<__main__.Futbol object at 0x7da3ae1dca90>\n"
          ]
        }
      ]
    },
    {
      "cell_type": "code",
      "source": [
        "a=10\n",
        "b=10\n",
        "print(id(b))\n",
        "(id(a))"
      ],
      "metadata": {
        "colab": {
          "base_uri": "https://localhost:8080/"
        },
        "id": "zG6qwX6Na5Zy",
        "outputId": "52b7ab79-52fc-4546-ee12-ffab1595f065"
      },
      "execution_count": null,
      "outputs": [
        {
          "output_type": "stream",
          "name": "stdout",
          "text": [
            "10751144\n"
          ]
        },
        {
          "output_type": "execute_result",
          "data": {
            "text/plain": [
              "10751144"
            ]
          },
          "metadata": {},
          "execution_count": 15
        }
      ]
    },
    {
      "cell_type": "code",
      "source": [
        "class Test:\n",
        "  def ekle(self):\n",
        "    print(self)\n",
        "    print(id(self))\n",
        "    print(\"eklendi\")\n",
        "\n",
        "t=Test()\n",
        "print(t)\n",
        "print(id(t))\n",
        "t.ekle()\n",
        "\n"
      ],
      "metadata": {
        "colab": {
          "base_uri": "https://localhost:8080/"
        },
        "id": "0S1ab3y9bN-a",
        "outputId": "d7e36d38-b136-47d4-c55b-714bc9dd495a"
      },
      "execution_count": 13,
      "outputs": [
        {
          "output_type": "stream",
          "name": "stdout",
          "text": [
            "<__main__.Test object at 0x7da3c6ed50d0>\n",
            "138142370582736\n",
            "<__main__.Test object at 0x7da3c6ed50d0>\n",
            "138142370582736\n",
            "eklendi\n"
          ]
        }
      ]
    },
    {
      "cell_type": "code",
      "source": [
        "t2=Test()\n",
        "print(t2)"
      ],
      "metadata": {
        "colab": {
          "base_uri": "https://localhost:8080/"
        },
        "id": "ijAJ27edcam-",
        "outputId": "88afedc5-d0da-4bfb-a4b0-2749f41b5cf7"
      },
      "execution_count": null,
      "outputs": [
        {
          "output_type": "stream",
          "name": "stdout",
          "text": [
            "<__main__.Test object at 0x78f8b0d92dd0>\n"
          ]
        }
      ]
    },
    {
      "cell_type": "code",
      "source": [
        "t2.ekle()"
      ],
      "metadata": {
        "colab": {
          "base_uri": "https://localhost:8080/"
        },
        "id": "MqzVX9W1cjGb",
        "outputId": "3fbf7e87-3761-4987-c5e9-96477b36caae"
      },
      "execution_count": null,
      "outputs": [
        {
          "output_type": "stream",
          "name": "stdout",
          "text": [
            "<__main__.Test object at 0x78f8b0d92dd0>\n",
            "133009514245584\n",
            "eklendi\n"
          ]
        }
      ]
    },
    {
      "cell_type": "code",
      "source": [
        "class Test2:\n",
        "  def ekle(self):\n",
        "    print(\"bu bir metottur\")\n",
        "  def çıkartma(self,a,b):\n",
        "    print(a-b) #Eğer bir bilgi (örneğin sayılar, isimler vs.) nesnenin içinde saklanacaksa, bu bilgiye sonra tekrar ihtiyaç varsa, self.a = x gibi atama yaparız.\n",
        "\n",
        "t1=Test2()\n",
        "t2=Test2()\n",
        "t1.ekle()\n",
        "t2.ekle()\n",
        "t1.çıkartma(10,5)\n",
        "t2.çıkartma(100,50)\n"
      ],
      "metadata": {
        "colab": {
          "base_uri": "https://localhost:8080/"
        },
        "id": "oZIv5Dq4cpJz",
        "outputId": "7b671fa9-ca1f-4b56-fa8e-2e7c708b9046"
      },
      "execution_count": null,
      "outputs": [
        {
          "output_type": "stream",
          "name": "stdout",
          "text": [
            "bu bir metottur\n",
            "bu bir metottur\n",
            "5\n",
            "50\n"
          ]
        }
      ]
    },
    {
      "cell_type": "code",
      "source": [
        "class Test2:\n",
        "  def yaz(self):\n",
        "    print(\"bu bir fonksiyondur\")\n",
        "  def degisken(self,a,b):\n",
        "    self.x=a\n",
        "    self.y=b\n",
        "    self.a=a\n",
        "    self.b=b\n",
        "  def goster(self):\n",
        "    print(self.x,self.y)\n",
        "\n",
        "t1=Test2()\n",
        "t2=Test2()\n",
        "t1.yaz()\n",
        "t2.yaz()\n",
        "t1.degisken(10,20)\n",
        "t1.goster()\n",
        "t2.degisken(100,200)\n",
        "t2.goster()\n",
        "print(t1.x)\n",
        "print(t2.y)\n",
        "print(t1.a)\n",
        "print(t2.b)\n"
      ],
      "metadata": {
        "colab": {
          "base_uri": "https://localhost:8080/"
        },
        "id": "3mnGRGafdA7f",
        "outputId": "833ad31f-7b23-461c-e119-f5cb941d3e0b"
      },
      "execution_count": 14,
      "outputs": [
        {
          "output_type": "stream",
          "name": "stdout",
          "text": [
            "bu bir fonksiyondur\n",
            "bu bir fonksiyondur\n",
            "10 20\n",
            "100 200\n",
            "10\n",
            "200\n",
            "10\n",
            "200\n"
          ]
        }
      ]
    },
    {
      "cell_type": "code",
      "source": [
        "print(t1.degisken(10,20))"
      ],
      "metadata": {
        "colab": {
          "base_uri": "https://localhost:8080/"
        },
        "id": "If0QDloxezQt",
        "outputId": "a14bc586-fa44-4502-ffd8-b6dc962aab45"
      },
      "execution_count": null,
      "outputs": [
        {
          "output_type": "stream",
          "name": "stdout",
          "text": [
            "None\n"
          ]
        }
      ]
    },
    {
      "cell_type": "markdown",
      "source": [
        "**yapıcı (constructor)**"
      ],
      "metadata": {
        "id": "qO6ErzA9lgzm"
      }
    },
    {
      "cell_type": "code",
      "source": [
        "class Ogrenci:\n",
        "  def __init__(self):#def__init yapıcı  bir metottur\n",
        "    print(\"bu  bir yapıcı metottur\")\n",
        "\n",
        "o1=Ogrenci()"
      ],
      "metadata": {
        "colab": {
          "base_uri": "https://localhost:8080/"
        },
        "id": "WD_6tXxpg2yu",
        "outputId": "202c2612-d7e1-4ba8-a90d-d746e223b06f"
      },
      "execution_count": 16,
      "outputs": [
        {
          "output_type": "stream",
          "name": "stdout",
          "text": [
            "bu  bir yapıcı metottur\n"
          ]
        }
      ]
    },
    {
      "cell_type": "code",
      "source": [
        "class Ogrenci:\n",
        "    def mesaj(self):\n",
        "        print(\"Bu bir yapıcı metot değildir\")\n",
        "\n",
        "o1 = Ogrenci()\n",
        "o1.mesaj()\n"
      ],
      "metadata": {
        "colab": {
          "base_uri": "https://localhost:8080/"
        },
        "id": "FzXiaZ8JiE-W",
        "outputId": "898e9bad-c988-416d-b6e5-2cc516b13b98"
      },
      "execution_count": null,
      "outputs": [
        {
          "output_type": "stream",
          "name": "stdout",
          "text": [
            "Bu bir yapıcı metot değildir\n"
          ]
        }
      ]
    },
    {
      "cell_type": "code",
      "source": [
        "class ogrenci2:\n",
        "  def __init__(self,x):\n",
        "    self.y=x\n",
        "o2=ogrenci2(19)\n",
        "o2.y\n"
      ],
      "metadata": {
        "colab": {
          "base_uri": "https://localhost:8080/"
        },
        "id": "PoCqIznHiNPk",
        "outputId": "4bd0746f-c6d1-4d86-af40-0a480fa07db7"
      },
      "execution_count": 18,
      "outputs": [
        {
          "output_type": "execute_result",
          "data": {
            "text/plain": [
              "19"
            ]
          },
          "metadata": {},
          "execution_count": 18
        }
      ]
    },
    {
      "cell_type": "code",
      "source": [
        "class ogrenci3:\n",
        "  def __init__(self,a,b):\n",
        "    self.a=a\n",
        "    self.b=b\n",
        "\n",
        "o3=ogrenci3(50,100)\n",
        "o3.a\n",
        "o3.b"
      ],
      "metadata": {
        "colab": {
          "base_uri": "https://localhost:8080/"
        },
        "id": "OFbaS46Ti9GW",
        "outputId": "4de67bb2-453b-405e-b33a-5d645aa18b73"
      },
      "execution_count": null,
      "outputs": [
        {
          "output_type": "execute_result",
          "data": {
            "text/plain": [
              "100"
            ]
          },
          "metadata": {},
          "execution_count": 43
        }
      ]
    },
    {
      "cell_type": "code",
      "source": [
        "class toplama():\n",
        "  def __init__(self,a,b):\n",
        "    self.x=a\n",
        "    self.y=b\n",
        "  def topla(self):\n",
        "    print(\"toplam\",self.x+self.y)\n",
        "\n",
        "t1=toplama(10,20)\n",
        "t1.topla()"
      ],
      "metadata": {
        "colab": {
          "base_uri": "https://localhost:8080/"
        },
        "id": "YPRypNHgjqoP",
        "outputId": "21c29baf-c148-41f1-877c-a046e152f27e"
      },
      "execution_count": null,
      "outputs": [
        {
          "output_type": "stream",
          "name": "stdout",
          "text": [
            "toplam 30\n"
          ]
        }
      ]
    },
    {
      "cell_type": "code",
      "source": [
        "class Teacher:\n",
        "  def __init__(self,name=\"mete\"):\n",
        "    self.name=name\n",
        "  def goster(self):\n",
        "    print(self.name,\"benim en sevdiğim hocam\")\n",
        "\n",
        "t1=Teacher()\n",
        "t1.goster()"
      ],
      "metadata": {
        "colab": {
          "base_uri": "https://localhost:8080/"
        },
        "id": "scRVRaRskN0t",
        "outputId": "a49f4022-883e-4548-fbfe-efcc076755ce"
      },
      "execution_count": null,
      "outputs": [
        {
          "output_type": "stream",
          "name": "stdout",
          "text": [
            "mete benim en sevdiğim hocam\n"
          ]
        }
      ]
    },
    {
      "cell_type": "code",
      "source": [
        "t2=Teacher(\"ahmet\")\n",
        "t2.goster()"
      ],
      "metadata": {
        "colab": {
          "base_uri": "https://localhost:8080/"
        },
        "id": "8ZRbKVzvlLbf",
        "outputId": "d4cde275-bbfb-48b3-c4c7-331e9f31bc96"
      },
      "execution_count": null,
      "outputs": [
        {
          "output_type": "stream",
          "name": "stdout",
          "text": [
            "ahmet benim en sevdiğim hocam\n"
          ]
        }
      ]
    },
    {
      "cell_type": "markdown",
      "source": [
        "**kalıtım**"
      ],
      "metadata": {
        "id": "mh6oTNn1lxNt"
      }
    },
    {
      "cell_type": "code",
      "source": [
        "class windows7:\n",
        "  def yazdır(self):\n",
        "    print(\"merhaba ben paren sınıf içindeyim\")\n",
        "class windows10(windows7):\n",
        "  def goster(self):\n",
        "    print(\"merhaba ben child sınıfının içindeyim\")\n",
        "\n",
        "'''\n",
        "Bir sınıfın başka bir sınıfın özelliklerini ve metodlarını miras almasıdır.\n",
        "\n",
        "Böylece, yeni (child) sınıf, var olan (parent) sınıfın fonksiyonlarını ve özelliklerini kullanabilir, hatta değiştirebilir.\n",
        "'''"
      ],
      "metadata": {
        "colab": {
          "base_uri": "https://localhost:8080/",
          "height": 70
        },
        "id": "OuqERMHrlzMk",
        "outputId": "63f0f54c-ad53-4360-b902-6e7a45ba892d"
      },
      "execution_count": null,
      "outputs": [
        {
          "output_type": "execute_result",
          "data": {
            "text/plain": [
              "'\\nBir sınıfın başka bir sınıfın özelliklerini ve metodlarını miras almasıdır.\\n\\nBöylece, yeni (child) sınıf, var olan (parent) sınıfın fonksiyonlarını ve özelliklerini kullanabilir, hatta değiştirebilir.\\n'"
            ],
            "application/vnd.google.colaboratory.intrinsic+json": {
              "type": "string"
            }
          },
          "metadata": {},
          "execution_count": 52
        }
      ]
    },
    {
      "cell_type": "code",
      "source": [
        "x=windows7()\n",
        "x.yazdır()"
      ],
      "metadata": {
        "colab": {
          "base_uri": "https://localhost:8080/"
        },
        "id": "4P4hRwjhml8O",
        "outputId": "ace1599e-fe71-498c-b7fc-ba29823f11cd"
      },
      "execution_count": null,
      "outputs": [
        {
          "output_type": "stream",
          "name": "stdout",
          "text": [
            "merhaba ben paren sınıf içindeyim\n"
          ]
        }
      ]
    },
    {
      "cell_type": "code",
      "source": [
        "y=windows10()\n",
        "y.yazdır()\n",
        "y.goster()\n",
        "x.goster()#parent sınıf child sınıfa ulaşmaz"
      ],
      "metadata": {
        "colab": {
          "base_uri": "https://localhost:8080/",
          "height": 211
        },
        "id": "KGxoV6tXmxZ9",
        "outputId": "1c7bc69d-0ac6-4834-f4d1-07a98b069702"
      },
      "execution_count": null,
      "outputs": [
        {
          "output_type": "stream",
          "name": "stdout",
          "text": [
            "merhaba ben paren sınıf içindeyim\n",
            "merhaba ben child sınıfının içindeyim\n"
          ]
        },
        {
          "output_type": "error",
          "ename": "AttributeError",
          "evalue": "'windows7' object has no attribute 'goster'",
          "traceback": [
            "\u001b[0;31m---------------------------------------------------------------------------\u001b[0m",
            "\u001b[0;31mAttributeError\u001b[0m                            Traceback (most recent call last)",
            "\u001b[0;32m<ipython-input-57-d537a0f1f58f>\u001b[0m in \u001b[0;36m<cell line: 0>\u001b[0;34m()\u001b[0m\n\u001b[1;32m      2\u001b[0m \u001b[0my\u001b[0m\u001b[0;34m.\u001b[0m\u001b[0myazdır\u001b[0m\u001b[0;34m(\u001b[0m\u001b[0;34m)\u001b[0m\u001b[0;34m\u001b[0m\u001b[0;34m\u001b[0m\u001b[0m\n\u001b[1;32m      3\u001b[0m \u001b[0my\u001b[0m\u001b[0;34m.\u001b[0m\u001b[0mgoster\u001b[0m\u001b[0;34m(\u001b[0m\u001b[0;34m)\u001b[0m\u001b[0;34m\u001b[0m\u001b[0;34m\u001b[0m\u001b[0m\n\u001b[0;32m----> 4\u001b[0;31m \u001b[0mx\u001b[0m\u001b[0;34m.\u001b[0m\u001b[0mgoster\u001b[0m\u001b[0;34m(\u001b[0m\u001b[0;34m)\u001b[0m\u001b[0;34m\u001b[0m\u001b[0;34m\u001b[0m\u001b[0m\n\u001b[0m",
            "\u001b[0;31mAttributeError\u001b[0m: 'windows7' object has no attribute 'goster'"
          ]
        }
      ]
    },
    {
      "cell_type": "code",
      "source": [
        "class A:\n",
        "  def __init__(self):\n",
        "    print(\"A sınıfı yapıcı metodu çalıştı\")#ana sınıfdır başkandır\n",
        "  def yazdır(self):\n",
        "    print(\"a sınıfının yazdır metodu çalıştı\")\n",
        "class B:\n",
        "  def __init__(self):\n",
        "    print(\"B sınıfının yapıcı metodu çalıştı\")\n",
        "  def yazdır(self):\n",
        "    print(\"B sınıfının yazdır metodu çalıştı\")\n",
        "\n",
        "x=A()\n",
        "y=B()"
      ],
      "metadata": {
        "colab": {
          "base_uri": "https://localhost:8080/"
        },
        "id": "LkjlpzrbnO-O",
        "outputId": "33a5bcc8-077e-4788-c42f-1541356ddfa3"
      },
      "execution_count": null,
      "outputs": [
        {
          "output_type": "stream",
          "name": "stdout",
          "text": [
            "A sınıfı yapıcı metodu çalıştı\n",
            "B sınıfının yapıcı metodu çalıştı\n"
          ]
        }
      ]
    },
    {
      "cell_type": "code",
      "source": [
        "class A:\n",
        "  def __init__(self):\n",
        "    print(\"A sınıfı yapıcı metodu çalıştı\")#ana sınıfdır başkandır\n",
        "  def yazdır(self):\n",
        "    print(\"a sınıfının yazdır metodu çalıştı\")\n",
        "class B(A):\n",
        "  def __init__(self):\n",
        "    print(\"B sınıfının yapıcı metodu çalıştı\")\n",
        "  def konus(self):\n",
        "    print(\"B sınıfının yazdır metodu çalıştı\")\n",
        "\n",
        "x=A()\n",
        "y=B()\n",
        "y.yazdır()\n",
        "y.konus()"
      ],
      "metadata": {
        "colab": {
          "base_uri": "https://localhost:8080/"
        },
        "id": "9Te1a3cboGAw",
        "outputId": "c228a18d-682b-425a-e5a1-d82a530a1add"
      },
      "execution_count": null,
      "outputs": [
        {
          "output_type": "stream",
          "name": "stdout",
          "text": [
            "A sınıfı yapıcı metodu çalıştı\n",
            "B sınıfının yapıcı metodu çalıştı\n",
            "a sınıfının yazdır metodu çalıştı\n",
            "B sınıfının yazdır metodu çalıştı\n"
          ]
        }
      ]
    },
    {
      "cell_type": "code",
      "source": [
        "class A:\n",
        "    def __init__(self):\n",
        "        print(\"A sınıfı yapıcı metodu çalıştıı\")#ana sınıfdır baskındır\n",
        "    def yazdır(self):\n",
        "        print(\"A sınıfının yazdır metodu çalıştı\")\n",
        "\n",
        "class B(A):\n",
        "    def __init__(self):\n",
        "        A.__init__(self)#a clasım neyse onun sistematiğini al der\n",
        "    def yazdır(self):\n",
        "        print(\"B sınıfının yazdır metodu çalıştı\")\n",
        "x=A()\n",
        "y=B()"
      ],
      "metadata": {
        "colab": {
          "base_uri": "https://localhost:8080/"
        },
        "id": "zHLrmQVhpkC4",
        "outputId": "fe39c2bb-d689-4492-9e8e-db134d38584e"
      },
      "execution_count": null,
      "outputs": [
        {
          "output_type": "stream",
          "name": "stdout",
          "text": [
            "A sınıfı yapıcı metodu çalıştıı\n",
            "A sınıfı yapıcı metodu çalıştıı\n"
          ]
        }
      ]
    },
    {
      "cell_type": "code",
      "source": [
        "class A:\n",
        "    def __init__(self):\n",
        "        print(\"A sınıfı yapıcı metodu çalıştıı\")#ana sınıfdır baskındır\n",
        "    def yazdır(self):\n",
        "        print(\"A sınıfının yazdır metodu çalıştı\")\n",
        "\n",
        "class B(A):\n",
        "    def __init__(self):\n",
        "         A.__init__(self)\n",
        "         print(\"B sınıfı yapıcı metodu çalıştı\")\n",
        "    def yazdır(self):\n",
        "        print(\"B sınıfının yazdır metodu çalıştı\")\n",
        "x=A()\n",
        "y=B()"
      ],
      "metadata": {
        "colab": {
          "base_uri": "https://localhost:8080/"
        },
        "id": "r6pra4LGp15e",
        "outputId": "487051fd-1c78-4dbb-c208-e5b13024ddf5"
      },
      "execution_count": null,
      "outputs": [
        {
          "output_type": "stream",
          "name": "stdout",
          "text": [
            "A sınıfı yapıcı metodu çalıştıı\n",
            "A sınıfı yapıcı metodu çalıştıı\n",
            "B sınıfı yapıcı metodu çalıştı\n"
          ]
        }
      ]
    },
    {
      "cell_type": "code",
      "source": [
        "class A:\n",
        "  def A_yazdır(self):\n",
        "    print(\"a yazdır\")\n",
        "class B(A):\n",
        "  def B_yazdır(self):\n",
        "    print(\"b yazdır\")\n",
        "class C(B):\n",
        "  def C_yazdır(self):\n",
        "    print(\"c yazdır\")\n",
        "x=A()\n",
        "y=B()\n",
        "z=C()\n",
        "x.A_yazdır()\n",
        "y.A_yazdır()\n",
        "y.B_yazdır()\n",
        "z.A_yazdır()\n",
        "z.B_yazdır()\n",
        "z.C_yazdır()"
      ],
      "metadata": {
        "colab": {
          "base_uri": "https://localhost:8080/"
        },
        "id": "NCVnKeehqNeW",
        "outputId": "d5a5dfd6-9cf0-486e-8a14-f9580204618c"
      },
      "execution_count": null,
      "outputs": [
        {
          "output_type": "stream",
          "name": "stdout",
          "text": [
            "a yazdır\n",
            "a yazdır\n",
            "b yazdır\n",
            "a yazdır\n",
            "b yazdır\n",
            "c yazdır\n"
          ]
        }
      ]
    },
    {
      "cell_type": "code",
      "source": [
        "print(C.__mro__)#Yani, C sınıfı birden fazla sınıftan miras alıyorsa, C.__mro__ bize Python’un metodları hangi sırayla arayacağını gösterir."
      ],
      "metadata": {
        "colab": {
          "base_uri": "https://localhost:8080/"
        },
        "id": "8Nx61cl5rIaw",
        "outputId": "911d4cd2-cd79-4523-8173-5e0017d8ff8b"
      },
      "execution_count": null,
      "outputs": [
        {
          "output_type": "stream",
          "name": "stdout",
          "text": [
            "(<class '__main__.C'>, <class '__main__.B'>, <class '__main__.A'>, <class 'object'>)\n"
          ]
        }
      ]
    },
    {
      "cell_type": "code",
      "source": [
        "class A:\n",
        "  def A_yazdır(self):\n",
        "    print(\"A yazdır\")\n",
        "class B(A):\n",
        "  def B_yazdır(self):\n",
        "    print(\"b yazdır\")\n",
        "class C(A):\n",
        "  def C_yazdır(self):\n",
        "    print(\"c yazdır\")\n",
        "class D(B,C):\n",
        "  def sonuc(self):\n",
        "    print(\"d sınıfı\")\n",
        "x=D()#hem a yı hem b yi hem c yi kapsıyor\n"
      ],
      "metadata": {
        "id": "Q1lpUBEYtGmv"
      },
      "execution_count": null,
      "outputs": []
    },
    {
      "cell_type": "code",
      "source": [
        "x.A_yazdır()\n",
        "x.B_yazdır()\n",
        "x.C_yazdır()\n",
        "x.sonuc()"
      ],
      "metadata": {
        "colab": {
          "base_uri": "https://localhost:8080/"
        },
        "id": "AwwHIzKjt7tg",
        "outputId": "882135be-226d-433f-90b3-05128eae4abb"
      },
      "execution_count": null,
      "outputs": [
        {
          "output_type": "stream",
          "name": "stdout",
          "text": [
            "A yazdır\n",
            "b yazdır\n",
            "c yazdır\n",
            "d sınıfı\n"
          ]
        }
      ]
    },
    {
      "cell_type": "code",
      "source": [
        "def topla(a,b):\n",
        "  print(a+b)\n",
        "def topla(a,b,c):\n",
        "  print(a+b+c)\n",
        "topla(100,200)#aynı adla fonksiyon tanımlayamazsın"
      ],
      "metadata": {
        "colab": {
          "base_uri": "https://localhost:8080/",
          "height": 176
        },
        "id": "_bweraDeueJu",
        "outputId": "860b5028-1c83-4207-d909-9a3c0ec56474"
      },
      "execution_count": null,
      "outputs": [
        {
          "output_type": "error",
          "ename": "TypeError",
          "evalue": "topla() missing 1 required positional argument: 'c'",
          "traceback": [
            "\u001b[0;31m---------------------------------------------------------------------------\u001b[0m",
            "\u001b[0;31mTypeError\u001b[0m                                 Traceback (most recent call last)",
            "\u001b[0;32m<ipython-input-73-9a6444267517>\u001b[0m in \u001b[0;36m<cell line: 0>\u001b[0;34m()\u001b[0m\n\u001b[1;32m      3\u001b[0m \u001b[0;32mdef\u001b[0m \u001b[0mtopla\u001b[0m\u001b[0;34m(\u001b[0m\u001b[0ma\u001b[0m\u001b[0;34m,\u001b[0m\u001b[0mb\u001b[0m\u001b[0;34m,\u001b[0m\u001b[0mc\u001b[0m\u001b[0;34m)\u001b[0m\u001b[0;34m:\u001b[0m\u001b[0;34m\u001b[0m\u001b[0;34m\u001b[0m\u001b[0m\n\u001b[1;32m      4\u001b[0m   \u001b[0mprint\u001b[0m\u001b[0;34m(\u001b[0m\u001b[0ma\u001b[0m\u001b[0;34m+\u001b[0m\u001b[0mb\u001b[0m\u001b[0;34m+\u001b[0m\u001b[0mc\u001b[0m\u001b[0;34m)\u001b[0m\u001b[0;34m\u001b[0m\u001b[0;34m\u001b[0m\u001b[0m\n\u001b[0;32m----> 5\u001b[0;31m \u001b[0mtopla\u001b[0m\u001b[0;34m(\u001b[0m\u001b[0;36m100\u001b[0m\u001b[0;34m,\u001b[0m\u001b[0;36m200\u001b[0m\u001b[0;34m)\u001b[0m\u001b[0;34m\u001b[0m\u001b[0;34m\u001b[0m\u001b[0m\n\u001b[0m",
            "\u001b[0;31mTypeError\u001b[0m: topla() missing 1 required positional argument: 'c'"
          ]
        }
      ]
    },
    {
      "cell_type": "code",
      "source": [
        "class A:\n",
        "  def __init__(self):\n",
        "    self.x=\"yapıcı a\"\n",
        "  def goster(self):\n",
        "    print(self.x)\n",
        "\n",
        "class B(A):\n",
        "  def __init__(self):\n",
        "    self.x=\"yapıcı b\"\n",
        "  def yazdır(self):\n",
        "    print(self.x)\n",
        "x=A()#sadece self.x ataması yapıldığı için ekrana bir şey yazmaz bu yüzden ekrana bir şey yazmasını istiyorsam class ın içinde print kullanamlıydım.\n",
        "y=B()\n",
        "x.goster()\n",
        "y.yazdır()\n",
        "y.x#yapıcı b olarak yazar a sınıfının init metodunu almaz."
      ],
      "metadata": {
        "colab": {
          "base_uri": "https://localhost:8080/",
          "height": 70
        },
        "id": "j_wg8_1NuxYi",
        "outputId": "cffa0cbb-e5f7-4450-a726-5c83ccbf8638"
      },
      "execution_count": null,
      "outputs": [
        {
          "output_type": "stream",
          "name": "stdout",
          "text": [
            "yapıcı a\n",
            "yapıcı b\n"
          ]
        },
        {
          "output_type": "execute_result",
          "data": {
            "text/plain": [
              "'yapıcı b'"
            ],
            "application/vnd.google.colaboratory.intrinsic+json": {
              "type": "string"
            }
          },
          "metadata": {},
          "execution_count": 77
        }
      ]
    },
    {
      "cell_type": "code",
      "source": [
        "class A:\n",
        "  def __init__(self,x,y):\n",
        "    self.x=x\n",
        "    self.y=y\n",
        "  def __add__(self,diger):\n",
        "    return A(self.x+diger.x,self.y+diger.y)"
      ],
      "metadata": {
        "id": "TGz60NApym6t"
      },
      "execution_count": 20,
      "outputs": []
    },
    {
      "cell_type": "code",
      "source": [
        "a1 = A(3, 4)\n",
        "a2 = A(5, 6)\n",
        "a3 = a1 + a2  # __add__ çağrılır ama çıktı görünmez\n",
        "\n",
        "print(a3)     # <__main__.A object at 0x...> gibi anlamsız bir çıktı verir\n"
      ],
      "metadata": {
        "colab": {
          "base_uri": "https://localhost:8080/"
        },
        "id": "4Nt6558O0NKI",
        "outputId": "fcabfa37-97e0-4b85-d739-272747697af5"
      },
      "execution_count": 21,
      "outputs": [
        {
          "output_type": "stream",
          "name": "stdout",
          "text": [
            "<__main__.A object at 0x7da3ae1c4650>\n"
          ]
        }
      ]
    },
    {
      "cell_type": "code",
      "source": [
        "print(a3.x)\n",
        "print(a3.y)"
      ],
      "metadata": {
        "colab": {
          "base_uri": "https://localhost:8080/"
        },
        "id": "r7zh3jmL0YDp",
        "outputId": "2d9ba60b-706d-407b-8318-c5cf67acd41c"
      },
      "execution_count": null,
      "outputs": [
        {
          "output_type": "stream",
          "name": "stdout",
          "text": [
            "8\n",
            "10\n"
          ]
        }
      ]
    },
    {
      "cell_type": "code",
      "source": [
        "class araba:\n",
        "  def __init__(self,motorgucu=200,vites=5):\n",
        "    self.motorgucu=motorgucu\n",
        "    self.vites=vites\n",
        "  def araba_ozellikleri(self):\n",
        "    print(\"motor gücü:\",self.motorgucu)\n",
        "    print(\"vites\",self.vites)\n",
        "\n",
        "class opel(araba):\n",
        "  def __init__(self,motorgucu=150,vites=6,cant=19):\n",
        "    super().__init__(motorgucu,vites) # Üst sınıfın __init__'i çağrılı\n",
        "    self.cant=cant\n",
        "    print(\"motor gücü\",self.motorgucu)\n",
        "    print(\"vites\",self.vites)\n",
        "    print(\"cant\",self.cant)\n",
        "\n"
      ],
      "metadata": {
        "id": "1SeBIPHz0igQ"
      },
      "execution_count": 2,
      "outputs": []
    },
    {
      "cell_type": "code",
      "source": [
        "o1=opel(10,20,30)"
      ],
      "metadata": {
        "colab": {
          "base_uri": "https://localhost:8080/"
        },
        "id": "YLe0YzwCx9dm",
        "outputId": "38e6af77-205e-454f-bf07-0ef71036a7a6"
      },
      "execution_count": 3,
      "outputs": [
        {
          "output_type": "stream",
          "name": "stdout",
          "text": [
            "motor gücü 10\n",
            "vites 20\n",
            "cant 30\n"
          ]
        }
      ]
    },
    {
      "cell_type": "code",
      "source": [
        "o1=opel()#varsayılan değerleri alacaktır"
      ],
      "metadata": {
        "colab": {
          "base_uri": "https://localhost:8080/"
        },
        "id": "9QOHbmaByFkE",
        "outputId": "cb06e87b-98fe-49f4-eaba-368f25b0fad8"
      },
      "execution_count": 4,
      "outputs": [
        {
          "output_type": "stream",
          "name": "stdout",
          "text": [
            "motor gücü 150\n",
            "vites 6\n",
            "cant 19\n"
          ]
        }
      ]
    },
    {
      "cell_type": "code",
      "source": [
        "o1.araba_ozellikleri()"
      ],
      "metadata": {
        "colab": {
          "base_uri": "https://localhost:8080/"
        },
        "id": "cYirw9fnyLWE",
        "outputId": "cd187aed-e754-444f-a9ea-0636f1003c70"
      },
      "execution_count": 5,
      "outputs": [
        {
          "output_type": "stream",
          "name": "stdout",
          "text": [
            "motor gücü: 150\n",
            "vites 6\n"
          ]
        }
      ]
    },
    {
      "cell_type": "code",
      "source": [
        "o2=opel(100,9,12)"
      ],
      "metadata": {
        "colab": {
          "base_uri": "https://localhost:8080/"
        },
        "id": "cS4svhQfyOks",
        "outputId": "59864213-4474-42d7-ad25-33bab07e95fd"
      },
      "execution_count": 6,
      "outputs": [
        {
          "output_type": "stream",
          "name": "stdout",
          "text": [
            "motor gücü 100\n",
            "vites 9\n",
            "cant 12\n"
          ]
        }
      ]
    },
    {
      "cell_type": "code",
      "source": [
        "o2.araba_ozellikleri()"
      ],
      "metadata": {
        "colab": {
          "base_uri": "https://localhost:8080/"
        },
        "id": "mqRgV0ruyTrk",
        "outputId": "e9e3880b-fecb-4254-df89-bf613861e15b"
      },
      "execution_count": 7,
      "outputs": [
        {
          "output_type": "stream",
          "name": "stdout",
          "text": [
            "motor gücü: 100\n",
            "vites 9\n"
          ]
        }
      ]
    },
    {
      "cell_type": "code",
      "source": [
        "o2.cant"
      ],
      "metadata": {
        "colab": {
          "base_uri": "https://localhost:8080/"
        },
        "id": "kMEcWWgSyX5U",
        "outputId": "94d6ba69-df89-45a0-c38b-dd22b1c432b0"
      },
      "execution_count": 8,
      "outputs": [
        {
          "output_type": "execute_result",
          "data": {
            "text/plain": [
              "12"
            ]
          },
          "metadata": {},
          "execution_count": 8
        }
      ]
    },
    {
      "cell_type": "code",
      "source": [
        "o2.motorgucu"
      ],
      "metadata": {
        "colab": {
          "base_uri": "https://localhost:8080/"
        },
        "id": "V697VcGqya5e",
        "outputId": "80b7f3ac-c86a-4e0f-c333-7ba73073d825"
      },
      "execution_count": 9,
      "outputs": [
        {
          "output_type": "execute_result",
          "data": {
            "text/plain": [
              "100"
            ]
          },
          "metadata": {},
          "execution_count": 9
        }
      ]
    }
  ]
}