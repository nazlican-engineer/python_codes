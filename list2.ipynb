{
  "nbformat": 4,
  "nbformat_minor": 0,
  "metadata": {
    "colab": {
      "provenance": []
    },
    "kernelspec": {
      "name": "python3",
      "display_name": "Python 3"
    },
    "language_info": {
      "name": "python"
    }
  },
  "cells": [
    {
      "cell_type": "code",
      "execution_count": null,
      "metadata": {
        "id": "hyMz7V_-q3Y_"
      },
      "outputs": [],
      "source": [
        "#PASS Nedir?\n",
        "#Başka bir iş yapmamak için kullanılır yani o an bir şey yapma ben yazmak istediğim zaman kodu kullanacağım...\n"
      ]
    },
    {
      "cell_type": "code",
      "source": [],
      "metadata": {
        "id": "rKQjfyS9uYj1"
      },
      "execution_count": null,
      "outputs": []
    },
    {
      "cell_type": "markdown",
      "source": [
        "LİSTELER\n"
      ],
      "metadata": {
        "id": "r2nTpiLXuZQq"
      }
    },
    {
      "cell_type": "code",
      "source": [
        "sayi=int(input(\"lütfen bir sayi giriniz\"))\n",
        "if sayi==0:\n",
        "  pass\n",
        "else:\n",
        "  print(\"merhaba dunya\")"
      ],
      "metadata": {
        "colab": {
          "base_uri": "https://localhost:8080/"
        },
        "id": "zzRBxs24snII",
        "outputId": "bd5bb0ae-c1b8-4861-893e-d2b20b77c1f4"
      },
      "execution_count": null,
      "outputs": [
        {
          "name": "stdout",
          "output_type": "stream",
          "text": [
            "lütfen bir sayi giriniz0\n"
          ]
        }
      ]
    },
    {
      "cell_type": "code",
      "source": [
        "liste1=[1,2,3]\n",
        "liste2=[10,20,30]\n",
        "a=10\n",
        "for i in liste1:\n",
        "    for j in liste2:\n",
        "        if i>j:\n",
        "            a=a+liste1[j]\n",
        "        print(a)"
      ],
      "metadata": {
        "colab": {
          "base_uri": "https://localhost:8080/"
        },
        "id": "H-e0hKZQs_fk",
        "outputId": "eb51b4a1-2bbf-45f2-920b-cc05a4413661"
      },
      "execution_count": 3,
      "outputs": [
        {
          "output_type": "stream",
          "name": "stdout",
          "text": [
            "10\n",
            "10\n",
            "10\n",
            "10\n",
            "10\n",
            "10\n",
            "10\n",
            "10\n",
            "10\n"
          ]
        }
      ]
    },
    {
      "cell_type": "code",
      "source": [
        "#append metodu\n",
        "\n",
        "liste=[10,20,30,40,50]\n",
        "yeniliste=[]\n",
        "for i in liste:\n",
        "  yeniliste.append(i)\n",
        "print(yeniliste)\n",
        "\n",
        "yeniliste=[i for i in liste]\n",
        "print(yeniliste)"
      ],
      "metadata": {
        "colab": {
          "base_uri": "https://localhost:8080/"
        },
        "id": "xs3HhNlLuK_W",
        "outputId": "33de0a2b-c0f1-42bf-8078-c3c252b24120"
      },
      "execution_count": null,
      "outputs": [
        {
          "output_type": "stream",
          "name": "stdout",
          "text": [
            "[10, 20, 30, 40, 50]\n",
            "[10, 20, 30, 40, 50]\n"
          ]
        }
      ]
    },
    {
      "cell_type": "code",
      "source": [
        "#remove metodu\n",
        "meyveler=[\"elma\",\"portakal\",\"kiraz\",\"seftali\"]\n",
        "meyveler.append(\"mandalina\")\n",
        "print(meyveler)\n",
        "meyveler.remove(\"kiraz\")\n",
        "print(meyveler)"
      ],
      "metadata": {
        "colab": {
          "base_uri": "https://localhost:8080/"
        },
        "id": "Kplolmn0vIzK",
        "outputId": "c0b81036-1927-46d0-a1b7-36a581c40f73"
      },
      "execution_count": 5,
      "outputs": [
        {
          "output_type": "stream",
          "name": "stdout",
          "text": [
            "['elma', 'portakal', 'kiraz', 'seftali', 'mandalina']\n",
            "['elma', 'portakal', 'seftali', 'mandalina']\n"
          ]
        }
      ]
    },
    {
      "cell_type": "code",
      "source": [
        "#index metodu Bir elemanın listede ilk göründüğü yeri döndürür.\n",
        "indes=meyveler.index(\"elma\")\n",
        "print(indes)"
      ],
      "metadata": {
        "colab": {
          "base_uri": "https://localhost:8080/"
        },
        "id": "O1zem3z9v5Fo",
        "outputId": "d43d9b8b-e41e-488d-a4f1-181c056255ac"
      },
      "execution_count": null,
      "outputs": [
        {
          "output_type": "stream",
          "name": "stdout",
          "text": [
            "0\n"
          ]
        }
      ]
    },
    {
      "cell_type": "code",
      "source": [
        "#sort ve reverse metodu\n",
        "liste=[4,7,1,9,3,6]\n",
        "liste.sort()\n",
        "print(liste)\n",
        "liste.reverse()\n",
        "print(liste)\n",
        "print(len(liste))\n"
      ],
      "metadata": {
        "colab": {
          "base_uri": "https://localhost:8080/"
        },
        "id": "WuurNbVOw2ti",
        "outputId": "cca4d3d9-5758-4d87-f5fe-77c3a171d352"
      },
      "execution_count": null,
      "outputs": [
        {
          "output_type": "stream",
          "name": "stdout",
          "text": [
            "[1, 3, 4, 6, 7, 9]\n",
            "[9, 7, 6, 4, 3, 1]\n",
            "6\n"
          ]
        }
      ]
    },
    {
      "cell_type": "code",
      "source": [
        "print(meyveler[0:2])"
      ],
      "metadata": {
        "colab": {
          "base_uri": "https://localhost:8080/"
        },
        "id": "-meqje_xyF-m",
        "outputId": "80cf6c16-f653-4e16-8cf6-07364f5dcf85"
      },
      "execution_count": null,
      "outputs": [
        {
          "output_type": "stream",
          "name": "stdout",
          "text": [
            "['elma', 'portakal']\n"
          ]
        }
      ]
    },
    {
      "cell_type": "code",
      "source": [
        "print(meyveler[:2])"
      ],
      "metadata": {
        "colab": {
          "base_uri": "https://localhost:8080/"
        },
        "id": "MInGwlQBykLL",
        "outputId": "c66515e2-1fdf-444c-ebb6-07b2009f856a"
      },
      "execution_count": null,
      "outputs": [
        {
          "output_type": "stream",
          "name": "stdout",
          "text": [
            "['elma', 'portakal']\n"
          ]
        }
      ]
    },
    {
      "cell_type": "code",
      "source": [
        "print(meyveler[2:])"
      ],
      "metadata": {
        "colab": {
          "base_uri": "https://localhost:8080/"
        },
        "id": "d9RAWxkUypTJ",
        "outputId": "35a419ae-1409-42ce-cb3c-dfabe0ac20bb"
      },
      "execution_count": null,
      "outputs": [
        {
          "output_type": "stream",
          "name": "stdout",
          "text": [
            "['seftali', 'mandalina']\n"
          ]
        }
      ]
    },
    {
      "cell_type": "code",
      "source": [
        "print(meyveler)\n",
        "print(meyveler[-3:])#-3: dilimi, listenin \"-3. elemanından\" başlayarak sona kadar tüm elemanları alır."
      ],
      "metadata": {
        "colab": {
          "base_uri": "https://localhost:8080/"
        },
        "id": "37RajTKRy2KK",
        "outputId": "ec548c35-bc60-4372-b1ad-ae72a7d60f36"
      },
      "execution_count": 7,
      "outputs": [
        {
          "output_type": "stream",
          "name": "stdout",
          "text": [
            "['elma', 'portakal', 'seftali', 'mandalina']\n",
            "['portakal', 'seftali', 'mandalina']\n"
          ]
        }
      ]
    },
    {
      "cell_type": "code",
      "source": [
        "#[start:stop:step]\n",
        "print(meyveler[::-1])\n",
        "#eğer step değeri pozitif olsaydı start 0 dan başlardı belirtmediği  için ters yönden start değerini alacağız."
      ],
      "metadata": {
        "colab": {
          "base_uri": "https://localhost:8080/"
        },
        "id": "IgkALNKIzFj0",
        "outputId": "02bdc96a-ce9b-4da1-f498-c8ad038c0073"
      },
      "execution_count": null,
      "outputs": [
        {
          "output_type": "stream",
          "name": "stdout",
          "text": [
            "['mandalina', 'seftali', 'portakal', 'elma']\n"
          ]
        }
      ]
    },
    {
      "cell_type": "code",
      "source": [
        "print(meyveler[:-3])#:-3 dilimi, listenin başından başlayıp -3. elemana kadar (hariç) olan kısmı alır."
      ],
      "metadata": {
        "colab": {
          "base_uri": "https://localhost:8080/"
        },
        "id": "DIZkBW4AzgxC",
        "outputId": "08e6bfbb-5465-4da7-9477-17b8918e0200"
      },
      "execution_count": null,
      "outputs": [
        {
          "output_type": "stream",
          "name": "stdout",
          "text": [
            "['elma']\n"
          ]
        }
      ]
    },
    {
      "cell_type": "code",
      "source": [
        "print(meyveler.copy())"
      ],
      "metadata": {
        "colab": {
          "base_uri": "https://localhost:8080/"
        },
        "id": "yCH26eos0QIh",
        "outputId": "04887039-6687-49d6-9c33-474acab38f6c"
      },
      "execution_count": null,
      "outputs": [
        {
          "output_type": "stream",
          "name": "stdout",
          "text": [
            "['elma', 'portakal', 'seftali', 'mandalina']\n"
          ]
        }
      ]
    },
    {
      "cell_type": "code",
      "source": [
        "#Listede tekrar eden elemanları listeden  çıkart:???\n",
        "elemanlar=[\"elma\",\"muz\",\"elma\",\"muz\",\"çilek\",\"muz\",\"elma\"]\n",
        "\n",
        "\n",
        "#SONRA ÇÖZ MUTLAKA"
      ],
      "metadata": {
        "id": "4FY_2h050cBB"
      },
      "execution_count": null,
      "outputs": []
    },
    {
      "cell_type": "code",
      "source": [
        "#listedeki çift sayıları al başka bir listeye ekle\n",
        "liste1=[1,2,3,4,5,6,7,8,9,10]\n",
        "liste2=[]\n",
        "for i in liste1:\n",
        "  if i%2==0:\n",
        "    liste2.append(i)\n",
        "print(liste2)"
      ],
      "metadata": {
        "colab": {
          "base_uri": "https://localhost:8080/"
        },
        "id": "nIJlxu6N0sgL",
        "outputId": "8198ee50-9f00-43c0-8a8b-321fab37483f"
      },
      "execution_count": null,
      "outputs": [
        {
          "output_type": "stream",
          "name": "stdout",
          "text": [
            "[2, 4, 6, 8, 10]\n"
          ]
        }
      ]
    },
    {
      "cell_type": "code",
      "source": [
        "#Listedeki negatif sayılaari al sıfrıa çevir\n",
        "liste=[-2,-5,-6,-8,1,4,6,9,10]\n",
        "i=0\n",
        "while i<len(liste):\n",
        "  if liste[i]<0:\n",
        "    liste[i]=0\n",
        "  i=i+1\n",
        "print(liste)"
      ],
      "metadata": {
        "colab": {
          "base_uri": "https://localhost:8080/"
        },
        "id": "VWVefqCa1Dsx",
        "outputId": "8eb7df98-a7d4-4f48-fb24-8ff7b72cb7bf"
      },
      "execution_count": null,
      "outputs": [
        {
          "output_type": "stream",
          "name": "stdout",
          "text": [
            "[0, 0, 0, 0, 1, 4, 6, 9, 10]\n"
          ]
        }
      ]
    },
    {
      "cell_type": "markdown",
      "source": [],
      "metadata": {
        "id": "VHJ9DbNXuWwv"
      }
    }
  ]
}