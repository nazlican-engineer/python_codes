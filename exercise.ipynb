{
  "nbformat": 4,
  "nbformat_minor": 0,
  "metadata": {
    "colab": {
      "provenance": []
    },
    "kernelspec": {
      "name": "python3",
      "display_name": "Python 3"
    },
    "language_info": {
      "name": "python"
    }
  },
  "cells": [
    {
      "cell_type": "code",
      "execution_count": 1,
      "metadata": {
        "id": "py03mD2J5S3C"
      },
      "outputs": [],
      "source": [
        "job_roles = [\n",
        "    {'role': 'Data Analyst', 'skills': ['Python', 'SQL', 'Excel']},\n",
        "    {'role': 'Data Scientist', 'skills': ['Python', 'R', 'Machine Learning', 'Deep Learning']},\n",
        "    {'role': 'Machine Learning Engineer', 'skills': ['Python', 'TensorFlow', 'PyTorch', 'Scikit-Learn']},\n",
        "    {'role': 'Data Engineer', 'skills': ['Python', 'Apache Spark', 'Hadoop', 'SQL']},\n",
        "    {'role': 'Business Intelligence Analyst', 'skills': ['Python', 'SQL', 'Tableau', 'Power BI', 'Excel']},\n",
        "    {'role': 'Quantitative Analyst', 'skills': ['R', 'Python', 'MATLAB', 'Statistics']},\n",
        "    {'role': 'Operations Analyst', 'skills': ['Python', 'SQL', 'Data Visualization', 'Process Improvement']},\n",
        "    {'role': 'Database Administrator', 'skills': ['SQL', 'Oracle', 'MySQL', 'Database Management']},\n",
        "    {'role': 'AI Engineer', 'skills': ['Python', 'TensorFlow', 'PyTorch', 'Computer Vision']},\n",
        "    {'role': 'Statistician', 'skills': ['R', 'SAS', 'Python', 'Statistical Modeling']}\n",
        "]"
      ]
    },
    {
      "cell_type": "code",
      "source": [
        "my_skills=[\"Python\",\"SQL\",\"Excel\"]\n"
      ],
      "metadata": {
        "id": "kUnZnfty8tQ8"
      },
      "execution_count": 2,
      "outputs": []
    },
    {
      "cell_type": "code",
      "source": [
        "for job in job_roles:                      # job_roles listesindeki her bir iş için döngü başlat\n",
        "    qualified = True                       # Her iş için başta qualified'ı True yap (uygun varsayılsın)\n",
        "    for skill in my_skills:                # Kullanıcının sahip olduğu her beceri için döngü başlat\n",
        "        if skill not in job[\"skills\"]:     # Eğer kullanıcının bir becerisi, işin gereken becerileri arasında değilse\n",
        "            qualified = False              # O zaman qualified'ı False yap (uygun değil)\n",
        "            print(qualified)               # qualified durumunu yazdır (False)\n",
        "            print(skill)                   # Eksik bulunan beceriyi yazdır (kullanıcı becerisi ama işte yok)\n",
        "            print(job[\"skills\"])           # İşin gerektirdiği beceri listesini yazdır\n",
        "            break                          # Bu döngüyü hemen durdur, diğer becerileri kontrol etme\n",
        "\n"
      ],
      "metadata": {
        "colab": {
          "base_uri": "https://localhost:8080/"
        },
        "id": "lY-a1WMk90p_",
        "outputId": "7da32e90-1a1a-4f59-8e5b-b68e6e6306fe"
      },
      "execution_count": 13,
      "outputs": [
        {
          "output_type": "stream",
          "name": "stdout",
          "text": [
            "False\n",
            "SQL\n",
            "['Python', 'R', 'Machine Learning', 'Deep Learning']\n",
            "False\n",
            "SQL\n",
            "['Python', 'TensorFlow', 'PyTorch', 'Scikit-Learn']\n",
            "False\n",
            "Excel\n",
            "['Python', 'Apache Spark', 'Hadoop', 'SQL']\n",
            "False\n",
            "SQL\n",
            "['R', 'Python', 'MATLAB', 'Statistics']\n",
            "False\n",
            "Excel\n",
            "['Python', 'SQL', 'Data Visualization', 'Process Improvement']\n",
            "False\n",
            "Python\n",
            "['SQL', 'Oracle', 'MySQL', 'Database Management']\n",
            "False\n",
            "SQL\n",
            "['Python', 'TensorFlow', 'PyTorch', 'Computer Vision']\n",
            "False\n",
            "SQL\n",
            "['R', 'SAS', 'Python', 'Statistical Modeling']\n"
          ]
        }
      ]
    },
    {
      "cell_type": "code",
      "source": [
        "qualified_roles=[]\n",
        "for job in job_roles:                      # job_roles listesindeki her bir iş için döngü başlat\n",
        "    qualified = True                       # Her iş için başta qualified'ı True yap (uygun varsayılsın)\n",
        "    for skill in my_skills:                # Kullanıcının sahip olduğu her beceri için döngü başlat\n",
        "        if skill not in job[\"skills\"]:     # Eğer kullanıcının bir becerisi, işin gereken becerileri arasında değilse\n",
        "            qualified = False              # O zaman qualified'ı False yap (uygun değil)\n",
        "            break# Bu döngüyü hemen durdur, diğer becerileri kontrol etme\n",
        "    if qualified:\n",
        "      qualified_roles.append(job[\"role\"])\n",
        "\n",
        "\n",
        "qualified_roles"
      ],
      "metadata": {
        "colab": {
          "base_uri": "https://localhost:8080/"
        },
        "id": "PTK-zArBHeW-",
        "outputId": "cb63061f-9333-4119-8920-4b9c3243f177"
      },
      "execution_count": 17,
      "outputs": [
        {
          "output_type": "execute_result",
          "data": {
            "text/plain": [
              "['Data Analyst', 'Business Intelligence Analyst']"
            ]
          },
          "metadata": {},
          "execution_count": 17
        }
      ]
    },
    {
      "cell_type": "code",
      "source": [],
      "metadata": {
        "id": "fHRgdEioBW83"
      },
      "execution_count": null,
      "outputs": []
    },
    {
      "cell_type": "code",
      "source": [],
      "metadata": {
        "id": "4tMF4q4K9958"
      },
      "execution_count": null,
      "outputs": []
    }
  ]
}