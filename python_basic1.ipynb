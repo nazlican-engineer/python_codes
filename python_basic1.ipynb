{
  "nbformat": 4,
  "nbformat_minor": 0,
  "metadata": {
    "colab": {
      "provenance": []
    },
    "kernelspec": {
      "name": "python3",
      "display_name": "Python 3"
    },
    "language_info": {
      "name": "python"
    }
  },
  "cells": [
    {
      "cell_type": "code",
      "execution_count": null,
      "metadata": {
        "colab": {
          "base_uri": "https://localhost:8080/"
        },
        "id": "RGixyebLvqVf",
        "outputId": "ff185b81-003c-48e0-bedf-2a507a300159"
      },
      "outputs": [
        {
          "output_type": "stream",
          "name": "stdout",
          "text": [
            "nazli\n"
          ]
        }
      ],
      "source": [
        "print(\"nazli\")"
      ]
    },
    {
      "cell_type": "code",
      "source": [
        "b=10.0\n",
        "print(type(b))\n",
        "type(b)"
      ],
      "metadata": {
        "colab": {
          "base_uri": "https://localhost:8080/"
        },
        "id": "sR3UlT0nwtYX",
        "outputId": "03a2a934-20ea-431e-88d4-ead20c1fe638"
      },
      "execution_count": null,
      "outputs": [
        {
          "output_type": "stream",
          "name": "stdout",
          "text": [
            "<class 'float'>\n"
          ]
        },
        {
          "output_type": "execute_result",
          "data": {
            "text/plain": [
              "float"
            ]
          },
          "metadata": {},
          "execution_count": 3
        }
      ]
    },
    {
      "cell_type": "code",
      "source": [
        "x=input(\"enter e number\")\n",
        "print(\"hello\",x)"
      ],
      "metadata": {
        "colab": {
          "base_uri": "https://localhost:8080/"
        },
        "id": "otaktHvRw2K_",
        "outputId": "7a0c620b-ccb3-42e3-a081-0c0eade16373"
      },
      "execution_count": null,
      "outputs": [
        {
          "output_type": "stream",
          "name": "stdout",
          "text": [
            "enter e numberdfgf\n",
            "hello dfgf\n"
          ]
        }
      ]
    },
    {
      "cell_type": "code",
      "source": [
        "#kullanıcıdan iki tam sayı al ve ortlalamalrını bul\n",
        "x=int(input(\"lütfen bir sayi giriniz\"))\n",
        "y=int(input(\"lütfen diger sayiyi giriniz\"))\n",
        "ortalama=(x+y)/2\n",
        "print(ortalama)"
      ],
      "metadata": {
        "colab": {
          "base_uri": "https://localhost:8080/"
        },
        "id": "4QIsf5ybxAmM",
        "outputId": "bed2f613-6640-497b-9cec-baeea17c8ee4"
      },
      "execution_count": null,
      "outputs": [
        {
          "output_type": "stream",
          "name": "stdout",
          "text": [
            "lütfen bir sayi giriniz34\n",
            "lütfen diger sayiyi giriniz56\n",
            "45.0\n"
          ]
        }
      ]
    },
    {
      "cell_type": "code",
      "source": [
        "print(7//2)#bölüm\n",
        "print(9%2)#kalan"
      ],
      "metadata": {
        "colab": {
          "base_uri": "https://localhost:8080/"
        },
        "id": "n72DMQv6xy1U",
        "outputId": "acad5741-3d7f-4ebf-8d68-6f311fa71531"
      },
      "execution_count": null,
      "outputs": [
        {
          "output_type": "stream",
          "name": "stdout",
          "text": [
            "3\n",
            "1\n"
          ]
        }
      ]
    },
    {
      "cell_type": "code",
      "source": [],
      "metadata": {
        "id": "wUosJVNqyS_m"
      },
      "execution_count": null,
      "outputs": []
    }
  ]
}