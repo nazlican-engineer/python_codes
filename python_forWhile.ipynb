{
  "nbformat": 4,
  "nbformat_minor": 0,
  "metadata": {
    "colab": {
      "provenance": []
    },
    "kernelspec": {
      "name": "python3",
      "display_name": "Python 3"
    },
    "language_info": {
      "name": "python"
    }
  },
  "cells": [
    {
      "cell_type": "code",
      "execution_count": null,
      "metadata": {
        "id": "ltDbCCdX6FLo"
      },
      "outputs": [],
      "source": []
    },
    {
      "cell_type": "markdown",
      "source": [
        "FOR WHİLE DÖNGÜLERİ\n"
      ],
      "metadata": {
        "id": "H-Ia9heXhV68"
      }
    },
    {
      "cell_type": "code",
      "source": [
        "i=1\n",
        "while i<=10:\n",
        "  print(\"python çok güzel bir dildir\")\n",
        "  i=i+1"
      ],
      "metadata": {
        "colab": {
          "base_uri": "https://localhost:8080/"
        },
        "id": "f7ekwxP_hZqB",
        "outputId": "7d713bbc-5aae-4d30-ee66-1350afec0355"
      },
      "execution_count": null,
      "outputs": [
        {
          "output_type": "stream",
          "name": "stdout",
          "text": [
            "python çok güzel bir dildir\n",
            "python çok güzel bir dildir\n",
            "python çok güzel bir dildir\n",
            "python çok güzel bir dildir\n",
            "python çok güzel bir dildir\n",
            "python çok güzel bir dildir\n",
            "python çok güzel bir dildir\n",
            "python çok güzel bir dildir\n",
            "python çok güzel bir dildir\n",
            "python çok güzel bir dildir\n"
          ]
        }
      ]
    },
    {
      "cell_type": "code",
      "source": [
        "print(\"merhaba\\tdunya\")\n",
        "print(\"merhaba\\ndunya\")"
      ],
      "metadata": {
        "colab": {
          "base_uri": "https://localhost:8080/"
        },
        "id": "CWG1NJi7htkw",
        "outputId": "79db0bbc-3456-44ee-df9f-9e85bd251d89"
      },
      "execution_count": null,
      "outputs": [
        {
          "output_type": "stream",
          "name": "stdout",
          "text": [
            "merhaba\tdunya\n",
            "merhaba\n",
            "dunya\n"
          ]
        }
      ]
    },
    {
      "cell_type": "code",
      "source": [
        "print(\"merhaba\",end=\"*\")#end ifadesi ifadelerin arasına herhangi bir method yazdırmak istersek kullanılır...\n",
        "print(\"dunya\")\n"
      ],
      "metadata": {
        "colab": {
          "base_uri": "https://localhost:8080/"
        },
        "id": "FDRQ5oyGh_-R",
        "outputId": "881d543b-fe02-4f1f-fe0d-b2c1bcc0b5ec"
      },
      "execution_count": null,
      "outputs": [
        {
          "output_type": "stream",
          "name": "stdout",
          "text": [
            "merhaba*dunya\n"
          ]
        }
      ]
    },
    {
      "cell_type": "code",
      "source": [
        "#birden dokuza kadar olan sayıların üssünü alma\n",
        "i=1\n",
        "while i<10:\n",
        "  print(i**2,end=\"**\")\n",
        "  i=i+1"
      ],
      "metadata": {
        "colab": {
          "base_uri": "https://localhost:8080/"
        },
        "id": "pZlVEu5Oi4DU",
        "outputId": "e6297f7f-6aca-4f79-88aa-a0ce86414fb5"
      },
      "execution_count": null,
      "outputs": [
        {
          "output_type": "stream",
          "name": "stdout",
          "text": [
            "1**4**9**16**25**36**49**64**81**"
          ]
        }
      ]
    },
    {
      "cell_type": "code",
      "source": [
        "while True:\n",
        "  print(\"Lütfen adınızı giriniz:\")\n",
        "  name=input()\n",
        "\n",
        "  if name==\"Çıkış\"or name ==\"ç\":\n",
        "    break\n",
        "print (\"Thanks :)\")"
      ],
      "metadata": {
        "colab": {
          "base_uri": "https://localhost:8080/"
        },
        "id": "imIjnNzWjJGd",
        "outputId": "fc8ddf52-bbd5-426d-94df-dee6944f9863"
      },
      "execution_count": null,
      "outputs": [
        {
          "output_type": "stream",
          "name": "stdout",
          "text": [
            "Lütfen adınızı giriniz:\n",
            "jkjh\n",
            "Lütfen adınızı giriniz:\n",
            "ç\n",
            "Thanks :)\n"
          ]
        }
      ]
    },
    {
      "cell_type": "code",
      "source": [
        "#Bir sayının faktoriyelini bulma\n",
        "sayi=int(input(\"lutfen bir sayi giriniz\"))\n",
        "faktor=1\n",
        "if sayi==1:\n",
        "  print(\"1\")\n",
        "else:\n",
        "  while sayi>1:\n",
        "    faktor=faktor*sayi\n",
        "    sayi=sayi-1\n",
        "  print(faktor)\n"
      ],
      "metadata": {
        "colab": {
          "base_uri": "https://localhost:8080/"
        },
        "id": "vPLRtfA4jhza",
        "outputId": "2e4aea9c-1312-4371-89fd-2ea3e1ad70a8"
      },
      "execution_count": null,
      "outputs": [
        {
          "output_type": "stream",
          "name": "stdout",
          "text": [
            "lutfen bir sayi giriniz8\n",
            "40320\n"
          ]
        }
      ]
    },
    {
      "cell_type": "code",
      "source": [
        "#range fonksiyonu belirli aralıktki sayıları üretmek için kullanılır..\n",
        "for i in range (10):\n",
        "  print(i)\n"
      ],
      "metadata": {
        "colab": {
          "base_uri": "https://localhost:8080/"
        },
        "id": "KxunIg4Zk9fD",
        "outputId": "da8109b4-a269-4f53-a3a3-17479ee0a956"
      },
      "execution_count": null,
      "outputs": [
        {
          "output_type": "stream",
          "name": "stdout",
          "text": [
            "0\n",
            "1\n",
            "2\n",
            "3\n",
            "4\n",
            "5\n",
            "6\n",
            "7\n",
            "8\n",
            "9\n"
          ]
        }
      ]
    },
    {
      "cell_type": "code",
      "source": [
        "#range (başlangıç,bitiş,artış)\n",
        "for i in range(1,10,3):\n",
        "  print(i)"
      ],
      "metadata": {
        "colab": {
          "base_uri": "https://localhost:8080/"
        },
        "id": "YKZYVAj-lXhM",
        "outputId": "f1c8aae0-4956-4e4c-b07c-45ae08137617"
      },
      "execution_count": null,
      "outputs": [
        {
          "output_type": "stream",
          "name": "stdout",
          "text": [
            "1\n",
            "4\n",
            "7\n"
          ]
        }
      ]
    },
    {
      "cell_type": "code",
      "source": [
        "for i in range(1,10):\n",
        "  print(\"sayi {}\".format(i))"
      ],
      "metadata": {
        "colab": {
          "base_uri": "https://localhost:8080/"
        },
        "id": "klXYtP7Ml3t7",
        "outputId": "969d7693-326c-45a2-cf2d-f04000c4e973"
      },
      "execution_count": null,
      "outputs": [
        {
          "output_type": "stream",
          "name": "stdout",
          "text": [
            "sayi 1\n",
            "sayi 2\n",
            "sayi 3\n",
            "sayi 4\n",
            "sayi 5\n",
            "sayi 6\n",
            "sayi 7\n",
            "sayi 8\n",
            "sayi 9\n"
          ]
        }
      ]
    },
    {
      "cell_type": "code",
      "source": [
        "for i in [10,20,30,40,50,60,70,80,90,100]:\n",
        "  if i==20:\n",
        "    print(\"aranan eleman bulundu\")\n",
        "    break\n",
        "  else:\n",
        "    print(\"sayi bulunamadi\")"
      ],
      "metadata": {
        "colab": {
          "base_uri": "https://localhost:8080/"
        },
        "id": "wE4fvGZ6mOEO",
        "outputId": "c381ca58-cbba-49bf-b2bd-2e97801eaa49"
      },
      "execution_count": null,
      "outputs": [
        {
          "output_type": "stream",
          "name": "stdout",
          "text": [
            "sayi bulunamadi\n",
            "aranan eleman bulundu\n"
          ]
        }
      ]
    },
    {
      "cell_type": "code",
      "source": [
        "#0 dan 100 e kadar olan asal sayıları yazan program\n",
        "for sayi in range(2,100):\n",
        "  asal=True\n",
        "  for i in range(2,sayi):\n",
        "    if sayi%i==0:\n",
        "      asal=False\n",
        "      break\n",
        "  if asal:\n",
        "    print(sayi,end=\"**\")"
      ],
      "metadata": {
        "colab": {
          "base_uri": "https://localhost:8080/"
        },
        "id": "6ECc59MgnZt3",
        "outputId": "ff7fd988-9fe8-401b-f823-eb070f03595f"
      },
      "execution_count": null,
      "outputs": [
        {
          "output_type": "stream",
          "name": "stdout",
          "text": [
            "2**3**5**7**11**13**17**19**23**29**31**37**41**43**47**53**59**61**67**71**73**79**83**89**97**"
          ]
        }
      ]
    },
    {
      "cell_type": "code",
      "source": [],
      "metadata": {
        "id": "17c-LvsFpiP6"
      },
      "execution_count": null,
      "outputs": []
    }
  ]
}