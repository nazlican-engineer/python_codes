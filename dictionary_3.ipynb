{
  "nbformat": 4,
  "nbformat_minor": 0,
  "metadata": {
    "colab": {
      "provenance": []
    },
    "kernelspec": {
      "name": "python3",
      "display_name": "Python 3"
    },
    "language_info": {
      "name": "python"
    }
  },
  "cells": [
    {
      "cell_type": "markdown",
      "source": [],
      "metadata": {
        "id": "xCffUnU79BT8"
      }
    },
    {
      "cell_type": "markdown",
      "source": [
        "DİCTİONARY\n"
      ],
      "metadata": {
        "id": "V1m8A_QD9Cmg"
      }
    },
    {
      "cell_type": "code",
      "source": [
        "#PYTHONDA DİCTİONARY DE ANAHTAR DEĞER İLİŞKİSİ VARDIR\n"
      ],
      "metadata": {
        "id": "W4Cj4SXW9FL4"
      },
      "execution_count": null,
      "outputs": []
    },
    {
      "cell_type": "code",
      "source": [
        "sozluk1={\"isim\":\"nazli\",\"yas\":\"12\",\"soyad\":\"puskullu\"}\n",
        "print(sozluk1[\"isim\"])"
      ],
      "metadata": {
        "colab": {
          "base_uri": "https://localhost:8080/"
        },
        "id": "9TXdekTx9NN7",
        "outputId": "937baba5-d8c3-4860-8fe1-5932f7c1aa4f"
      },
      "execution_count": null,
      "outputs": [
        {
          "output_type": "stream",
          "name": "stdout",
          "text": [
            "nazli\n"
          ]
        }
      ]
    },
    {
      "cell_type": "code",
      "source": [
        "print(sozluk1[\"soyad\"])"
      ],
      "metadata": {
        "colab": {
          "base_uri": "https://localhost:8080/"
        },
        "id": "6X0nGxFT9fZQ",
        "outputId": "dc96b7d1-3ff6-4af5-c975-e6fc15b3e198"
      },
      "execution_count": null,
      "outputs": [
        {
          "output_type": "stream",
          "name": "stdout",
          "text": [
            "puskullu\n"
          ]
        }
      ]
    },
    {
      "cell_type": "code",
      "source": [
        "sozluk1[\"meslek\"]=\"computer engineer\"\n",
        "print(sozluk1)"
      ],
      "metadata": {
        "colab": {
          "base_uri": "https://localhost:8080/"
        },
        "id": "vuiBIMPp9kUX",
        "outputId": "47364ead-3417-42f7-825d-65d9a99b83ec"
      },
      "execution_count": null,
      "outputs": [
        {
          "output_type": "stream",
          "name": "stdout",
          "text": [
            "{'isim': 'nazli', 'yas': '12', 'soyad': 'puskullu', 'meslek': 'computer engineer'}\n"
          ]
        }
      ]
    },
    {
      "cell_type": "code",
      "source": [
        "sozluk1[\"eposta\"]=\"nazocan1710@gmail.com\"\n",
        "print(sozluk1)"
      ],
      "metadata": {
        "colab": {
          "base_uri": "https://localhost:8080/"
        },
        "id": "rlk4YnHK9th5",
        "outputId": "c5374920-66a4-4e1f-9e42-0cdd31fc27ac"
      },
      "execution_count": null,
      "outputs": [
        {
          "output_type": "stream",
          "name": "stdout",
          "text": [
            "{'isim': 'nazli', 'yas': '12', 'soyad': 'puskullu', 'meslek': 'computer engineer', 'eposta': 'nazocan1710@gmail.com'}\n"
          ]
        }
      ]
    },
    {
      "cell_type": "code",
      "source": [
        "(sozluk1.pop(\"yas\"))"
      ],
      "metadata": {
        "colab": {
          "base_uri": "https://localhost:8080/",
          "height": 36
        },
        "id": "9H7NJeq_95mg",
        "outputId": "dc7e0ae0-debe-4c07-dcd8-001218553134"
      },
      "execution_count": null,
      "outputs": [
        {
          "output_type": "execute_result",
          "data": {
            "text/plain": [
              "'12'"
            ],
            "application/vnd.google.colaboratory.intrinsic+json": {
              "type": "string"
            }
          },
          "metadata": {},
          "execution_count": 5
        }
      ]
    },
    {
      "cell_type": "code",
      "source": [
        "print(sozluk1)"
      ],
      "metadata": {
        "colab": {
          "base_uri": "https://localhost:8080/"
        },
        "id": "FsFVDd8m-SwX",
        "outputId": "a1969698-3cd8-42d3-eee6-8415f149b149"
      },
      "execution_count": null,
      "outputs": [
        {
          "output_type": "stream",
          "name": "stdout",
          "text": [
            "{'isim': 'nazli', 'soyad': 'puskullu', 'meslek': 'computer engineer', 'eposta': 'nazocan1710@gmail.com'}\n"
          ]
        }
      ]
    },
    {
      "cell_type": "code",
      "source": [
        "sozluk1.popitem()#SONDAKİ DEĞERİ SİLER VE ONU EKRANA YAZAR\n",
        "print(sozluk1)"
      ],
      "metadata": {
        "colab": {
          "base_uri": "https://localhost:8080/"
        },
        "id": "7sDlmfcA-VVx",
        "outputId": "8c889678-5da3-449a-adf4-dfc3377b6c7f"
      },
      "execution_count": null,
      "outputs": [
        {
          "output_type": "stream",
          "name": "stdout",
          "text": [
            "{'isim': 'nazli', 'soyad': 'puskullu', 'meslek': 'computer engineer'}\n"
          ]
        }
      ]
    },
    {
      "cell_type": "code",
      "source": [
        "sozluk2={\"cjfd\":\"jdı\",\"cjvf\":\"kcjkv\",\"vjbv\":\"ckjvk\",\"cjvh\":\"kcv\"}\n",
        "sozluk2.clear() #CLEAR METODU İÇİNİ TEMİZLER VE EKRANA İKİ TANE SÜSLÜ  PARANTEZ BIRAKIR\n",
        "print(sozluk2)"
      ],
      "metadata": {
        "colab": {
          "base_uri": "https://localhost:8080/"
        },
        "id": "L9X7meli-gos",
        "outputId": "f725c10d-0580-4a3d-9394-d20e9b883412"
      },
      "execution_count": null,
      "outputs": [
        {
          "output_type": "stream",
          "name": "stdout",
          "text": [
            "{}\n"
          ]
        }
      ]
    },
    {
      "cell_type": "code",
      "source": [
        "del sozluk2#DEL METODU SÖZLÜĞÜ HEPTEN SİLER VE ÇALIŞTIRMAK İSTEDİĞİM ZAMAN EKRANA HATA VERİR\n",
        "print(sozluk2)"
      ],
      "metadata": {
        "colab": {
          "base_uri": "https://localhost:8080/",
          "height": 158
        },
        "id": "BreKtriF-xs3",
        "outputId": "bc8a7fa7-7ae1-4f89-c557-e7c562a93e17"
      },
      "execution_count": null,
      "outputs": [
        {
          "output_type": "error",
          "ename": "NameError",
          "evalue": "name 'sozluk2' is not defined",
          "traceback": [
            "\u001b[0;31m---------------------------------------------------------------------------\u001b[0m",
            "\u001b[0;31mNameError\u001b[0m                                 Traceback (most recent call last)",
            "\u001b[0;32m<ipython-input-9-86ceb51d8bc5>\u001b[0m in \u001b[0;36m<cell line: 0>\u001b[0;34m()\u001b[0m\n\u001b[1;32m      1\u001b[0m \u001b[0;32mdel\u001b[0m \u001b[0msozluk2\u001b[0m\u001b[0;34m\u001b[0m\u001b[0;34m\u001b[0m\u001b[0m\n\u001b[0;32m----> 2\u001b[0;31m \u001b[0mprint\u001b[0m\u001b[0;34m(\u001b[0m\u001b[0msozluk2\u001b[0m\u001b[0;34m)\u001b[0m\u001b[0;34m\u001b[0m\u001b[0;34m\u001b[0m\u001b[0m\n\u001b[0m",
            "\u001b[0;31mNameError\u001b[0m: name 'sozluk2' is not defined"
          ]
        }
      ]
    },
    {
      "cell_type": "code",
      "source": [
        "for i in sozluk1:\n",
        "    print(sozluk1[\"isim\"])"
      ],
      "metadata": {
        "colab": {
          "base_uri": "https://localhost:8080/"
        },
        "id": "PPF9-8m-_LSX",
        "outputId": "b42be215-64d9-49b4-a7a4-64ae69006476"
      },
      "execution_count": null,
      "outputs": [
        {
          "output_type": "stream",
          "name": "stdout",
          "text": [
            "nazli\n",
            "nazli\n",
            "nazli\n"
          ]
        }
      ]
    },
    {
      "cell_type": "code",
      "source": [
        "for i in sozluk1:\n",
        "    print(i,sozluk1[i])"
      ],
      "metadata": {
        "colab": {
          "base_uri": "https://localhost:8080/"
        },
        "id": "Jt3zwiei_f1K",
        "outputId": "6d9dd70b-e14d-47cc-e281-d31a76560c61"
      },
      "execution_count": null,
      "outputs": [
        {
          "output_type": "stream",
          "name": "stdout",
          "text": [
            "nazli\n",
            "puskullu\n",
            "computer engineer\n"
          ]
        }
      ]
    },
    {
      "cell_type": "code",
      "source": [
        "\n",
        "print(sozluk1.keys())\n",
        "for i in sozluk1.keys():\n",
        "    print(i)\n",
        "\n",
        "print(sozluk1.values())\n",
        "for i in sozluk1.values():\n",
        "    print(i)"
      ],
      "metadata": {
        "colab": {
          "base_uri": "https://localhost:8080/"
        },
        "id": "ug57KD2K_ndu",
        "outputId": "56d28f47-68ee-4e80-8080-9f2838e2af3a"
      },
      "execution_count": null,
      "outputs": [
        {
          "output_type": "stream",
          "name": "stdout",
          "text": [
            "dict_keys(['isim', 'soyad', 'meslek'])\n",
            "isim\n",
            "soyad\n",
            "meslek\n",
            "dict_values(['nazli', 'puskullu', 'computer engineer'])\n",
            "nazli\n",
            "puskullu\n",
            "computer engineer\n"
          ]
        }
      ]
    },
    {
      "cell_type": "code",
      "source": [
        "print(sozluk1.items())"
      ],
      "metadata": {
        "colab": {
          "base_uri": "https://localhost:8080/"
        },
        "id": "OsPrtmJD_5BZ",
        "outputId": "91092b0a-7755-4d22-9346-c4bcb7fad7b2"
      },
      "execution_count": null,
      "outputs": [
        {
          "output_type": "stream",
          "name": "stdout",
          "text": [
            "dict_items([('isim', 'nazli'), ('soyad', 'puskullu'), ('meslek', 'computer engineer')])\n"
          ]
        }
      ]
    },
    {
      "cell_type": "code",
      "source": [
        "for keys,values in sozluk1.items():\n",
        "  print(keys,values)"
      ],
      "metadata": {
        "colab": {
          "base_uri": "https://localhost:8080/"
        },
        "id": "NNFBYhj2AxEl",
        "outputId": "8b1d2247-a2f4-474d-ca98-a86ff7fc6e81"
      },
      "execution_count": null,
      "outputs": [
        {
          "output_type": "stream",
          "name": "stdout",
          "text": [
            "isim nazli\n",
            "soyad puskullu\n",
            "meslek computer engineer\n"
          ]
        }
      ]
    },
    {
      "cell_type": "code",
      "source": [
        "sozluk2={}\n",
        "sozluk3={\"isim\":\"nazli\",\"soyad\":\"puskullu\",\"yas\":\"40\"}\n",
        "sozluk2.update(sozluk3)\n",
        "print(sozluk2)\n"
      ],
      "metadata": {
        "colab": {
          "base_uri": "https://localhost:8080/"
        },
        "id": "Kq3pAW00A-Ms",
        "outputId": "362126a4-7063-468b-cd1c-16dd3b81ddc4"
      },
      "execution_count": 1,
      "outputs": [
        {
          "output_type": "stream",
          "name": "stdout",
          "text": [
            "{'isim': 'nazli', 'soyad': 'puskullu', 'yas': '40'}\n"
          ]
        }
      ]
    },
    {
      "cell_type": "code",
      "source": [
        "sozluk2={}\n",
        "sozluk3=dict(isim=\"nazli\",soyad=\"puskullu\",yas=\"40\")\n",
        "sozluk2.update(sozluk3)\n",
        "print(sozluk2)"
      ],
      "metadata": {
        "colab": {
          "base_uri": "https://localhost:8080/"
        },
        "id": "r8L1fQn6Bg3A",
        "outputId": "ece5dfe8-9fd6-4058-ede2-73cbcfbff173"
      },
      "execution_count": 2,
      "outputs": [
        {
          "output_type": "stream",
          "name": "stdout",
          "text": [
            "{'isim': 'nazli', 'soyad': 'puskullu', 'yas': '40'}\n"
          ]
        }
      ]
    },
    {
      "cell_type": "code",
      "source": [
        "import pandas as pd\n",
        "\n",
        "sozluk5 ={\n",
        "    \"ad\":[\"nazli\",\"berfin\",\"mete\"],\n",
        "    \"soyad\":[\"puskullu\",\"puskullu\",\"yaganoglu\"],\n",
        "    \"yas\":[\"23\",\"22\",\"44\"]\n",
        "\n",
        "}\n",
        "\n",
        "df=pd.DataFrame(sozluk5)\n",
        "df[\"maas\"]=None\n",
        "print(df)"
      ],
      "metadata": {
        "colab": {
          "base_uri": "https://localhost:8080/"
        },
        "id": "4z_sPoHxCC9H",
        "outputId": "a19ca9f4-5fd5-46ba-c2cb-4bb603fc535f"
      },
      "execution_count": 3,
      "outputs": [
        {
          "output_type": "stream",
          "name": "stdout",
          "text": [
            "       ad      soyad yas  maas\n",
            "0   nazli   puskullu  23  None\n",
            "1  berfin   puskullu  22  None\n",
            "2    mete  yaganoglu  44  None\n"
          ]
        }
      ]
    },
    {
      "cell_type": "code",
      "source": [
        "df.at[1,\"maas\"]=\"409540\"\n",
        "df.at[2,\"maas\"]=\"2345\"\n",
        "print(df)"
      ],
      "metadata": {
        "colab": {
          "base_uri": "https://localhost:8080/"
        },
        "id": "JpvU52QLC_Kw",
        "outputId": "0ec06b17-cb2a-43ec-ea45-ec9e116ca222"
      },
      "execution_count": null,
      "outputs": [
        {
          "output_type": "stream",
          "name": "stdout",
          "text": [
            "      ad      soyad yas    maas\n",
            "0  nazli   puskullu  23    None\n",
            "1  yusuf     mizrak  22  409540\n",
            "2   mete  yaganoglu  44    2345\n"
          ]
        }
      ]
    },
    {
      "cell_type": "code",
      "source": [
        "kisiler={\n",
        "    \"mete\":[\"basketbol\",\"yüzme\",\"ip atlama\"],\n",
        "    \"faruk\":[\"zıplama\",\"koşma\"],\n",
        "    \"nazli\":[\"kitap okuma\",\"yürüyüş\"]\n",
        "\n",
        "\n",
        "   }\n",
        "hobi_sayiları={isim: len (hobiler)for isim,hobiler in kisiler.items()}\n",
        "print(hobi_sayiları)"
      ],
      "metadata": {
        "colab": {
          "base_uri": "https://localhost:8080/"
        },
        "id": "UBPUHTRCDN32",
        "outputId": "ee24f038-b797-493b-af42-593379d92be8"
      },
      "execution_count": null,
      "outputs": [
        {
          "output_type": "stream",
          "name": "stdout",
          "text": [
            "{'mete': 3, 'faruk': 2, 'nazli': 2}\n"
          ]
        }
      ]
    }
  ]
}