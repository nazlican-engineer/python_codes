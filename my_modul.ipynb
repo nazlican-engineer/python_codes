{
  "nbformat": 4,
  "nbformat_minor": 0,
  "metadata": {
    "colab": {
      "provenance": []
    },
    "kernelspec": {
      "name": "python3",
      "display_name": "Python 3"
    },
    "language_info": {
      "name": "python"
    }
  },
  "cells": [
    {
      "cell_type": "code",
      "execution_count": 1,
      "metadata": {
        "colab": {
          "base_uri": "https://localhost:8080/"
        },
        "id": "3KsuD4B2wdO_",
        "outputId": "dd9637d0-582d-4310-dc46-af26addc2f03"
      },
      "outputs": [
        {
          "output_type": "execute_result",
          "data": {
            "text/plain": [
              "['sql', 'python', 'excel']"
            ]
          },
          "metadata": {},
          "execution_count": 1
        }
      ],
      "source": [
        "import my_module #python da moduller kodu daha düzenli kılmak için kullanılır\n",
        "my_module.skill_list\n"
      ]
    },
    {
      "cell_type": "code",
      "source": [
        "my_module.skill(\"python\")"
      ],
      "metadata": {
        "colab": {
          "base_uri": "https://localhost:8080/",
          "height": 36
        },
        "id": "P114jficx-bX",
        "outputId": "a9215512-5a06-44a2-f6da-8b9ab9b594c2"
      },
      "execution_count": 2,
      "outputs": [
        {
          "output_type": "execute_result",
          "data": {
            "text/plain": [
              "'python is my favorite skill '"
            ],
            "application/vnd.google.colaboratory.intrinsic+json": {
              "type": "string"
            }
          },
          "metadata": {},
          "execution_count": 2
        }
      ]
    },
    {
      "cell_type": "code",
      "source": [
        "import  job_analyzer\n",
        "job_analyzer.salary_calculate(23)"
      ],
      "metadata": {
        "colab": {
          "base_uri": "https://localhost:8080/"
        },
        "id": "idSdpxuq2h6H",
        "outputId": "91b378ed-d110-4bdf-e416-a9e7adeb5f0c"
      },
      "execution_count": 3,
      "outputs": [
        {
          "output_type": "execute_result",
          "data": {
            "text/plain": [
              "92"
            ]
          },
          "metadata": {},
          "execution_count": 3
        }
      ]
    },
    {
      "cell_type": "code",
      "source": [
        "from job_analyzer import salary_calculate\n",
        "salary_calculate(34)"
      ],
      "metadata": {
        "colab": {
          "base_uri": "https://localhost:8080/"
        },
        "id": "RQiygT8f3AMW",
        "outputId": "f4ede981-4df1-43fb-ebc4-6892ae8be897"
      },
      "execution_count": 4,
      "outputs": [
        {
          "output_type": "execute_result",
          "data": {
            "text/plain": [
              "136"
            ]
          },
          "metadata": {},
          "execution_count": 4
        }
      ]
    },
    {
      "cell_type": "code",
      "source": [
        "import job_analyzer as ja\n",
        "\n",
        "print(ja.salary_calculate(45))   # Doğru çıktı: 180\n",
        "print(ja.calculate_bonus(23))    # Doğru çıktı: -11\n"
      ],
      "metadata": {
        "colab": {
          "base_uri": "https://localhost:8080/"
        },
        "id": "4CIuFZgW3Hic",
        "outputId": "8bb8fb30-99b2-487c-b788-50822526adf8"
      },
      "execution_count": 5,
      "outputs": [
        {
          "output_type": "stream",
          "name": "stdout",
          "text": [
            "180\n",
            "-11\n"
          ]
        }
      ]
    },
    {
      "cell_type": "code",
      "source": [
        "from job_analyzer import salary_calculate,calculate_bonus\n",
        "print(salary_calculate(89))\n",
        "print(calculate_bonus(23))"
      ],
      "metadata": {
        "colab": {
          "base_uri": "https://localhost:8080/"
        },
        "id": "FIcMZ__p4ycG",
        "outputId": "daf1e3fc-d737-4f72-9b6c-8e4f577fee1c"
      },
      "execution_count": 6,
      "outputs": [
        {
          "output_type": "stream",
          "name": "stdout",
          "text": [
            "356\n",
            "-11\n"
          ]
        }
      ]
    },
    {
      "cell_type": "code",
      "source": [
        "salary_list=[1000,289,456,879,12]\n",
        "import statistics as sta\n",
        "sta.mean(salary_list)"
      ],
      "metadata": {
        "colab": {
          "base_uri": "https://localhost:8080/"
        },
        "id": "5tWiNniH6hve",
        "outputId": "bcd8e280-2426-4378-a19d-cd1dd3f2876e"
      },
      "execution_count": 8,
      "outputs": [
        {
          "output_type": "execute_result",
          "data": {
            "text/plain": [
              "527.2"
            ]
          },
          "metadata": {},
          "execution_count": 8
        }
      ]
    },
    {
      "cell_type": "code",
      "source": [
        "numbers=[1,2,3,4]\n",
        "sta.geometric_mean(numbers)"
      ],
      "metadata": {
        "colab": {
          "base_uri": "https://localhost:8080/"
        },
        "id": "6XHsSece9lv-",
        "outputId": "59d1f21f-3b18-458b-9322-4a5824d6f98a"
      },
      "execution_count": 9,
      "outputs": [
        {
          "output_type": "execute_result",
          "data": {
            "text/plain": [
              "2.2133638394006434"
            ]
          },
          "metadata": {},
          "execution_count": 9
        }
      ]
    },
    {
      "cell_type": "code",
      "source": [
        "from statistics import mean,mode,median\n",
        "print(mean(salary_list))\n",
        "print(mode(salary_list))\n",
        "print(median(salary_list))"
      ],
      "metadata": {
        "colab": {
          "base_uri": "https://localhost:8080/"
        },
        "id": "d_OVkr8M9wdl",
        "outputId": "8a4ffaea-d122-4271-f8a3-11492281cac5"
      },
      "execution_count": 10,
      "outputs": [
        {
          "output_type": "stream",
          "name": "stdout",
          "text": [
            "527.2\n",
            "1000\n",
            "456\n"
          ]
        }
      ]
    },
    {
      "cell_type": "code",
      "source": [],
      "metadata": {
        "id": "exqKXpwW-dP3"
      },
      "execution_count": null,
      "outputs": []
    }
  ]
}