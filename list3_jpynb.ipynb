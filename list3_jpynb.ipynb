{
  "nbformat": 4,
  "nbformat_minor": 0,
  "metadata": {
    "colab": {
      "provenance": []
    },
    "kernelspec": {
      "name": "python3",
      "display_name": "Python 3"
    },
    "language_info": {
      "name": "python"
    }
  },
  "cells": [
    {
      "cell_type": "markdown",
      "source": [],
      "metadata": {
        "id": "_PP506iu6PK_"
      }
    },
    {
      "cell_type": "markdown",
      "source": [
        "LİSTE\n"
      ],
      "metadata": {
        "id": "wJt9GEw26RDx"
      }
    },
    {
      "cell_type": "code",
      "source": [
        "liste=[10,34,56,87,98]\n",
        "liste.append(45)\n",
        "print(liste)"
      ],
      "metadata": {
        "colab": {
          "base_uri": "https://localhost:8080/"
        },
        "id": "kFfYoGzi6S3b",
        "outputId": "f40fa11a-9357-4897-aa7e-cc75a4cb7d87"
      },
      "execution_count": null,
      "outputs": [
        {
          "output_type": "stream",
          "name": "stdout",
          "text": [
            "[10, 34, 56, 87, 98, 45]\n"
          ]
        }
      ]
    },
    {
      "cell_type": "code",
      "source": [
        "liste[10]=-111#listenin 10.elemanı  olmadığı için hata verir\n",
        "print(liste)"
      ],
      "metadata": {
        "colab": {
          "base_uri": "https://localhost:8080/",
          "height": 158
        },
        "id": "caRPGLU86pmW",
        "outputId": "dbc419f9-e7db-4bca-91b9-e20ed9593c3a"
      },
      "execution_count": null,
      "outputs": [
        {
          "output_type": "error",
          "ename": "IndexError",
          "evalue": "list assignment index out of range",
          "traceback": [
            "\u001b[0;31m---------------------------------------------------------------------------\u001b[0m",
            "\u001b[0;31mIndexError\u001b[0m                                Traceback (most recent call last)",
            "\u001b[0;32m<ipython-input-2-1145181476ce>\u001b[0m in \u001b[0;36m<cell line: 0>\u001b[0;34m()\u001b[0m\n\u001b[0;32m----> 1\u001b[0;31m \u001b[0mliste\u001b[0m\u001b[0;34m[\u001b[0m\u001b[0;36m10\u001b[0m\u001b[0;34m]\u001b[0m\u001b[0;34m=\u001b[0m\u001b[0;34m-\u001b[0m\u001b[0;36m111\u001b[0m\u001b[0;34m\u001b[0m\u001b[0;34m\u001b[0m\u001b[0m\n\u001b[0m\u001b[1;32m      2\u001b[0m \u001b[0mprint\u001b[0m\u001b[0;34m(\u001b[0m\u001b[0mliste\u001b[0m\u001b[0;34m)\u001b[0m\u001b[0;34m\u001b[0m\u001b[0;34m\u001b[0m\u001b[0m\n",
            "\u001b[0;31mIndexError\u001b[0m: list assignment index out of range"
          ]
        }
      ]
    },
    {
      "cell_type": "code",
      "source": [
        "liste.insert(10,-111)\n",
        "print(liste)#BURADA APPEND METODU GİBİ HATA VERMEZ DEĞERİ EKLER\n",
        "liste.insert(2,8)#LİSTENİN İKİNCİ İNDİSİNİ 8 YAPAR\n",
        "print(liste)"
      ],
      "metadata": {
        "colab": {
          "base_uri": "https://localhost:8080/"
        },
        "id": "wo2fbrt066g2",
        "outputId": "208491c2-e74a-499c-ca06-e8c3d753c960"
      },
      "execution_count": null,
      "outputs": [
        {
          "output_type": "stream",
          "name": "stdout",
          "text": [
            "[10, 34, 8, 56, 87, 98, 45, -111, -111, -111]\n",
            "[10, 34, 8, 8, 56, 87, 98, 45, -111, -111, -111]\n"
          ]
        }
      ]
    },
    {
      "cell_type": "code",
      "source": [
        "liste.pop()#HEM ELEMANI GÖSTERİYOR HEM DE LİSTENİN SONUNDAKİ ELEMANI GÖSTERİYOR\n",
        "print(liste)"
      ],
      "metadata": {
        "colab": {
          "base_uri": "https://localhost:8080/"
        },
        "id": "kW4CzVw37xzr",
        "outputId": "d3f6f851-130a-4f77-b5da-a9f75a9e5f77"
      },
      "execution_count": null,
      "outputs": [
        {
          "output_type": "stream",
          "name": "stdout",
          "text": [
            "[10, 34, 56, 87, 98]\n"
          ]
        }
      ]
    },
    {
      "cell_type": "code",
      "source": [
        "x=liste.index(8)#listenin kaçıncı indes de olduğunu gösteriyor\n",
        "print(x)"
      ],
      "metadata": {
        "colab": {
          "base_uri": "https://localhost:8080/"
        },
        "id": "ai13BC_08MYi",
        "outputId": "20289c81-a5d1-4704-fec7-2ac392cd769d"
      },
      "execution_count": null,
      "outputs": [
        {
          "output_type": "stream",
          "name": "stdout",
          "text": [
            "2\n"
          ]
        }
      ]
    },
    {
      "cell_type": "code",
      "source": [
        "liste.index(\"if\")#LİSTEDE OLMADIĞI İÇİN HATA VERİR"
      ],
      "metadata": {
        "colab": {
          "base_uri": "https://localhost:8080/",
          "height": 141
        },
        "id": "7MkRDceS8p8n",
        "outputId": "298dec4e-6731-4ba0-bbf3-1f2514f3e2b7"
      },
      "execution_count": null,
      "outputs": [
        {
          "output_type": "error",
          "ename": "ValueError",
          "evalue": "'if' is not in list",
          "traceback": [
            "\u001b[0;31m---------------------------------------------------------------------------\u001b[0m",
            "\u001b[0;31mValueError\u001b[0m                                Traceback (most recent call last)",
            "\u001b[0;32m<ipython-input-11-e1af032d1066>\u001b[0m in \u001b[0;36m<cell line: 0>\u001b[0;34m()\u001b[0m\n\u001b[0;32m----> 1\u001b[0;31m \u001b[0mliste\u001b[0m\u001b[0;34m.\u001b[0m\u001b[0mindex\u001b[0m\u001b[0;34m(\u001b[0m\u001b[0;34m\"if\"\u001b[0m\u001b[0;34m)\u001b[0m\u001b[0;31m#LİSTEDE OLMADIĞI İÇİN HATA VERİR\u001b[0m\u001b[0;34m\u001b[0m\u001b[0;34m\u001b[0m\u001b[0m\n\u001b[0m",
            "\u001b[0;31mValueError\u001b[0m: 'if' is not in list"
          ]
        }
      ]
    },
    {
      "cell_type": "code",
      "source": [
        "liste.remove(10)\n",
        "print(liste)"
      ],
      "metadata": {
        "colab": {
          "base_uri": "https://localhost:8080/"
        },
        "id": "eBu53don8vsc",
        "outputId": "36ed4783-2f59-401c-9c64-852ea900288d"
      },
      "execution_count": null,
      "outputs": [
        {
          "output_type": "stream",
          "name": "stdout",
          "text": [
            "[34, 8, 8, 56, 87, 98]\n"
          ]
        }
      ]
    },
    {
      "cell_type": "code",
      "source": [
        "liste.remove(6)#LİSTEDE OLMADIĞI İÇİN HATA VERİR\n",
        "print(liste)"
      ],
      "metadata": {
        "colab": {
          "base_uri": "https://localhost:8080/",
          "height": 158
        },
        "id": "KszJ2qQc9IOy",
        "outputId": "584349dc-77ed-4f8d-ba36-77304023ec1c"
      },
      "execution_count": null,
      "outputs": [
        {
          "output_type": "error",
          "ename": "ValueError",
          "evalue": "list.remove(x): x not in list",
          "traceback": [
            "\u001b[0;31m---------------------------------------------------------------------------\u001b[0m",
            "\u001b[0;31mValueError\u001b[0m                                Traceback (most recent call last)",
            "\u001b[0;32m<ipython-input-13-0a3a528793c6>\u001b[0m in \u001b[0;36m<cell line: 0>\u001b[0;34m()\u001b[0m\n\u001b[0;32m----> 1\u001b[0;31m \u001b[0mliste\u001b[0m\u001b[0;34m.\u001b[0m\u001b[0mremove\u001b[0m\u001b[0;34m(\u001b[0m\u001b[0;36m6\u001b[0m\u001b[0;34m)\u001b[0m\u001b[0;34m\u001b[0m\u001b[0;34m\u001b[0m\u001b[0m\n\u001b[0m\u001b[1;32m      2\u001b[0m \u001b[0mprint\u001b[0m\u001b[0;34m(\u001b[0m\u001b[0mliste\u001b[0m\u001b[0;34m)\u001b[0m\u001b[0;34m\u001b[0m\u001b[0;34m\u001b[0m\u001b[0m\n",
            "\u001b[0;31mValueError\u001b[0m: list.remove(x): x not in list"
          ]
        }
      ]
    },
    {
      "cell_type": "code",
      "source": [
        "liste2=[3,4,5,7,9,10,11,34,56,3,3,4]\n",
        "print(liste2.count(100))"
      ],
      "metadata": {
        "colab": {
          "base_uri": "https://localhost:8080/"
        },
        "id": "im-iOW7U9RD8",
        "outputId": "43f82718-3890-4706-d2ef-163bf631daad"
      },
      "execution_count": null,
      "outputs": [
        {
          "output_type": "stream",
          "name": "stdout",
          "text": [
            "0\n"
          ]
        }
      ]
    },
    {
      "cell_type": "code",
      "source": [
        "liste2.sort()\n",
        "print(liste2)\n"
      ],
      "metadata": {
        "colab": {
          "base_uri": "https://localhost:8080/"
        },
        "id": "RczVioYp9ySb",
        "outputId": "4d26fbe8-27f9-425c-c304-08a783560e06"
      },
      "execution_count": null,
      "outputs": [
        {
          "output_type": "stream",
          "name": "stdout",
          "text": [
            "[3, 3, 3, 4, 4, 5, 7, 9, 10, 11, 34, 56]\n"
          ]
        }
      ]
    },
    {
      "cell_type": "code",
      "source": [
        "liste3=[2,4,6,8,10]\n",
        "liste3.clear()\n",
        "print(liste3)#LİSTENİN KENDİSİNİ YOK ETMEZ İÇİNDEKİLERİ YOK EDER"
      ],
      "metadata": {
        "colab": {
          "base_uri": "https://localhost:8080/"
        },
        "id": "Y1Jyucev96gO",
        "outputId": "4b9fdd26-bb14-479a-dbb7-9095907e91e6"
      },
      "execution_count": null,
      "outputs": [
        {
          "output_type": "stream",
          "name": "stdout",
          "text": [
            "[]\n"
          ]
        }
      ]
    },
    {
      "cell_type": "code",
      "source": [
        "liste3.append(34)\n",
        "print(liste3)"
      ],
      "metadata": {
        "colab": {
          "base_uri": "https://localhost:8080/"
        },
        "id": "68Q6iq8S-QKZ",
        "outputId": "563f2a87-4170-4f1a-b8f0-9a5ac61593c8"
      },
      "execution_count": null,
      "outputs": [
        {
          "output_type": "stream",
          "name": "stdout",
          "text": [
            "[34]\n"
          ]
        }
      ]
    },
    {
      "cell_type": "code",
      "source": [
        "yeniliste=[]\n",
        "yeniliste=liste3.copy()\n",
        "print(yeniliste)"
      ],
      "metadata": {
        "colab": {
          "base_uri": "https://localhost:8080/"
        },
        "id": "e2xdHGPd-ViJ",
        "outputId": "17e008e2-e080-4e25-ecae-a9bd19480be1"
      },
      "execution_count": null,
      "outputs": [
        {
          "output_type": "stream",
          "name": "stdout",
          "text": [
            "[34]\n"
          ]
        }
      ]
    },
    {
      "cell_type": "code",
      "source": [
        "'''Başlangıçta boş bir liste tanımlayınız.\n",
        "Bu listeye 5 eleman kullanıcı  yoluyla alınız ve listenin  elamanlarını toplamını\n",
        "ve ortalamasını yazınız.'''\n",
        "\n",
        "bosliste=[]\n",
        "i=1\n",
        "sum=0\n",
        "\n",
        "while i<=5:\n",
        "  deger=int(input(\"lütfen bir sayi giriniz\"))\n",
        "  bosliste.append(deger)\n",
        "  i=i+1\n",
        "print(bosliste)\n",
        "for i in bosliste:\n",
        "  sum=sum+i\n",
        "  ortalama=sum/len(bosliste)\n",
        "print(\"toplam: \",sum)\n",
        "print(\"ortalama: \",ortalama)\n",
        "\n",
        "\n",
        "\n"
      ],
      "metadata": {
        "colab": {
          "base_uri": "https://localhost:8080/"
        },
        "id": "sRScHEZ_-rc_",
        "outputId": "dde28c77-e674-4397-86aa-c2602c125a04"
      },
      "execution_count": null,
      "outputs": [
        {
          "output_type": "stream",
          "name": "stdout",
          "text": [
            "lütfen bir sayi giriniz4\n",
            "lütfen bir sayi giriniz5\n",
            "lütfen bir sayi giriniz6\n",
            "lütfen bir sayi giriniz7\n",
            "lütfen bir sayi giriniz8\n",
            "[4, 5, 6, 7, 8]\n",
            "toplam:  30\n",
            "ortalama:  6.0\n"
          ]
        }
      ]
    },
    {
      "cell_type": "code",
      "source": [
        "liste4=[35,76,89,90,10,[34,7,9,1,3,0],78,98,12,322]\n",
        "print(liste4[5][3])"
      ],
      "metadata": {
        "colab": {
          "base_uri": "https://localhost:8080/"
        },
        "id": "ERLLaEjYAn88",
        "outputId": "38a12b32-d818-422e-b03c-a7c1ba38a09a"
      },
      "execution_count": null,
      "outputs": [
        {
          "output_type": "stream",
          "name": "stdout",
          "text": [
            "1\n"
          ]
        }
      ]
    },
    {
      "cell_type": "code",
      "source": [
        "liste5=[3,5,7,9,11]\n",
        "liste6=[12,3,46,78,96,liste5]\n",
        "print(liste6)"
      ],
      "metadata": {
        "colab": {
          "base_uri": "https://localhost:8080/"
        },
        "id": "v9b1NTI0A9vo",
        "outputId": "6c30c22d-28ed-4ffb-9533-bb4ed6814770"
      },
      "execution_count": null,
      "outputs": [
        {
          "output_type": "stream",
          "name": "stdout",
          "text": [
            "[12, 3, 46, 78, 96, [3, 5, 7, 9, 11]]\n"
          ]
        }
      ]
    },
    {
      "cell_type": "code",
      "source": [
        "print(liste6[5][9])#HATA VERİR ÇÜNKÜ LİSTE5 DE 9 İNDİSDE DEĞER YOKTUR"
      ],
      "metadata": {
        "colab": {
          "base_uri": "https://localhost:8080/",
          "height": 141
        },
        "id": "-GGvULA-BTWN",
        "outputId": "86dcc7c7-d863-440c-faee-712191cb1db1"
      },
      "execution_count": null,
      "outputs": [
        {
          "output_type": "error",
          "ename": "IndexError",
          "evalue": "list index out of range",
          "traceback": [
            "\u001b[0;31m---------------------------------------------------------------------------\u001b[0m",
            "\u001b[0;31mIndexError\u001b[0m                                Traceback (most recent call last)",
            "\u001b[0;32m<ipython-input-24-0d18fef5e3f2>\u001b[0m in \u001b[0;36m<cell line: 0>\u001b[0;34m()\u001b[0m\n\u001b[0;32m----> 1\u001b[0;31m \u001b[0mprint\u001b[0m\u001b[0;34m(\u001b[0m\u001b[0mliste6\u001b[0m\u001b[0;34m[\u001b[0m\u001b[0;36m5\u001b[0m\u001b[0;34m]\u001b[0m\u001b[0;34m[\u001b[0m\u001b[0;36m9\u001b[0m\u001b[0;34m]\u001b[0m\u001b[0;34m)\u001b[0m\u001b[0;34m\u001b[0m\u001b[0;34m\u001b[0m\u001b[0m\n\u001b[0m",
            "\u001b[0;31mIndexError\u001b[0m: list index out of range"
          ]
        }
      ]
    },
    {
      "cell_type": "code",
      "source": [
        "liste7=[23,45,56,67,78]\n",
        "liste8=[23,12,56,87,90]\n",
        "liste3=liste7+liste8\n",
        "print(liste3)"
      ],
      "metadata": {
        "colab": {
          "base_uri": "https://localhost:8080/"
        },
        "id": "sgUCIPDcBqye",
        "outputId": "e7c55191-aecc-4cd5-81e6-78cbcf7e84bc"
      },
      "execution_count": null,
      "outputs": [
        {
          "output_type": "stream",
          "name": "stdout",
          "text": [
            "[23, 45, 56, 67, 78, 23, 12, 56, 87, 90]\n"
          ]
        }
      ]
    },
    {
      "cell_type": "code",
      "source": [
        "liste8=liste8+[\"ıfdof\"]\n",
        "print(liste8)#LİSTE OLARAK DDEĞİLDE ÖGESİ OLARAK İÇİNE EKLER"
      ],
      "metadata": {
        "colab": {
          "base_uri": "https://localhost:8080/",
          "height": 158
        },
        "id": "xoueEPAOCFc7",
        "outputId": "a7460c81-5f08-466c-8cd7-8029e5d9e83e"
      },
      "execution_count": null,
      "outputs": [
        {
          "output_type": "error",
          "ename": "NameError",
          "evalue": "name 'liste8' is not defined",
          "traceback": [
            "\u001b[0;31m---------------------------------------------------------------------------\u001b[0m",
            "\u001b[0;31mNameError\u001b[0m                                 Traceback (most recent call last)",
            "\u001b[0;32m<ipython-input-2-79099e102f0c>\u001b[0m in \u001b[0;36m<cell line: 0>\u001b[0;34m()\u001b[0m\n\u001b[0;32m----> 1\u001b[0;31m \u001b[0mliste8\u001b[0m\u001b[0;34m=\u001b[0m\u001b[0mliste8\u001b[0m\u001b[0;34m+\u001b[0m\u001b[0;34m\"ıfdof\"\u001b[0m\u001b[0;34m\u001b[0m\u001b[0;34m\u001b[0m\u001b[0m\n\u001b[0m\u001b[1;32m      2\u001b[0m \u001b[0mprint\u001b[0m\u001b[0;34m(\u001b[0m\u001b[0mliste8\u001b[0m\u001b[0;34m)\u001b[0m\u001b[0;31m#LİSTE OLARAK DDEĞİLDE ÖGESİ OLARAK İÇİNE EKLER\u001b[0m\u001b[0;34m\u001b[0m\u001b[0;34m\u001b[0m\u001b[0m\n",
            "\u001b[0;31mNameError\u001b[0m: name 'liste8' is not defined"
          ]
        }
      ]
    },
    {
      "cell_type": "code",
      "source": [
        "liste9=\"nazlıcan puskullu\"\n",
        "print(list(liste9))"
      ],
      "metadata": {
        "colab": {
          "base_uri": "https://localhost:8080/"
        },
        "id": "KJ0oLDCeCVDX",
        "outputId": "6475e5be-76cb-4114-9331-bbb0548b3f0b"
      },
      "execution_count": null,
      "outputs": [
        {
          "output_type": "stream",
          "name": "stdout",
          "text": [
            "['n', 'a', 'z', 'l', 'ı', 'c', 'a', 'n', ' ', 'p', 'u', 's', 'k', 'u', 'l', 'l', 'u']\n"
          ]
        }
      ]
    },
    {
      "cell_type": "code",
      "source": [
        "liste=[i for i in range(19)]\n",
        "print(liste)"
      ],
      "metadata": {
        "colab": {
          "base_uri": "https://localhost:8080/"
        },
        "id": "OjZP_EFCClSO",
        "outputId": "3ef05aaa-3a6c-4830-ab67-e6a4703790b5"
      },
      "execution_count": null,
      "outputs": [
        {
          "output_type": "stream",
          "name": "stdout",
          "text": [
            "[0, 1, 2, 3, 4, 5, 6, 7, 8, 9, 10, 11, 12, 13, 14, 15, 16, 17, 18]\n"
          ]
        }
      ]
    },
    {
      "cell_type": "code",
      "source": [
        "arabalar=[\"df\",\"cxvv\",\"vcv\",\"cvb\"]\n",
        "modeller=[\"vfgf\",\"vcbg\",\"dcre\",\"fvfv\"]\n",
        "arabalar.append(modeller)\n",
        "print(arabalar)#İÇ İÇE LİSTELER OLUSTURUR"
      ],
      "metadata": {
        "colab": {
          "base_uri": "https://localhost:8080/"
        },
        "id": "LnOW4B9pCx11",
        "outputId": "92df59c4-7284-4a0a-b6cc-6d1e8b9b9bc6"
      },
      "execution_count": null,
      "outputs": [
        {
          "output_type": "stream",
          "name": "stdout",
          "text": [
            "['df', 'cxvv', 'vcv', 'cvb', ['vfgf', 'vcbg', 'dcre', 'fvfv']]\n"
          ]
        }
      ]
    },
    {
      "cell_type": "code",
      "source": [
        "arabalar=[\"df\",\"cxvv\",\"vcv\",\"cvb\"]\n",
        "modeller=[\"vfgf\",\"vcbg\",\"dcre\",\"fvfv\"]\n",
        "arabalar.extend(modeller)\n",
        "print(arabalar)\n",
        "\n",
        "#EXTEND METODU İÇ İÇE DİZİ OLUŞTURMAZ TEK BİR DİZİ GİBİ İŞLEV GÖRÜR.APPEND METODU İSE İÇ İÇE DİZİ OLUŞTURUR\n"
      ],
      "metadata": {
        "colab": {
          "base_uri": "https://localhost:8080/"
        },
        "id": "YALQvUvnDKsM",
        "outputId": "3632d94b-c94b-4d5c-8169-f118119ab4c9"
      },
      "execution_count": null,
      "outputs": [
        {
          "output_type": "stream",
          "name": "stdout",
          "text": [
            "['df', 'cxvv', 'vcv', 'cvb', 'vfgf', 'vcbg', 'dcre', 'fvfv']\n"
          ]
        }
      ]
    },
    {
      "cell_type": "code",
      "source": [
        "modeller=[\"vfgf\",\"vcbg\",\"dcre\",\"fvfv\"]\n",
        "modeller.reverse()\n",
        "print(modeller)"
      ],
      "metadata": {
        "colab": {
          "base_uri": "https://localhost:8080/"
        },
        "id": "yITf9fJODlZ1",
        "outputId": "c220ef1f-6e5e-4f05-95d3-ee4338bd885f"
      },
      "execution_count": null,
      "outputs": [
        {
          "output_type": "stream",
          "name": "stdout",
          "text": [
            "['fvfv', 'dcre', 'vcbg', 'vfgf']\n"
          ]
        }
      ]
    }
  ]
}