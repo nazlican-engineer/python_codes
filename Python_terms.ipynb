{
  "nbformat": 4,
  "nbformat_minor": 0,
  "metadata": {
    "colab": {
      "provenance": []
    },
    "kernelspec": {
      "name": "python3",
      "display_name": "Python 3"
    },
    "language_info": {
      "name": "python"
    }
  },
  "cells": [
    {
      "cell_type": "code",
      "execution_count": 2,
      "metadata": {
        "colab": {
          "base_uri": "https://localhost:8080/"
        },
        "id": "7RW117vpF7qd",
        "outputId": "d20b6301-1b40-4bdd-f6da-de8335e79c91"
      },
      "outputs": [
        {
          "output_type": "stream",
          "name": "stdout",
          "text": [
            "sample_data\n"
          ]
        }
      ],
      "source": [
        "!ls #bulunduğun klasördeki  dosya ve komutları listeler"
      ]
    },
    {
      "cell_type": "code",
      "source": [
        "%timeit [i**2 for i in range(1000)]#bir kod satırının ne kadar sürede çalıştığını hesaplar"
      ],
      "metadata": {
        "id": "nnmQjrQEGhHa",
        "colab": {
          "base_uri": "https://localhost:8080/"
        },
        "outputId": "a686dccd-0dab-4347-908c-90ab8bc5e512"
      },
      "execution_count": 3,
      "outputs": [
        {
          "output_type": "stream",
          "name": "stdout",
          "text": [
            "64.4 µs ± 720 ns per loop (mean ± std. dev. of 7 runs, 10000 loops each)\n"
          ]
        }
      ]
    },
    {
      "cell_type": "code",
      "source": [
        "%%timeit\n",
        "#başına iki tane %% eklersek  birden fazla kod satırının ne kadar sürede çalıştığını  görürürüm\n",
        "\n",
        "list1=[]\n",
        "for n in range(3):\n",
        "  list1.append(n**2)"
      ],
      "metadata": {
        "id": "bBD3916nGjyy",
        "colab": {
          "base_uri": "https://localhost:8080/"
        },
        "outputId": "c8dff721-74cd-4743-bc66-3857b75a94cd"
      },
      "execution_count": 4,
      "outputs": [
        {
          "output_type": "stream",
          "name": "stdout",
          "text": [
            "324 ns ± 9.73 ns per loop (mean ± std. dev. of 7 runs, 1000000 loops each)\n"
          ]
        }
      ]
    },
    {
      "cell_type": "code",
      "source": [
        "\n",
        "#başına iki tane %% eklersek  birden fazla kod satırının ne kadar sürede çalıştığını  görürürüm\n",
        "\n",
        "list1=[]\n",
        "for n in range(3):\n",
        "  list1.append(n**2)\n",
        "list1"
      ],
      "metadata": {
        "id": "3ZR0bDIIGmfC",
        "colab": {
          "base_uri": "https://localhost:8080/"
        },
        "outputId": "538a8f29-2156-4506-ef10-e024016938ec"
      },
      "execution_count": 5,
      "outputs": [
        {
          "output_type": "execute_result",
          "data": {
            "text/plain": [
              "[0, 1, 4]"
            ]
          },
          "metadata": {},
          "execution_count": 5
        }
      ]
    },
    {
      "cell_type": "markdown",
      "source": [
        "**VARİABLES**\n"
      ],
      "metadata": {
        "id": "S7b9-3RZGqeJ"
      }
    },
    {
      "cell_type": "code",
      "source": [
        "salary=1000"
      ],
      "metadata": {
        "id": "0EFntOcXGu9w"
      },
      "execution_count": 6,
      "outputs": []
    },
    {
      "cell_type": "code",
      "source": [
        "salary"
      ],
      "metadata": {
        "id": "sk9mgy0EGyEx",
        "colab": {
          "base_uri": "https://localhost:8080/"
        },
        "outputId": "5d3cb46f-3567-49ce-88bd-06bf872d6f2b"
      },
      "execution_count": 7,
      "outputs": [
        {
          "output_type": "execute_result",
          "data": {
            "text/plain": [
              "1000"
            ]
          },
          "metadata": {},
          "execution_count": 7
        }
      ]
    },
    {
      "cell_type": "code",
      "source": [
        "\"salary\""
      ],
      "metadata": {
        "id": "HPjoUbTBG1gw",
        "colab": {
          "base_uri": "https://localhost:8080/",
          "height": 36
        },
        "outputId": "a3fa359e-bfe0-4719-8667-e907df417cfa"
      },
      "execution_count": 8,
      "outputs": [
        {
          "output_type": "execute_result",
          "data": {
            "text/plain": [
              "'salary'"
            ],
            "application/vnd.google.colaboratory.intrinsic+json": {
              "type": "string"
            }
          },
          "metadata": {},
          "execution_count": 8
        }
      ]
    },
    {
      "cell_type": "code",
      "source": [
        "base_salary=100000\n",
        "bonus_rate=.10 #0.10  ile aynı değer\n",
        "total_salary=(base_salary*(1+bonus_rate))\n",
        "int(total_salary)"
      ],
      "metadata": {
        "id": "F0q3q_n4G7MP",
        "colab": {
          "base_uri": "https://localhost:8080/"
        },
        "outputId": "ee683d43-7f59-4b46-a7f2-07a08ff31fac"
      },
      "execution_count": 9,
      "outputs": [
        {
          "output_type": "execute_result",
          "data": {
            "text/plain": [
              "110000"
            ]
          },
          "metadata": {},
          "execution_count": 9
        }
      ]
    },
    {
      "cell_type": "code",
      "source": [
        "job_name=\"engineer\"\n",
        "job_name"
      ],
      "metadata": {
        "id": "8KjpyixtHAIR",
        "colab": {
          "base_uri": "https://localhost:8080/",
          "height": 36
        },
        "outputId": "b0633c6f-e066-49b4-ca4d-d0b03ec3c14f"
      },
      "execution_count": 10,
      "outputs": [
        {
          "output_type": "execute_result",
          "data": {
            "text/plain": [
              "'engineer'"
            ],
            "application/vnd.google.colaboratory.intrinsic+json": {
              "type": "string"
            }
          },
          "metadata": {},
          "execution_count": 10
        }
      ]
    },
    {
      "cell_type": "code",
      "source": [
        "address_home=True\n",
        "address_home"
      ],
      "metadata": {
        "id": "zAHkjJkrHBPQ",
        "colab": {
          "base_uri": "https://localhost:8080/"
        },
        "outputId": "98662dd0-3948-45a2-950e-50a1161e2feb"
      },
      "execution_count": 11,
      "outputs": [
        {
          "output_type": "execute_result",
          "data": {
            "text/plain": [
              "True"
            ]
          },
          "metadata": {},
          "execution_count": 11
        }
      ]
    },
    {
      "cell_type": "code",
      "source": [
        "job_title=\"data analyst\"\n",
        "job_id=11\n",
        "job_salary=125000\n",
        "company_name=\"ataturk university\"\n",
        "\n",
        "print(\"data job descirption\")\n",
        "print(\"********************\")\n",
        "print(\"job title: \",job_title )\n",
        "print(\"job id: \",job_id)\n",
        "print(\"job_salary: \",job_salary)\n",
        "print(\"company_name: \",company_name)\n",
        "print(\"address_home: \",address_home)"
      ],
      "metadata": {
        "id": "ahffRl_RHEUH",
        "colab": {
          "base_uri": "https://localhost:8080/"
        },
        "outputId": "7715ea22-575a-41ad-ebd3-4c5cf2590c28"
      },
      "execution_count": 12,
      "outputs": [
        {
          "output_type": "stream",
          "name": "stdout",
          "text": [
            "data job descirption\n",
            "********************\n",
            "job title:  data analyst\n",
            "job id:  11\n",
            "job_salary:  125000\n",
            "company_name:  ataturk university\n",
            "address_home:  True\n"
          ]
        }
      ]
    },
    {
      "cell_type": "markdown",
      "source": [
        "**OBJECTS**\n"
      ],
      "metadata": {
        "id": "B1aqyh8bHK8P"
      }
    },
    {
      "cell_type": "code",
      "source": [
        "#python da her şey objedir."
      ],
      "metadata": {
        "id": "kz48kqOoHQk_"
      },
      "execution_count": 13,
      "outputs": []
    },
    {
      "cell_type": "code",
      "source": [
        "print"
      ],
      "metadata": {
        "id": "9Yz8UtWzHTB4",
        "colab": {
          "base_uri": "https://localhost:8080/"
        },
        "outputId": "27a0b4cc-786a-4eaf-dd95-d15b2a52258b"
      },
      "execution_count": 14,
      "outputs": [
        {
          "output_type": "execute_result",
          "data": {
            "text/plain": [
              "<function print(*args, sep=' ', end='\\n', file=None, flush=False)>"
            ]
          },
          "metadata": {},
          "execution_count": 14
        }
      ]
    },
    {
      "cell_type": "code",
      "source": [
        "age=10\n",
        "type(age)"
      ],
      "metadata": {
        "id": "Msv__1gkHUs3",
        "colab": {
          "base_uri": "https://localhost:8080/"
        },
        "outputId": "b0935c53-4416-4614-e010-4e9ceff6de62"
      },
      "execution_count": 15,
      "outputs": [
        {
          "output_type": "execute_result",
          "data": {
            "text/plain": [
              "int"
            ]
          },
          "metadata": {},
          "execution_count": 15
        }
      ]
    },
    {
      "cell_type": "code",
      "source": [
        "\"data analyst\"\n",
        "type(\"data analyst\")"
      ],
      "metadata": {
        "id": "dpaxBgKBHZGN",
        "colab": {
          "base_uri": "https://localhost:8080/"
        },
        "outputId": "b8871274-3ed7-4273-c284-52cec5eebf02"
      },
      "execution_count": 16,
      "outputs": [
        {
          "output_type": "execute_result",
          "data": {
            "text/plain": [
              "str"
            ]
          },
          "metadata": {},
          "execution_count": 16
        }
      ]
    },
    {
      "cell_type": "code",
      "source": [
        "help(print) #print fonksiyonunu ne işe yaradığını açıklar"
      ],
      "metadata": {
        "id": "h8mSZezkHb41",
        "colab": {
          "base_uri": "https://localhost:8080/"
        },
        "outputId": "10468b3b-7057-41e1-ea23-2088168dc692"
      },
      "execution_count": 17,
      "outputs": [
        {
          "output_type": "stream",
          "name": "stdout",
          "text": [
            "Help on built-in function print in module builtins:\n",
            "\n",
            "print(*args, sep=' ', end='\\n', file=None, flush=False)\n",
            "    Prints the values to a stream, or to sys.stdout by default.\n",
            "    \n",
            "    sep\n",
            "      string inserted between values, default a space.\n",
            "    end\n",
            "      string appended after the last value, default a newline.\n",
            "    file\n",
            "      a file-like object (stream); defaults to the current sys.stdout.\n",
            "    flush\n",
            "      whether to forcibly flush the stream.\n",
            "\n"
          ]
        }
      ]
    },
    {
      "cell_type": "markdown",
      "source": [
        "**VARİABLES:THE REFERENCE TO OBJECTS**"
      ],
      "metadata": {
        "id": "Baqvb2ZEHidn"
      }
    },
    {
      "cell_type": "code",
      "source": [
        "job_title=\"data analyst\"\n",
        "job_salary=123.000\n",
        "job_location=\"TURKEY💖\"\n",
        "print(id(job_location)) #id metoduyla o değikenin bellekteki benzersiz  kimliğini yani nesne adresini döndürür\n",
        "print(id(job_salary))\n",
        "print(id(job_title))"
      ],
      "metadata": {
        "id": "d9YE3AoOHmSU",
        "colab": {
          "base_uri": "https://localhost:8080/"
        },
        "outputId": "80b576ed-2ae5-461b-d92f-ef8db48e2c8b"
      },
      "execution_count": 18,
      "outputs": [
        {
          "output_type": "stream",
          "name": "stdout",
          "text": [
            "137754702928688\n",
            "137754703674160\n",
            "137754703011312\n"
          ]
        }
      ]
    },
    {
      "cell_type": "code",
      "source": [
        "job1=\"data anlayst\"\n",
        "job2=\"data anlayst\"\n",
        "id(job1),id(job2)"
      ],
      "metadata": {
        "id": "MeIwi9vRHqOF",
        "colab": {
          "base_uri": "https://localhost:8080/"
        },
        "outputId": "c2e534b1-8fb1-4e72-98f2-a4507545c1b2"
      },
      "execution_count": 21,
      "outputs": [
        {
          "output_type": "execute_result",
          "data": {
            "text/plain": [
              "(137754703098096, 137754703098608)"
            ]
          },
          "metadata": {},
          "execution_count": 21
        }
      ]
    },
    {
      "cell_type": "code",
      "source": [
        "job1=job2\n",
        "id(job1),id(job2)#bu sefer değer ataması  yaptığım için aynı adresi göstereceklerdir"
      ],
      "metadata": {
        "id": "P-EU8beDHu1N",
        "colab": {
          "base_uri": "https://localhost:8080/"
        },
        "outputId": "59295844-ca40-412f-87d1-490795bfc0c2"
      },
      "execution_count": 22,
      "outputs": [
        {
          "output_type": "execute_result",
          "data": {
            "text/plain": [
              "(137754703098608, 137754703098608)"
            ]
          },
          "metadata": {},
          "execution_count": 22
        }
      ]
    }
  ]
}