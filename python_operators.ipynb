{
  "nbformat": 4,
  "nbformat_minor": 0,
  "metadata": {
    "colab": {
      "provenance": []
    },
    "kernelspec": {
      "name": "python3",
      "display_name": "Python 3"
    },
    "language_info": {
      "name": "python"
    }
  },
  "cells": [
    {
      "cell_type": "markdown",
      "source": [
        "**ARİTHMETİC OPERATORS**"
      ],
      "metadata": {
        "id": "6n5kx75AkYqW"
      }
    },
    {
      "cell_type": "code",
      "source": [
        "four=4\n",
        "four.__sub__(2) #__sub__expression: used to extract numbers in python"
      ],
      "metadata": {
        "colab": {
          "base_uri": "https://localhost:8080/"
        },
        "id": "dcJXmo9PkeWh",
        "outputId": "b3521ce1-a576-47bb-ecdd-54a74b9ceeed"
      },
      "execution_count": null,
      "outputs": [
        {
          "output_type": "execute_result",
          "data": {
            "text/plain": [
              "2"
            ]
          },
          "metadata": {},
          "execution_count": 1
        }
      ]
    },
    {
      "cell_type": "code",
      "source": [
        "9//3"
      ],
      "metadata": {
        "colab": {
          "base_uri": "https://localhost:8080/"
        },
        "id": "xBiSSJ9jlY8v",
        "outputId": "6b3523cb-8451-4029-e00a-dacad41af037"
      },
      "execution_count": null,
      "outputs": [
        {
          "output_type": "execute_result",
          "data": {
            "text/plain": [
              "3"
            ]
          },
          "metadata": {},
          "execution_count": 2
        }
      ]
    },
    {
      "cell_type": "code",
      "source": [
        "9%8"
      ],
      "metadata": {
        "colab": {
          "base_uri": "https://localhost:8080/"
        },
        "id": "JPR-SGdnlbvc",
        "outputId": "c32146ea-22e2-4dcd-b324-dc92f29d6a47"
      },
      "execution_count": null,
      "outputs": [
        {
          "output_type": "execute_result",
          "data": {
            "text/plain": [
              "1"
            ]
          },
          "metadata": {},
          "execution_count": 3
        }
      ]
    },
    {
      "cell_type": "code",
      "source": [
        "9/2"
      ],
      "metadata": {
        "colab": {
          "base_uri": "https://localhost:8080/"
        },
        "id": "tc9pmu8HleBk",
        "outputId": "a923a2b8-97a4-4957-b6de-ccbe7c2d060b"
      },
      "execution_count": null,
      "outputs": [
        {
          "output_type": "execute_result",
          "data": {
            "text/plain": [
              "4.5"
            ]
          },
          "metadata": {},
          "execution_count": 4
        }
      ]
    },
    {
      "cell_type": "code",
      "source": [
        "10//6"
      ],
      "metadata": {
        "colab": {
          "base_uri": "https://localhost:8080/"
        },
        "id": "F-Hk_EA4ls9e",
        "outputId": "4ca1c7ba-11b4-43af-94ae-f70f3b6e7fc1"
      },
      "execution_count": null,
      "outputs": [
        {
          "output_type": "execute_result",
          "data": {
            "text/plain": [
              "1"
            ]
          },
          "metadata": {},
          "execution_count": 5
        }
      ]
    },
    {
      "cell_type": "code",
      "source": [
        "min_salary=5000\n",
        "max_salary=10000\n",
        "avg_salary=(min_salary+max_salary)/2\n",
        "print(avg_salary)"
      ],
      "metadata": {
        "colab": {
          "base_uri": "https://localhost:8080/"
        },
        "id": "Nae0pQG-mMpV",
        "outputId": "34ff3924-eb91-40eb-9939-810d4901cecb"
      },
      "execution_count": null,
      "outputs": [
        {
          "output_type": "stream",
          "name": "stdout",
          "text": [
            "7500.0\n"
          ]
        }
      ]
    },
    {
      "cell_type": "markdown",
      "source": [
        "**ASSİGNMENT OPERATORS**\n"
      ],
      "metadata": {
        "id": "i4Z4rLx4mkjf"
      }
    },
    {
      "cell_type": "code",
      "source": [
        "string1=\"Nazlıcan\"\n",
        "string2=\"PÜSKÜLLÜ\"\n",
        "string2=string1\n",
        "print(\"string2:%s\\nstring1:%s \" %(string1,string2))"
      ],
      "metadata": {
        "colab": {
          "base_uri": "https://localhost:8080/"
        },
        "id": "9Bn6qPrwmod1",
        "outputId": "e7f14410-2455-4582-d462-362c479cc14a"
      },
      "execution_count": null,
      "outputs": [
        {
          "output_type": "stream",
          "name": "stdout",
          "text": [
            "string2:Nazlıcan\n",
            "string1:Nazlıcan \n"
          ]
        }
      ]
    },
    {
      "cell_type": "code",
      "source": [
        "x=3\n",
        "x +=5 #x=x+5\n",
        "x"
      ],
      "metadata": {
        "colab": {
          "base_uri": "https://localhost:8080/"
        },
        "id": "XCvkLXVHoR0f",
        "outputId": "2f823d1b-3137-4b94-e5b8-fa50b4194268"
      },
      "execution_count": null,
      "outputs": [
        {
          "output_type": "execute_result",
          "data": {
            "text/plain": [
              "8"
            ]
          },
          "metadata": {},
          "execution_count": 9
        }
      ]
    },
    {
      "cell_type": "code",
      "source": [
        "x *=10\n",
        "x"
      ],
      "metadata": {
        "colab": {
          "base_uri": "https://localhost:8080/"
        },
        "id": "wfZmlGVqokFe",
        "outputId": "d418424c-0f02-43e5-ee5e-a5f8a719686c"
      },
      "execution_count": null,
      "outputs": [
        {
          "output_type": "execute_result",
          "data": {
            "text/plain": [
              "80"
            ]
          },
          "metadata": {},
          "execution_count": 10
        }
      ]
    },
    {
      "cell_type": "markdown",
      "source": [
        "**COMPARİSON OPERATORS**"
      ],
      "metadata": {
        "id": "x1D5up7po5pe"
      }
    },
    {
      "cell_type": "code",
      "source": [
        "nazlican_salary=30.000\n",
        "ahmet_salary=40.000\n",
        "nazlican_salary==ahmet_salary #returns true or false"
      ],
      "metadata": {
        "colab": {
          "base_uri": "https://localhost:8080/"
        },
        "id": "J2_3NuizpBBV",
        "outputId": "ad0927b9-029b-433d-bafc-b5413efc8e2b"
      },
      "execution_count": null,
      "outputs": [
        {
          "output_type": "execute_result",
          "data": {
            "text/plain": [
              "False"
            ]
          },
          "metadata": {},
          "execution_count": 11
        }
      ]
    },
    {
      "cell_type": "code",
      "source": [
        "1==1"
      ],
      "metadata": {
        "colab": {
          "base_uri": "https://localhost:8080/"
        },
        "id": "o7iWq_aBpe4t",
        "outputId": "ade98e4a-3af8-4a75-c98b-d2bf79c1c66d"
      },
      "execution_count": null,
      "outputs": [
        {
          "output_type": "execute_result",
          "data": {
            "text/plain": [
              "True"
            ]
          },
          "metadata": {},
          "execution_count": 12
        }
      ]
    },
    {
      "cell_type": "code",
      "source": [
        "9<8"
      ],
      "metadata": {
        "colab": {
          "base_uri": "https://localhost:8080/"
        },
        "id": "kRM_fZekphLe",
        "outputId": "c3b570e8-952a-4a46-a1d0-5b4e41c4db0b"
      },
      "execution_count": null,
      "outputs": [
        {
          "output_type": "execute_result",
          "data": {
            "text/plain": [
              "False"
            ]
          },
          "metadata": {},
          "execution_count": 13
        }
      ]
    },
    {
      "cell_type": "code",
      "source": [
        "\"ayşe\"!=\"ahmet\""
      ],
      "metadata": {
        "colab": {
          "base_uri": "https://localhost:8080/"
        },
        "id": "ltKEmlnhp8u_",
        "outputId": "6daeb75b-9e82-44b2-915a-d2b029f987fe"
      },
      "execution_count": null,
      "outputs": [
        {
          "output_type": "execute_result",
          "data": {
            "text/plain": [
              "True"
            ]
          },
          "metadata": {},
          "execution_count": 14
        }
      ]
    },
    {
      "cell_type": "code",
      "source": [
        "\"nazli\"!=\"nazli\""
      ],
      "metadata": {
        "colab": {
          "base_uri": "https://localhost:8080/"
        },
        "id": "VQV25yauqBX3",
        "outputId": "6a9de896-09f0-4011-fcdc-24f878d854de"
      },
      "execution_count": null,
      "outputs": [
        {
          "output_type": "execute_result",
          "data": {
            "text/plain": [
              "False"
            ]
          },
          "metadata": {},
          "execution_count": 15
        }
      ]
    },
    {
      "cell_type": "markdown",
      "source": [
        "**CONDİTİONAL**\n",
        "\n",
        "\n",
        "1.   İF\n",
        "2.   ELİF\n",
        "3.   ELSE"
      ],
      "metadata": {
        "id": "DIn6RdZwqKaA"
      }
    },
    {
      "cell_type": "code",
      "source": [
        "if True:\n",
        "  print(\"Nazli is a data nerd\")"
      ],
      "metadata": {
        "colab": {
          "base_uri": "https://localhost:8080/"
        },
        "id": "wtrM48C5qOIO",
        "outputId": "209b1a4e-8fd7-4abc-9b89-f1e7247dea49"
      },
      "execution_count": null,
      "outputs": [
        {
          "output_type": "stream",
          "name": "stdout",
          "text": [
            "Nazli is a data nerd\n"
          ]
        }
      ]
    },
    {
      "cell_type": "code",
      "source": [
        "applicant_skill=\"Python\"\n",
        "job_skill=\"SQL\"\n",
        "years_experience=7\n",
        "if job_skill==applicant_skill:\n",
        "  print(\"You are hired\")\n",
        "elif years_experience<6:\n",
        "  print(\"you are   hired\")\n",
        "else:\n",
        "  pass #pass means \"don't do anything\"\n"
      ],
      "metadata": {
        "id": "QufyzB8Yq-fX"
      },
      "execution_count": 20,
      "outputs": []
    },
    {
      "cell_type": "code",
      "source": [],
      "metadata": {
        "id": "kRfVjjHkuDJA"
      },
      "execution_count": null,
      "outputs": []
    }
  ]
}