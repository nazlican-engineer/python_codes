{
  "nbformat": 4,
  "nbformat_minor": 0,
  "metadata": {
    "colab": {
      "provenance": []
    },
    "kernelspec": {
      "name": "python3",
      "display_name": "Python 3"
    },
    "language_info": {
      "name": "python"
    }
  },
  "cells": [
    {
      "cell_type": "code",
      "execution_count": null,
      "metadata": {
        "id": "jaIXmjjhUbHR",
        "colab": {
          "base_uri": "https://localhost:8080/"
        },
        "outputId": "78b064dd-c411-435a-ff02-4919bb3e243c"
      },
      "outputs": [
        {
          "output_type": "stream",
          "name": "stdout",
          "text": [
            "lütfen isminizi giriniznazli\n",
            "merhaba nazli\n"
          ]
        }
      ],
      "source": [
        "isim=input(\"lütfen isminizi giriniz\")\n",
        "print(\"merhaba\",isim)"
      ]
    },
    {
      "cell_type": "code",
      "source": [
        "isim=input(\"lütfen isminizi giriniz\")\n",
        "print(f\"hoşgeldin {isim}\")"
      ],
      "metadata": {
        "colab": {
          "base_uri": "https://localhost:8080/"
        },
        "id": "o9sD9gUmI8hh",
        "outputId": "ee9dcac6-08c4-4346-a87a-da5e7a34ec90"
      },
      "execution_count": null,
      "outputs": [
        {
          "output_type": "stream",
          "name": "stdout",
          "text": [
            "lütfen isminizi giriniznazli\n",
            "hoşgeldin nazli\n"
          ]
        }
      ]
    },
    {
      "cell_type": "code",
      "source": [
        "def merhabadunya():\n",
        "  print(\"merhaba dunya\")\n",
        "\n",
        "merhabadunya()"
      ],
      "metadata": {
        "colab": {
          "base_uri": "https://localhost:8080/"
        },
        "id": "gXp_-wWnJmhm",
        "outputId": "4d2ea2e7-71d2-4285-ff49-2418f2df5903"
      },
      "execution_count": null,
      "outputs": [
        {
          "output_type": "stream",
          "name": "stdout",
          "text": [
            "merhaba dunya\n"
          ]
        }
      ]
    },
    {
      "cell_type": "code",
      "source": [
        "def hosgeldin(isim):\n",
        "  print(f\"hosgeldin {isim}\")\n",
        "\n",
        "hosgeldin(\"ahmet\")"
      ],
      "metadata": {
        "colab": {
          "base_uri": "https://localhost:8080/"
        },
        "id": "oarPm0TsKE8X",
        "outputId": "0aa19ba6-9ca7-4d73-f582-ac63cd6b3bbd"
      },
      "execution_count": null,
      "outputs": [
        {
          "output_type": "stream",
          "name": "stdout",
          "text": [
            "hosgeldin ahmet\n"
          ]
        }
      ]
    },
    {
      "cell_type": "code",
      "source": [
        "isim=input(\"lütfen isminizi giriniz\")\n",
        "hosgeldin(isim)"
      ],
      "metadata": {
        "colab": {
          "base_uri": "https://localhost:8080/"
        },
        "id": "H4TJ7mMdKTpe",
        "outputId": "ff475b8b-6378-4a1f-9001-87bdb9936750"
      },
      "execution_count": null,
      "outputs": [
        {
          "output_type": "stream",
          "name": "stdout",
          "text": [
            "lütfen isminizi girinizcvop\n",
            "hosgeldin cvop\n"
          ]
        }
      ]
    },
    {
      "cell_type": "code",
      "source": [
        "hosgeldin(input(\"isminizi giriniz\"))"
      ],
      "metadata": {
        "colab": {
          "base_uri": "https://localhost:8080/"
        },
        "id": "S1PVkL68MEKh",
        "outputId": "11a6bf5f-67c5-48a2-f1e5-f491cb3b4ea0"
      },
      "execution_count": null,
      "outputs": [
        {
          "output_type": "stream",
          "name": "stdout",
          "text": [
            "isminizi girinizcjdjffd\n",
            "hosgeldin cjdjffd\n"
          ]
        }
      ]
    },
    {
      "cell_type": "code",
      "source": [
        "def hosgeldin1(isim,soyad):\n",
        "  print(f\"hosgeldin {isim} {soyad}\")\n",
        "\n",
        "hosgeldin1(\"ahmet\",\"mehmet\")"
      ],
      "metadata": {
        "colab": {
          "base_uri": "https://localhost:8080/"
        },
        "id": "ynAjJQ8JMUlC",
        "outputId": "fb70d07f-a74c-4f95-fb87-c713f1675782"
      },
      "execution_count": null,
      "outputs": [
        {
          "output_type": "stream",
          "name": "stdout",
          "text": [
            "hosgeldin ahmet mehmet\n"
          ]
        }
      ]
    },
    {
      "cell_type": "code",
      "source": [
        "isim1=input(\"lütfen isminizi giriniz\")\n",
        "soyad1=input(\"lütfen soyadınızı giriniz\")\n",
        "hosgeldin1(isim1,soyad1)"
      ],
      "metadata": {
        "colab": {
          "base_uri": "https://localhost:8080/"
        },
        "id": "vJymmt3jMvhM",
        "outputId": "3ac0a0e3-4604-43b8-ebcd-0e8cf5b97300"
      },
      "execution_count": null,
      "outputs": [
        {
          "output_type": "stream",
          "name": "stdout",
          "text": [
            "lütfen isminizi girinizfıduf\n",
            "lütfen soyadınızı girinizıfdog\n",
            "hosgeldin fıduf ıfdog\n"
          ]
        }
      ]
    },
    {
      "cell_type": "code",
      "source": [
        "def hosgeldin2(ad=\"nazli\",soyad=\"puskullu\"):\n",
        "  print(f\"hosgeldin {ad} {soyad}\")\n",
        "\n",
        "hosgeldin2()"
      ],
      "metadata": {
        "colab": {
          "base_uri": "https://localhost:8080/"
        },
        "id": "7oSOGuvZNoHl",
        "outputId": "a90cb49b-4a11-4912-d3e3-b5be60fd0bb9"
      },
      "execution_count": null,
      "outputs": [
        {
          "output_type": "stream",
          "name": "stdout",
          "text": [
            "hosgeldin nazli puskullu\n"
          ]
        }
      ]
    },
    {
      "cell_type": "code",
      "source": [
        "def deneme(ulke=\"Türkiye\"):\n",
        "  print(\"i am from \"+ulke)\n",
        "\n",
        "deneme()"
      ],
      "metadata": {
        "colab": {
          "base_uri": "https://localhost:8080/"
        },
        "id": "EY2Vp7tPO-2Y",
        "outputId": "e33ebd09-3433-462f-b562-e9b42ee0e360"
      },
      "execution_count": null,
      "outputs": [
        {
          "output_type": "stream",
          "name": "stdout",
          "text": [
            "i am from Türkiye\n"
          ]
        }
      ]
    },
    {
      "cell_type": "code",
      "source": [
        "deneme(\"england\")"
      ],
      "metadata": {
        "colab": {
          "base_uri": "https://localhost:8080/"
        },
        "id": "FP6jzud9Q0C5",
        "outputId": "61e14658-68a3-43eb-dfc7-031cc381a2c7"
      },
      "execution_count": null,
      "outputs": [
        {
          "output_type": "stream",
          "name": "stdout",
          "text": [
            "i am from england\n"
          ]
        }
      ]
    },
    {
      "cell_type": "code",
      "source": [
        "def ogrenci(*bilgiler):#BİRDEN FAZLA VERİ KOYMAK İSTERSEM * İŞARETİNİ EKLEMELİYİM\n",
        "  for i in bilgiler:\n",
        "    print(i)\n",
        "\n",
        "\n",
        "ogrenci(\"mete\",\"yaganoglu\",\"220770101\",123)"
      ],
      "metadata": {
        "colab": {
          "base_uri": "https://localhost:8080/"
        },
        "id": "LoN41CUgRBX_",
        "outputId": "d47dacac-b2ea-4904-e377-e86c41a2a353"
      },
      "execution_count": null,
      "outputs": [
        {
          "output_type": "stream",
          "name": "stdout",
          "text": [
            "mete\n",
            "yaganoglu\n",
            "220770101\n",
            "123\n"
          ]
        }
      ]
    },
    {
      "cell_type": "code",
      "source": [
        "def ogrenci2(**bilgiler): #BURADA ** İŞARETİ BİRDEN FAZLA İFADE ANAHTAR KELİME VAR DEMEKTİR\n",
        "  print(\"Adı: \",bilgiler[\"ad\"])\n",
        "  print(\"soyadı: \",bilgiler[\"soyad\"] )\n",
        "  print(\"numarası: \",bilgiler[\"numara\"])\n",
        "  print(\"notu: \",bilgiler[\"notu\"])\n",
        "\n",
        "ogrenci2(ad=\"mete\",soyad=\"yaganoglu\",numara=220707101,notu=123)\n",
        "\n",
        "\n",
        "\n",
        "\n"
      ],
      "metadata": {
        "colab": {
          "base_uri": "https://localhost:8080/"
        },
        "id": "ufJY3PpyTAyf",
        "outputId": "cb785beb-5421-44d1-bb67-2e15fcc2610e"
      },
      "execution_count": null,
      "outputs": [
        {
          "output_type": "stream",
          "name": "stdout",
          "text": [
            "Adı:  mete\n",
            "soyadı:  yaganoglu\n",
            "numarası:  220707101\n",
            "notu:  123\n"
          ]
        }
      ]
    },
    {
      "cell_type": "code",
      "source": [
        "def topla(a,b):\n",
        "  return a+b\n",
        "\n",
        "print(topla(2,3))"
      ],
      "metadata": {
        "colab": {
          "base_uri": "https://localhost:8080/"
        },
        "id": "X8xpFShHUs2X",
        "outputId": "8565262b-76f1-4a74-aef4-425187762715"
      },
      "execution_count": null,
      "outputs": [
        {
          "output_type": "stream",
          "name": "stdout",
          "text": [
            "5\n"
          ]
        }
      ]
    },
    {
      "cell_type": "code",
      "source": [
        "def toplam(a,b):\n",
        "  toplam=a+b\n",
        "  return toplam\n",
        "\n",
        "print(toplam(2,3))\n"
      ],
      "metadata": {
        "colab": {
          "base_uri": "https://localhost:8080/"
        },
        "id": "4u_yiFepU_pG",
        "outputId": "1e9698db-86f6-4f93-e5d7-fa8452fcadc1"
      },
      "execution_count": null,
      "outputs": [
        {
          "output_type": "stream",
          "name": "stdout",
          "text": [
            "5\n"
          ]
        }
      ]
    },
    {
      "cell_type": "code",
      "source": [
        "toplaYeni=lambda sayi,sayi2:sayi+sayi2\n",
        "toplaYeni(100,300)\n",
        "#lambda da sağ taraf fonksiyonun aldığı değerler sol taraf ise fonksiyonun döndürdüğü(return) ettiği değerlerdir."
      ],
      "metadata": {
        "colab": {
          "base_uri": "https://localhost:8080/"
        },
        "id": "XWvYjGPXVR0t",
        "outputId": "673bb18e-5c73-4426-b80c-6bff33cd6a86"
      },
      "execution_count": 2,
      "outputs": [
        {
          "output_type": "execute_result",
          "data": {
            "text/plain": [
              "400"
            ]
          },
          "metadata": {},
          "execution_count": 2
        }
      ]
    },
    {
      "cell_type": "code",
      "source": [
        "carpma=lambda a,b,c:a*b*c\n",
        "carpma(2,3,4)"
      ],
      "metadata": {
        "colab": {
          "base_uri": "https://localhost:8080/"
        },
        "id": "bXUTX035WND5",
        "outputId": "7cd3eeea-d953-49ea-a2e7-2fc29d26bd5a"
      },
      "execution_count": null,
      "outputs": [
        {
          "output_type": "execute_result",
          "data": {
            "text/plain": [
              "24"
            ]
          },
          "metadata": {},
          "execution_count": 25
        }
      ]
    },
    {
      "cell_type": "code",
      "source": [
        "import math\n",
        "math.sqrt(23)"
      ],
      "metadata": {
        "colab": {
          "base_uri": "https://localhost:8080/"
        },
        "id": "YUZHuAvrWhYI",
        "outputId": "40e30d7c-b583-4a60-da3d-4db73459c995"
      },
      "execution_count": null,
      "outputs": [
        {
          "output_type": "execute_result",
          "data": {
            "text/plain": [
              "4.795831523312719"
            ]
          },
          "metadata": {},
          "execution_count": 26
        }
      ]
    },
    {
      "cell_type": "code",
      "source": [
        "def karekok(sayi):\n",
        "  return int(sayi**0.5)\n",
        "\n",
        "karekok(4)"
      ],
      "metadata": {
        "colab": {
          "base_uri": "https://localhost:8080/"
        },
        "id": "S2jMWYU3Wqm9",
        "outputId": "923b911c-62ee-45bb-d1c8-db295a74931c"
      },
      "execution_count": null,
      "outputs": [
        {
          "output_type": "execute_result",
          "data": {
            "text/plain": [
              "2"
            ]
          },
          "metadata": {},
          "execution_count": 28
        }
      ]
    },
    {
      "cell_type": "code",
      "source": [
        "def us(sayi):\n",
        "  return (sayi**3)\n",
        "\n",
        "us(8)"
      ],
      "metadata": {
        "colab": {
          "base_uri": "https://localhost:8080/"
        },
        "id": "RBakkQEHXI3M",
        "outputId": "f5c8d24f-4364-4634-b7c6-ff5733c8ec58"
      },
      "execution_count": null,
      "outputs": [
        {
          "output_type": "execute_result",
          "data": {
            "text/plain": [
              "512"
            ]
          },
          "metadata": {},
          "execution_count": 29
        }
      ]
    },
    {
      "cell_type": "code",
      "source": [
        "math.factorial(5)"
      ],
      "metadata": {
        "colab": {
          "base_uri": "https://localhost:8080/"
        },
        "id": "NX2-oLFJXQPP",
        "outputId": "967ebbc9-b94c-4bca-841f-a5cfc7b41426"
      },
      "execution_count": null,
      "outputs": [
        {
          "output_type": "execute_result",
          "data": {
            "text/plain": [
              "120"
            ]
          },
          "metadata": {},
          "execution_count": 30
        }
      ]
    },
    {
      "cell_type": "code",
      "source": [
        "def faktoriyel(sayi):\n",
        "  if sayi==0 or sayi==1:\n",
        "    return 1\n",
        "  else:\n",
        "    i=1\n",
        "\n",
        "    while i<=sayi:\n",
        "      return sayi*faktoriyel(sayi-1)\n",
        "      i=i+1\n",
        "\n",
        "faktoriyel(5)\n"
      ],
      "metadata": {
        "colab": {
          "base_uri": "https://localhost:8080/"
        },
        "id": "NJcO5u15Xacp",
        "outputId": "ce2a59ef-ece0-4eba-ad4f-fbe6f4b23c10"
      },
      "execution_count": null,
      "outputs": [
        {
          "output_type": "execute_result",
          "data": {
            "text/plain": [
              "120"
            ]
          },
          "metadata": {},
          "execution_count": 31
        }
      ]
    },
    {
      "cell_type": "code",
      "source": [
        "def faktoriyel2(n):\n",
        "  faktoriyel=1\n",
        "  for i in range(1,n+1):\n",
        "    faktoriyel*= i\n",
        "  return faktoriyel"
      ],
      "metadata": {
        "id": "gmKjuYg9YdcO"
      },
      "execution_count": null,
      "outputs": []
    },
    {
      "cell_type": "code",
      "source": [
        "faktoriyel2(5)"
      ],
      "metadata": {
        "id": "Q2deH9xlY8VI",
        "outputId": "899284a2-461c-4689-c039-7d78a2b21620",
        "colab": {
          "base_uri": "https://localhost:8080/"
        }
      },
      "execution_count": null,
      "outputs": [
        {
          "output_type": "execute_result",
          "data": {
            "text/plain": [
              "120"
            ]
          },
          "metadata": {},
          "execution_count": 33
        }
      ]
    }
  ]
}