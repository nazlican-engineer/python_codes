{
  "nbformat": 4,
  "nbformat_minor": 0,
  "metadata": {
    "colab": {
      "provenance": []
    },
    "kernelspec": {
      "name": "python3",
      "display_name": "Python 3"
    },
    "language_info": {
      "name": "python"
    }
  },
  "cells": [
    {
      "cell_type": "markdown",
      "source": [
        "IF ELSE"
      ],
      "metadata": {
        "id": "r_c5ywbbzMQ4"
      }
    },
    {
      "cell_type": "code",
      "source": [
        "a=int(input(\"lütfen bir sayi giriniz\"))\n",
        "if a>5:\n",
        "  print(\"a 5'ten büyüktür\")\n",
        "else:\n",
        "  print(\"a 5'ten küçüktür\")"
      ],
      "metadata": {
        "colab": {
          "base_uri": "https://localhost:8080/"
        },
        "id": "Y1OO_GBdzPMH",
        "outputId": "21050cca-b320-4ccf-b4a6-a049d59c1522"
      },
      "execution_count": null,
      "outputs": [
        {
          "output_type": "stream",
          "name": "stdout",
          "text": [
            "lütfen bir sayi giriniz8\n",
            "a 5'ten büyüktür\n"
          ]
        }
      ]
    },
    {
      "cell_type": "code",
      "source": [
        "sinavnotu=int(input(\"lütfen sinav notunuzu giriniz\"))\n",
        "if(sinavnotu<0) and (sinavnotu>100):\n",
        "  print(\"Yanlis not girdiniz\")\n",
        "\n",
        "elif(sinavnotu>=90) and (sinavnotu<=100):\n",
        "  print(\"tebrikler harf notunuz AA\")\n",
        "\n",
        "elif(sinavnotu>=80) and (sinavnotu<=89):\n",
        "    print(\"BA aldınız\")\n",
        "\n",
        "elif(sinavnotu>=70) and (sinavnotu<=79):\n",
        "    print(\"BB aldınız\")\n",
        "\n",
        "elif(sinavnotu>=60) and (sinavnotu<=69):\n",
        "    print(\"CB aldınız\")\n",
        "\n",
        "elif(sinavnotu>=50) and (sinavnotu<=59):\n",
        "    print(\"CC aldınız\")\n",
        "\n",
        "elif(sinavnotu>=40)  and (sinavnotu<=59):\n",
        "    print(\"Dc aldınız\")\n"
      ],
      "metadata": {
        "colab": {
          "base_uri": "https://localhost:8080/"
        },
        "id": "n8-D9iafz3r5",
        "outputId": "542853aa-a10c-4c67-8701-2e8fa8e5a377"
      },
      "execution_count": null,
      "outputs": [
        {
          "output_type": "stream",
          "name": "stdout",
          "text": [
            "lütfen sinav notunuzu giriniz67\n",
            "CB aldınız\n"
          ]
        }
      ]
    },
    {
      "cell_type": "code",
      "source": [
        "a=10\n",
        "b=100 if a==10 else 50\n",
        "print(b)"
      ],
      "metadata": {
        "colab": {
          "base_uri": "https://localhost:8080/"
        },
        "id": "OEW5_lm-2bRd",
        "outputId": "46012845-9ae1-4555-df9a-b464e191cc24"
      },
      "execution_count": 1,
      "outputs": [
        {
          "output_type": "stream",
          "name": "stdout",
          "text": [
            "100\n"
          ]
        }
      ]
    },
    {
      "cell_type": "code",
      "source": [
        "durum=int(input(\"lutfen durum giriniz\"))\n",
        "print(\"giris basarili\") if durum==1 else print(\"giris basarisiz\")"
      ],
      "metadata": {
        "colab": {
          "base_uri": "https://localhost:8080/"
        },
        "id": "-WRpUimF3PVM",
        "outputId": "1ecf5c66-e886-4378-d215-19cf161371f7"
      },
      "execution_count": 2,
      "outputs": [
        {
          "output_type": "stream",
          "name": "stdout",
          "text": [
            "lutfen durum giriniz1\n",
            "giris basarili\n"
          ]
        }
      ]
    },
    {
      "cell_type": "code",
      "source": [
        "a=int(input(\"lutfen bir sayi giriniz \"))\n",
        "if a>4:\n",
        "  print(1)\n",
        "  if a==5:\n",
        "    print(2)\n",
        "  else:\n",
        "    print(3)\n",
        "    if a>12:\n",
        "      print(4)\n",
        "    else:\n",
        "      print(5)\n",
        "else:\n",
        "  print(6)"
      ],
      "metadata": {
        "colab": {
          "base_uri": "https://localhost:8080/"
        },
        "id": "D5oGYzPa3o7-",
        "outputId": "896d8d57-67e2-42dd-af2f-5e6dd857c482"
      },
      "execution_count": null,
      "outputs": [
        {
          "output_type": "stream",
          "name": "stdout",
          "text": [
            "lutfen bir sayi giriniz 8\n",
            "1\n",
            "3\n",
            "5\n"
          ]
        }
      ]
    }
  ]
}