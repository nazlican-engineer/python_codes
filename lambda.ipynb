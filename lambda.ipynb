{
  "nbformat": 4,
  "nbformat_minor": 0,
  "metadata": {
    "colab": {
      "provenance": []
    },
    "kernelspec": {
      "name": "python3",
      "display_name": "Python 3"
    },
    "language_info": {
      "name": "python"
    }
  },
  "cells": [
    {
      "cell_type": "markdown",
      "source": [
        "**LAMBDA**"
      ],
      "metadata": {
        "id": "1eEiooEJR-pO"
      }
    },
    {
      "cell_type": "code",
      "source": [
        "mul_two=lambda x:x*2"
      ],
      "metadata": {
        "id": "ini_TnC8SCDp"
      },
      "execution_count": 2,
      "outputs": []
    },
    {
      "cell_type": "code",
      "source": [
        "mul_two(4)"
      ],
      "metadata": {
        "colab": {
          "base_uri": "https://localhost:8080/"
        },
        "id": "cE_wuNe9SHM6",
        "outputId": "69bb1074-c0dc-4d56-fbae-7501b254f210"
      },
      "execution_count": 3,
      "outputs": [
        {
          "output_type": "execute_result",
          "data": {
            "text/plain": [
              "8"
            ]
          },
          "metadata": {},
          "execution_count": 3
        }
      ]
    },
    {
      "cell_type": "code",
      "source": [
        "sum=lambda x,y:x+y"
      ],
      "metadata": {
        "id": "Wnrm6QTmSS19"
      },
      "execution_count": 4,
      "outputs": []
    },
    {
      "cell_type": "code",
      "source": [
        "sum(5,7)"
      ],
      "metadata": {
        "colab": {
          "base_uri": "https://localhost:8080/"
        },
        "id": "a9jRBCYdSaGx",
        "outputId": "607f6513-089c-4d07-ee2e-e683694abe38"
      },
      "execution_count": 5,
      "outputs": [
        {
          "output_type": "execute_result",
          "data": {
            "text/plain": [
              "12"
            ]
          },
          "metadata": {},
          "execution_count": 5
        }
      ]
    },
    {
      "cell_type": "code",
      "source": [
        "(lambda x,y:x*2/y)(3,2)"
      ],
      "metadata": {
        "colab": {
          "base_uri": "https://localhost:8080/"
        },
        "id": "MaovWARySdPG",
        "outputId": "b99df5ad-0a3d-40e2-ef2d-c4c47d343075"
      },
      "execution_count": 8,
      "outputs": [
        {
          "output_type": "execute_result",
          "data": {
            "text/plain": [
              "3.0"
            ]
          },
          "metadata": {},
          "execution_count": 8
        }
      ]
    },
    {
      "cell_type": "code",
      "source": [
        "salary_list=[1000,2000,3000,4000]\n",
        "total_salary_list=[(lambda x:x*1.1)(salary) for salary in salary_list]\n",
        "total_salary_list\n"
      ],
      "metadata": {
        "colab": {
          "base_uri": "https://localhost:8080/"
        },
        "id": "claUJccWSo0I",
        "outputId": "ea01dfa7-a5d6-4857-ea3e-6abb15c99818"
      },
      "execution_count": 19,
      "outputs": [
        {
          "output_type": "execute_result",
          "data": {
            "text/plain": [
              "[1100.0, 2200.0, 3300.0000000000005, 4400.0]"
            ]
          },
          "metadata": {},
          "execution_count": 19
        }
      ]
    },
    {
      "cell_type": "code",
      "source": [
        "jobs_data = [\n",
        "    {'job_title': 'Data Scientist', 'job_skills': ['Python', 'Machine Learning'], 'remote': True},\n",
        "    {'job_title': 'Data Analyst', 'job_skills': ['Excel', 'SQL'], 'remote': False},\n",
        "    {'job_title': 'Machine Learning Engineer', 'job_skills': ['Python', 'TensorFlow', 'Keras'], 'remote': True},\n",
        "    {'job_title': 'Software Developer', 'job_skills': ['Java', 'C++'], 'remote': True},\n",
        "    {'job_title': 'Data Scientist', 'job_skills': ['R', 'Statistics'], 'remote': False}\n",
        "]\n",
        "#yetenek olarak python bilenler ve uzaktan çalışanları gtir\n",
        "filtered_jobs = list(filter(lambda x: x['remote'] and 'Python' in x['job_skills'], jobs_data))\n",
        "print(filtered_jobs)\n",
        "#filter belirli  elemanlar seçer\n"
      ],
      "metadata": {
        "colab": {
          "base_uri": "https://localhost:8080/"
        },
        "id": "O7hMLDN1Xqt_",
        "outputId": "d51b0c90-ce43-4faf-9496-a42384a18af3"
      },
      "execution_count": 24,
      "outputs": [
        {
          "output_type": "stream",
          "name": "stdout",
          "text": [
            "[{'job_title': 'Data Scientist', 'job_skills': ['Python', 'Machine Learning'], 'remote': True}, {'job_title': 'Machine Learning Engineer', 'job_skills': ['Python', 'TensorFlow', 'Keras'], 'remote': True}]\n"
          ]
        }
      ]
    },
    {
      "cell_type": "code",
      "source": [
        "list1=[1,2,3,4,5]\n",
        "filtered_list1=list(filter (lambda x: x%2 ==0,list1))\n",
        "filtered_list1"
      ],
      "metadata": {
        "colab": {
          "base_uri": "https://localhost:8080/"
        },
        "id": "TtYHJj-Vbfa3",
        "outputId": "1ab8e3d5-98d4-44cc-e8bb-d855fd9752d8"
      },
      "execution_count": 28,
      "outputs": [
        {
          "output_type": "execute_result",
          "data": {
            "text/plain": [
              "[2, 4]"
            ]
          },
          "metadata": {},
          "execution_count": 28
        }
      ]
    }
  ]
}